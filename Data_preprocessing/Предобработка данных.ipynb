{
  "cells": [
    {
      "cell_type": "markdown",
      "metadata": {
        "id": "view-in-github",
        "colab_type": "text"
      },
      "source": [
        "<a href=\"https://colab.research.google.com/github/Alexander-1380/Yandex_practicum/blob/main/%D0%9F%D1%80%D0%B5%D0%B4%D0%BE%D0%B1%D1%80%D0%B0%D0%B1%D0%BE%D1%82%D0%BA%D0%B0%20%D0%B4%D0%B0%D0%BD%D0%BD%D1%8B%D1%85%20-%20%D0%98%D1%81%D1%81%D0%BB%D0%B5%D0%B4%D0%BE%D0%B2%D0%B0%D0%BD%D0%B8%D0%B5_%D0%BD%D0%B0%D0%B4%D0%B5%D0%B6%D0%BD%D0%BE%D1%81%D1%82%D0%B8_%D0%B7%D0%B0%D0%B5%D0%BC%D1%89%D0%B8%D0%BA%D0%BE%D0%B2.ipynb\" target=\"_parent\"><img src=\"https://colab.research.google.com/assets/colab-badge.svg\" alt=\"Open In Colab\"/></a>"
      ]
    },
    {
      "cell_type": "markdown",
      "id": "5ad89936",
      "metadata": {
        "deletable": false,
        "editable": false,
        "id": "5ad89936"
      },
      "source": [
        "# Исследование надежности заемщиков\n"
      ]
    },
    {
      "cell_type": "markdown",
      "id": "03aecd04",
      "metadata": {
        "deletable": false,
        "editable": false,
        "id": "03aecd04"
      },
      "source": [
        "## Откройте таблицу и изучите общую информацию о данных"
      ]
    },
    {
      "cell_type": "markdown",
      "id": "e6fbcb4e",
      "metadata": {
        "deletable": false,
        "editable": false,
        "id": "e6fbcb4e"
      },
      "source": [
        "**Задание 1. Импортируйте библиотеку pandas. Считайте данные из csv-файла в датафрейм и сохраните в переменную `data`. Путь к файлу:**\n",
        "\n",
        "`/datasets/data.csv`"
      ]
    },
    {
      "cell_type": "code",
      "execution_count": null,
      "id": "42352c70",
      "metadata": {
        "deletable": false,
        "id": "42352c70"
      },
      "outputs": [],
      "source": [
        "import pandas as pd\n",
        "\n",
        "try:\n",
        "    data = pd.read_csv('/datasets/data.csv')\n",
        "except:\n",
        "    data = pd.read_csv('https://code.s3.yandex.net/datasets/data.csv')"
      ]
    },
    {
      "cell_type": "markdown",
      "id": "13568115",
      "metadata": {
        "deletable": false,
        "editable": false,
        "id": "13568115"
      },
      "source": [
        "**Задание 2. Выведите первые 20 строчек датафрейма `data` на экран.**"
      ]
    },
    {
      "cell_type": "code",
      "execution_count": null,
      "id": "f4b3fbe8",
      "metadata": {
        "deletable": false,
        "id": "f4b3fbe8",
        "outputId": "5d7976a2-7d39-4d76-9820-84bc4096f191",
        "colab": {
          "base_uri": "https://localhost:8080/",
          "height": 1000
        }
      },
      "outputs": [
        {
          "output_type": "execute_result",
          "data": {
            "text/plain": [
              "    children  days_employed  dob_years            education  education_id  \\\n",
              "0          1   -8437.673028         42               высшее             0   \n",
              "1          1   -4024.803754         36              среднее             1   \n",
              "2          0   -5623.422610         33              Среднее             1   \n",
              "3          3   -4124.747207         32              среднее             1   \n",
              "4          0  340266.072047         53              среднее             1   \n",
              "5          0    -926.185831         27               высшее             0   \n",
              "6          0   -2879.202052         43               высшее             0   \n",
              "7          0    -152.779569         50              СРЕДНЕЕ             1   \n",
              "8          2   -6929.865299         35               ВЫСШЕЕ             0   \n",
              "9          0   -2188.756445         41              среднее             1   \n",
              "10         2   -4171.483647         36               высшее             0   \n",
              "11         0    -792.701887         40              среднее             1   \n",
              "12         0            NaN         65              среднее             1   \n",
              "13         0   -1846.641941         54  неоконченное высшее             2   \n",
              "14         0   -1844.956182         56               высшее             0   \n",
              "15         1    -972.364419         26              среднее             1   \n",
              "16         0   -1719.934226         35              среднее             1   \n",
              "17         0   -2369.999720         33               высшее             0   \n",
              "18         0  400281.136913         53              среднее             1   \n",
              "19         0  -10038.818549         48              СРЕДНЕЕ             1   \n",
              "\n",
              "       family_status  family_status_id gender income_type  debt  \\\n",
              "0    женат / замужем                 0      F   сотрудник     0   \n",
              "1    женат / замужем                 0      F   сотрудник     0   \n",
              "2    женат / замужем                 0      M   сотрудник     0   \n",
              "3    женат / замужем                 0      M   сотрудник     0   \n",
              "4   гражданский брак                 1      F   пенсионер     0   \n",
              "5   гражданский брак                 1      M   компаньон     0   \n",
              "6    женат / замужем                 0      F   компаньон     0   \n",
              "7    женат / замужем                 0      M   сотрудник     0   \n",
              "8   гражданский брак                 1      F   сотрудник     0   \n",
              "9    женат / замужем                 0      M   сотрудник     0   \n",
              "10   женат / замужем                 0      M   компаньон     0   \n",
              "11   женат / замужем                 0      F   сотрудник     0   \n",
              "12  гражданский брак                 1      M   пенсионер     0   \n",
              "13   женат / замужем                 0      F   сотрудник     0   \n",
              "14  гражданский брак                 1      F   компаньон     1   \n",
              "15   женат / замужем                 0      F   сотрудник     0   \n",
              "16   женат / замужем                 0      F   сотрудник     0   \n",
              "17  гражданский брак                 1      M   сотрудник     0   \n",
              "18    вдовец / вдова                 2      F   пенсионер     0   \n",
              "19         в разводе                 3      F   сотрудник     0   \n",
              "\n",
              "     total_income                                 purpose  \n",
              "0   253875.639453                           покупка жилья  \n",
              "1   112080.014102                 приобретение автомобиля  \n",
              "2   145885.952297                           покупка жилья  \n",
              "3   267628.550329              дополнительное образование  \n",
              "4   158616.077870                         сыграть свадьбу  \n",
              "5   255763.565419                           покупка жилья  \n",
              "6   240525.971920                       операции с жильем  \n",
              "7   135823.934197                             образование  \n",
              "8    95856.832424                   на проведение свадьбы  \n",
              "9   144425.938277                 покупка жилья для семьи  \n",
              "10  113943.491460                    покупка недвижимости  \n",
              "11   77069.234271       покупка коммерческой недвижимости  \n",
              "12            NaN                         сыграть свадьбу  \n",
              "13  130458.228857                 приобретение автомобиля  \n",
              "14  165127.911772              покупка жилой недвижимости  \n",
              "15  116820.904450  строительство собственной недвижимости  \n",
              "16  289202.704229                            недвижимость  \n",
              "17   90410.586745              строительство недвижимости  \n",
              "18   56823.777243      на покупку подержанного автомобиля  \n",
              "19  242831.107982            на покупку своего автомобиля  "
            ],
            "text/html": [
              "\n",
              "\n",
              "  <div id=\"df-359a57cc-3f49-4dec-8266-60a0a36fad45\">\n",
              "    <div class=\"colab-df-container\">\n",
              "      <div>\n",
              "<style scoped>\n",
              "    .dataframe tbody tr th:only-of-type {\n",
              "        vertical-align: middle;\n",
              "    }\n",
              "\n",
              "    .dataframe tbody tr th {\n",
              "        vertical-align: top;\n",
              "    }\n",
              "\n",
              "    .dataframe thead th {\n",
              "        text-align: right;\n",
              "    }\n",
              "</style>\n",
              "<table border=\"1\" class=\"dataframe\">\n",
              "  <thead>\n",
              "    <tr style=\"text-align: right;\">\n",
              "      <th></th>\n",
              "      <th>children</th>\n",
              "      <th>days_employed</th>\n",
              "      <th>dob_years</th>\n",
              "      <th>education</th>\n",
              "      <th>education_id</th>\n",
              "      <th>family_status</th>\n",
              "      <th>family_status_id</th>\n",
              "      <th>gender</th>\n",
              "      <th>income_type</th>\n",
              "      <th>debt</th>\n",
              "      <th>total_income</th>\n",
              "      <th>purpose</th>\n",
              "    </tr>\n",
              "  </thead>\n",
              "  <tbody>\n",
              "    <tr>\n",
              "      <th>0</th>\n",
              "      <td>1</td>\n",
              "      <td>-8437.673028</td>\n",
              "      <td>42</td>\n",
              "      <td>высшее</td>\n",
              "      <td>0</td>\n",
              "      <td>женат / замужем</td>\n",
              "      <td>0</td>\n",
              "      <td>F</td>\n",
              "      <td>сотрудник</td>\n",
              "      <td>0</td>\n",
              "      <td>253875.639453</td>\n",
              "      <td>покупка жилья</td>\n",
              "    </tr>\n",
              "    <tr>\n",
              "      <th>1</th>\n",
              "      <td>1</td>\n",
              "      <td>-4024.803754</td>\n",
              "      <td>36</td>\n",
              "      <td>среднее</td>\n",
              "      <td>1</td>\n",
              "      <td>женат / замужем</td>\n",
              "      <td>0</td>\n",
              "      <td>F</td>\n",
              "      <td>сотрудник</td>\n",
              "      <td>0</td>\n",
              "      <td>112080.014102</td>\n",
              "      <td>приобретение автомобиля</td>\n",
              "    </tr>\n",
              "    <tr>\n",
              "      <th>2</th>\n",
              "      <td>0</td>\n",
              "      <td>-5623.422610</td>\n",
              "      <td>33</td>\n",
              "      <td>Среднее</td>\n",
              "      <td>1</td>\n",
              "      <td>женат / замужем</td>\n",
              "      <td>0</td>\n",
              "      <td>M</td>\n",
              "      <td>сотрудник</td>\n",
              "      <td>0</td>\n",
              "      <td>145885.952297</td>\n",
              "      <td>покупка жилья</td>\n",
              "    </tr>\n",
              "    <tr>\n",
              "      <th>3</th>\n",
              "      <td>3</td>\n",
              "      <td>-4124.747207</td>\n",
              "      <td>32</td>\n",
              "      <td>среднее</td>\n",
              "      <td>1</td>\n",
              "      <td>женат / замужем</td>\n",
              "      <td>0</td>\n",
              "      <td>M</td>\n",
              "      <td>сотрудник</td>\n",
              "      <td>0</td>\n",
              "      <td>267628.550329</td>\n",
              "      <td>дополнительное образование</td>\n",
              "    </tr>\n",
              "    <tr>\n",
              "      <th>4</th>\n",
              "      <td>0</td>\n",
              "      <td>340266.072047</td>\n",
              "      <td>53</td>\n",
              "      <td>среднее</td>\n",
              "      <td>1</td>\n",
              "      <td>гражданский брак</td>\n",
              "      <td>1</td>\n",
              "      <td>F</td>\n",
              "      <td>пенсионер</td>\n",
              "      <td>0</td>\n",
              "      <td>158616.077870</td>\n",
              "      <td>сыграть свадьбу</td>\n",
              "    </tr>\n",
              "    <tr>\n",
              "      <th>5</th>\n",
              "      <td>0</td>\n",
              "      <td>-926.185831</td>\n",
              "      <td>27</td>\n",
              "      <td>высшее</td>\n",
              "      <td>0</td>\n",
              "      <td>гражданский брак</td>\n",
              "      <td>1</td>\n",
              "      <td>M</td>\n",
              "      <td>компаньон</td>\n",
              "      <td>0</td>\n",
              "      <td>255763.565419</td>\n",
              "      <td>покупка жилья</td>\n",
              "    </tr>\n",
              "    <tr>\n",
              "      <th>6</th>\n",
              "      <td>0</td>\n",
              "      <td>-2879.202052</td>\n",
              "      <td>43</td>\n",
              "      <td>высшее</td>\n",
              "      <td>0</td>\n",
              "      <td>женат / замужем</td>\n",
              "      <td>0</td>\n",
              "      <td>F</td>\n",
              "      <td>компаньон</td>\n",
              "      <td>0</td>\n",
              "      <td>240525.971920</td>\n",
              "      <td>операции с жильем</td>\n",
              "    </tr>\n",
              "    <tr>\n",
              "      <th>7</th>\n",
              "      <td>0</td>\n",
              "      <td>-152.779569</td>\n",
              "      <td>50</td>\n",
              "      <td>СРЕДНЕЕ</td>\n",
              "      <td>1</td>\n",
              "      <td>женат / замужем</td>\n",
              "      <td>0</td>\n",
              "      <td>M</td>\n",
              "      <td>сотрудник</td>\n",
              "      <td>0</td>\n",
              "      <td>135823.934197</td>\n",
              "      <td>образование</td>\n",
              "    </tr>\n",
              "    <tr>\n",
              "      <th>8</th>\n",
              "      <td>2</td>\n",
              "      <td>-6929.865299</td>\n",
              "      <td>35</td>\n",
              "      <td>ВЫСШЕЕ</td>\n",
              "      <td>0</td>\n",
              "      <td>гражданский брак</td>\n",
              "      <td>1</td>\n",
              "      <td>F</td>\n",
              "      <td>сотрудник</td>\n",
              "      <td>0</td>\n",
              "      <td>95856.832424</td>\n",
              "      <td>на проведение свадьбы</td>\n",
              "    </tr>\n",
              "    <tr>\n",
              "      <th>9</th>\n",
              "      <td>0</td>\n",
              "      <td>-2188.756445</td>\n",
              "      <td>41</td>\n",
              "      <td>среднее</td>\n",
              "      <td>1</td>\n",
              "      <td>женат / замужем</td>\n",
              "      <td>0</td>\n",
              "      <td>M</td>\n",
              "      <td>сотрудник</td>\n",
              "      <td>0</td>\n",
              "      <td>144425.938277</td>\n",
              "      <td>покупка жилья для семьи</td>\n",
              "    </tr>\n",
              "    <tr>\n",
              "      <th>10</th>\n",
              "      <td>2</td>\n",
              "      <td>-4171.483647</td>\n",
              "      <td>36</td>\n",
              "      <td>высшее</td>\n",
              "      <td>0</td>\n",
              "      <td>женат / замужем</td>\n",
              "      <td>0</td>\n",
              "      <td>M</td>\n",
              "      <td>компаньон</td>\n",
              "      <td>0</td>\n",
              "      <td>113943.491460</td>\n",
              "      <td>покупка недвижимости</td>\n",
              "    </tr>\n",
              "    <tr>\n",
              "      <th>11</th>\n",
              "      <td>0</td>\n",
              "      <td>-792.701887</td>\n",
              "      <td>40</td>\n",
              "      <td>среднее</td>\n",
              "      <td>1</td>\n",
              "      <td>женат / замужем</td>\n",
              "      <td>0</td>\n",
              "      <td>F</td>\n",
              "      <td>сотрудник</td>\n",
              "      <td>0</td>\n",
              "      <td>77069.234271</td>\n",
              "      <td>покупка коммерческой недвижимости</td>\n",
              "    </tr>\n",
              "    <tr>\n",
              "      <th>12</th>\n",
              "      <td>0</td>\n",
              "      <td>NaN</td>\n",
              "      <td>65</td>\n",
              "      <td>среднее</td>\n",
              "      <td>1</td>\n",
              "      <td>гражданский брак</td>\n",
              "      <td>1</td>\n",
              "      <td>M</td>\n",
              "      <td>пенсионер</td>\n",
              "      <td>0</td>\n",
              "      <td>NaN</td>\n",
              "      <td>сыграть свадьбу</td>\n",
              "    </tr>\n",
              "    <tr>\n",
              "      <th>13</th>\n",
              "      <td>0</td>\n",
              "      <td>-1846.641941</td>\n",
              "      <td>54</td>\n",
              "      <td>неоконченное высшее</td>\n",
              "      <td>2</td>\n",
              "      <td>женат / замужем</td>\n",
              "      <td>0</td>\n",
              "      <td>F</td>\n",
              "      <td>сотрудник</td>\n",
              "      <td>0</td>\n",
              "      <td>130458.228857</td>\n",
              "      <td>приобретение автомобиля</td>\n",
              "    </tr>\n",
              "    <tr>\n",
              "      <th>14</th>\n",
              "      <td>0</td>\n",
              "      <td>-1844.956182</td>\n",
              "      <td>56</td>\n",
              "      <td>высшее</td>\n",
              "      <td>0</td>\n",
              "      <td>гражданский брак</td>\n",
              "      <td>1</td>\n",
              "      <td>F</td>\n",
              "      <td>компаньон</td>\n",
              "      <td>1</td>\n",
              "      <td>165127.911772</td>\n",
              "      <td>покупка жилой недвижимости</td>\n",
              "    </tr>\n",
              "    <tr>\n",
              "      <th>15</th>\n",
              "      <td>1</td>\n",
              "      <td>-972.364419</td>\n",
              "      <td>26</td>\n",
              "      <td>среднее</td>\n",
              "      <td>1</td>\n",
              "      <td>женат / замужем</td>\n",
              "      <td>0</td>\n",
              "      <td>F</td>\n",
              "      <td>сотрудник</td>\n",
              "      <td>0</td>\n",
              "      <td>116820.904450</td>\n",
              "      <td>строительство собственной недвижимости</td>\n",
              "    </tr>\n",
              "    <tr>\n",
              "      <th>16</th>\n",
              "      <td>0</td>\n",
              "      <td>-1719.934226</td>\n",
              "      <td>35</td>\n",
              "      <td>среднее</td>\n",
              "      <td>1</td>\n",
              "      <td>женат / замужем</td>\n",
              "      <td>0</td>\n",
              "      <td>F</td>\n",
              "      <td>сотрудник</td>\n",
              "      <td>0</td>\n",
              "      <td>289202.704229</td>\n",
              "      <td>недвижимость</td>\n",
              "    </tr>\n",
              "    <tr>\n",
              "      <th>17</th>\n",
              "      <td>0</td>\n",
              "      <td>-2369.999720</td>\n",
              "      <td>33</td>\n",
              "      <td>высшее</td>\n",
              "      <td>0</td>\n",
              "      <td>гражданский брак</td>\n",
              "      <td>1</td>\n",
              "      <td>M</td>\n",
              "      <td>сотрудник</td>\n",
              "      <td>0</td>\n",
              "      <td>90410.586745</td>\n",
              "      <td>строительство недвижимости</td>\n",
              "    </tr>\n",
              "    <tr>\n",
              "      <th>18</th>\n",
              "      <td>0</td>\n",
              "      <td>400281.136913</td>\n",
              "      <td>53</td>\n",
              "      <td>среднее</td>\n",
              "      <td>1</td>\n",
              "      <td>вдовец / вдова</td>\n",
              "      <td>2</td>\n",
              "      <td>F</td>\n",
              "      <td>пенсионер</td>\n",
              "      <td>0</td>\n",
              "      <td>56823.777243</td>\n",
              "      <td>на покупку подержанного автомобиля</td>\n",
              "    </tr>\n",
              "    <tr>\n",
              "      <th>19</th>\n",
              "      <td>0</td>\n",
              "      <td>-10038.818549</td>\n",
              "      <td>48</td>\n",
              "      <td>СРЕДНЕЕ</td>\n",
              "      <td>1</td>\n",
              "      <td>в разводе</td>\n",
              "      <td>3</td>\n",
              "      <td>F</td>\n",
              "      <td>сотрудник</td>\n",
              "      <td>0</td>\n",
              "      <td>242831.107982</td>\n",
              "      <td>на покупку своего автомобиля</td>\n",
              "    </tr>\n",
              "  </tbody>\n",
              "</table>\n",
              "</div>\n",
              "      <button class=\"colab-df-convert\" onclick=\"convertToInteractive('df-359a57cc-3f49-4dec-8266-60a0a36fad45')\"\n",
              "              title=\"Convert this dataframe to an interactive table.\"\n",
              "              style=\"display:none;\">\n",
              "\n",
              "  <svg xmlns=\"http://www.w3.org/2000/svg\" height=\"24px\"viewBox=\"0 0 24 24\"\n",
              "       width=\"24px\">\n",
              "    <path d=\"M0 0h24v24H0V0z\" fill=\"none\"/>\n",
              "    <path d=\"M18.56 5.44l.94 2.06.94-2.06 2.06-.94-2.06-.94-.94-2.06-.94 2.06-2.06.94zm-11 1L8.5 8.5l.94-2.06 2.06-.94-2.06-.94L8.5 2.5l-.94 2.06-2.06.94zm10 10l.94 2.06.94-2.06 2.06-.94-2.06-.94-.94-2.06-.94 2.06-2.06.94z\"/><path d=\"M17.41 7.96l-1.37-1.37c-.4-.4-.92-.59-1.43-.59-.52 0-1.04.2-1.43.59L10.3 9.45l-7.72 7.72c-.78.78-.78 2.05 0 2.83L4 21.41c.39.39.9.59 1.41.59.51 0 1.02-.2 1.41-.59l7.78-7.78 2.81-2.81c.8-.78.8-2.07 0-2.86zM5.41 20L4 18.59l7.72-7.72 1.47 1.35L5.41 20z\"/>\n",
              "  </svg>\n",
              "      </button>\n",
              "\n",
              "\n",
              "\n",
              "    <div id=\"df-45e8ad0b-b212-4f96-bcb4-6d5235116d3b\">\n",
              "      <button class=\"colab-df-quickchart\" onclick=\"quickchart('df-45e8ad0b-b212-4f96-bcb4-6d5235116d3b')\"\n",
              "              title=\"Suggest charts.\"\n",
              "              style=\"display:none;\">\n",
              "\n",
              "<svg xmlns=\"http://www.w3.org/2000/svg\" height=\"24px\"viewBox=\"0 0 24 24\"\n",
              "     width=\"24px\">\n",
              "    <g>\n",
              "        <path d=\"M19 3H5c-1.1 0-2 .9-2 2v14c0 1.1.9 2 2 2h14c1.1 0 2-.9 2-2V5c0-1.1-.9-2-2-2zM9 17H7v-7h2v7zm4 0h-2V7h2v10zm4 0h-2v-4h2v4z\"/>\n",
              "    </g>\n",
              "</svg>\n",
              "      </button>\n",
              "    </div>\n",
              "\n",
              "<style>\n",
              "  .colab-df-quickchart {\n",
              "    background-color: #E8F0FE;\n",
              "    border: none;\n",
              "    border-radius: 50%;\n",
              "    cursor: pointer;\n",
              "    display: none;\n",
              "    fill: #1967D2;\n",
              "    height: 32px;\n",
              "    padding: 0 0 0 0;\n",
              "    width: 32px;\n",
              "  }\n",
              "\n",
              "  .colab-df-quickchart:hover {\n",
              "    background-color: #E2EBFA;\n",
              "    box-shadow: 0px 1px 2px rgba(60, 64, 67, 0.3), 0px 1px 3px 1px rgba(60, 64, 67, 0.15);\n",
              "    fill: #174EA6;\n",
              "  }\n",
              "\n",
              "  [theme=dark] .colab-df-quickchart {\n",
              "    background-color: #3B4455;\n",
              "    fill: #D2E3FC;\n",
              "  }\n",
              "\n",
              "  [theme=dark] .colab-df-quickchart:hover {\n",
              "    background-color: #434B5C;\n",
              "    box-shadow: 0px 1px 3px 1px rgba(0, 0, 0, 0.15);\n",
              "    filter: drop-shadow(0px 1px 2px rgba(0, 0, 0, 0.3));\n",
              "    fill: #FFFFFF;\n",
              "  }\n",
              "</style>\n",
              "\n",
              "    <script>\n",
              "      async function quickchart(key) {\n",
              "        const containerElement = document.querySelector('#' + key);\n",
              "        const charts = await google.colab.kernel.invokeFunction(\n",
              "            'suggestCharts', [key], {});\n",
              "      }\n",
              "    </script>\n",
              "\n",
              "      <script>\n",
              "\n",
              "function displayQuickchartButton(domScope) {\n",
              "  let quickchartButtonEl =\n",
              "    domScope.querySelector('#df-45e8ad0b-b212-4f96-bcb4-6d5235116d3b button.colab-df-quickchart');\n",
              "  quickchartButtonEl.style.display =\n",
              "    google.colab.kernel.accessAllowed ? 'block' : 'none';\n",
              "}\n",
              "\n",
              "        displayQuickchartButton(document);\n",
              "      </script>\n",
              "      <style>\n",
              "    .colab-df-container {\n",
              "      display:flex;\n",
              "      flex-wrap:wrap;\n",
              "      gap: 12px;\n",
              "    }\n",
              "\n",
              "    .colab-df-convert {\n",
              "      background-color: #E8F0FE;\n",
              "      border: none;\n",
              "      border-radius: 50%;\n",
              "      cursor: pointer;\n",
              "      display: none;\n",
              "      fill: #1967D2;\n",
              "      height: 32px;\n",
              "      padding: 0 0 0 0;\n",
              "      width: 32px;\n",
              "    }\n",
              "\n",
              "    .colab-df-convert:hover {\n",
              "      background-color: #E2EBFA;\n",
              "      box-shadow: 0px 1px 2px rgba(60, 64, 67, 0.3), 0px 1px 3px 1px rgba(60, 64, 67, 0.15);\n",
              "      fill: #174EA6;\n",
              "    }\n",
              "\n",
              "    [theme=dark] .colab-df-convert {\n",
              "      background-color: #3B4455;\n",
              "      fill: #D2E3FC;\n",
              "    }\n",
              "\n",
              "    [theme=dark] .colab-df-convert:hover {\n",
              "      background-color: #434B5C;\n",
              "      box-shadow: 0px 1px 3px 1px rgba(0, 0, 0, 0.15);\n",
              "      filter: drop-shadow(0px 1px 2px rgba(0, 0, 0, 0.3));\n",
              "      fill: #FFFFFF;\n",
              "    }\n",
              "  </style>\n",
              "\n",
              "      <script>\n",
              "        const buttonEl =\n",
              "          document.querySelector('#df-359a57cc-3f49-4dec-8266-60a0a36fad45 button.colab-df-convert');\n",
              "        buttonEl.style.display =\n",
              "          google.colab.kernel.accessAllowed ? 'block' : 'none';\n",
              "\n",
              "        async function convertToInteractive(key) {\n",
              "          const element = document.querySelector('#df-359a57cc-3f49-4dec-8266-60a0a36fad45');\n",
              "          const dataTable =\n",
              "            await google.colab.kernel.invokeFunction('convertToInteractive',\n",
              "                                                     [key], {});\n",
              "          if (!dataTable) return;\n",
              "\n",
              "          const docLinkHtml = 'Like what you see? Visit the ' +\n",
              "            '<a target=\"_blank\" href=https://colab.research.google.com/notebooks/data_table.ipynb>data table notebook</a>'\n",
              "            + ' to learn more about interactive tables.';\n",
              "          element.innerHTML = '';\n",
              "          dataTable['output_type'] = 'display_data';\n",
              "          await google.colab.output.renderOutput(dataTable, element);\n",
              "          const docLink = document.createElement('div');\n",
              "          docLink.innerHTML = docLinkHtml;\n",
              "          element.appendChild(docLink);\n",
              "        }\n",
              "      </script>\n",
              "    </div>\n",
              "  </div>\n"
            ]
          },
          "metadata": {},
          "execution_count": 2
        }
      ],
      "source": [
        "data.head(20)"
      ]
    },
    {
      "cell_type": "markdown",
      "id": "684e275a",
      "metadata": {
        "deletable": false,
        "editable": false,
        "id": "684e275a"
      },
      "source": [
        "**Задание 3. Выведите основную информацию о датафрейме с помощью метода `info()`.**"
      ]
    },
    {
      "cell_type": "code",
      "execution_count": null,
      "id": "98fa34ae",
      "metadata": {
        "deletable": false,
        "id": "98fa34ae",
        "outputId": "9d4ead8c-8400-4337-93aa-41d7b861bc73",
        "colab": {
          "base_uri": "https://localhost:8080/"
        }
      },
      "outputs": [
        {
          "output_type": "stream",
          "name": "stdout",
          "text": [
            "<class 'pandas.core.frame.DataFrame'>\n",
            "RangeIndex: 21525 entries, 0 to 21524\n",
            "Data columns (total 12 columns):\n",
            " #   Column            Non-Null Count  Dtype  \n",
            "---  ------            --------------  -----  \n",
            " 0   children          21525 non-null  int64  \n",
            " 1   days_employed     19351 non-null  float64\n",
            " 2   dob_years         21525 non-null  int64  \n",
            " 3   education         21525 non-null  object \n",
            " 4   education_id      21525 non-null  int64  \n",
            " 5   family_status     21525 non-null  object \n",
            " 6   family_status_id  21525 non-null  int64  \n",
            " 7   gender            21525 non-null  object \n",
            " 8   income_type       21525 non-null  object \n",
            " 9   debt              21525 non-null  int64  \n",
            " 10  total_income      19351 non-null  float64\n",
            " 11  purpose           21525 non-null  object \n",
            "dtypes: float64(2), int64(5), object(5)\n",
            "memory usage: 2.0+ MB\n"
          ]
        }
      ],
      "source": [
        "data.info()"
      ]
    },
    {
      "cell_type": "markdown",
      "id": "e7b524bf",
      "metadata": {
        "id": "e7b524bf"
      },
      "source": [
        "Чтобы найти ответ на вопрос 3.5 в конце проекта, выведем занчения столбца total_income для строк в которых пропущено значение days_employed чтобы понять, в одних и тех же строках пропуски в данных или в разных </font>\n",
        "\n"
      ]
    },
    {
      "cell_type": "code",
      "execution_count": null,
      "id": "40f833ad",
      "metadata": {
        "colab": {
          "base_uri": "https://localhost:8080/"
        },
        "id": "40f833ad",
        "outputId": "fd806b77-a6b5-4bb9-d8f5-6c3b4a81608f"
      },
      "outputs": [
        {
          "output_type": "execute_result",
          "data": {
            "text/plain": [
              "array([nan])"
            ]
          },
          "metadata": {},
          "execution_count": 4
        }
      ],
      "source": [
        "data.loc[data['days_employed'].isna()]['total_income'].unique()"
      ]
    },
    {
      "cell_type": "markdown",
      "id": "5930cc45",
      "metadata": {
        "id": "5930cc45"
      },
      "source": [
        "результат - пропуски данных в столбцах total_income и days_employed в одних и тех же строках"
      ]
    },
    {
      "cell_type": "markdown",
      "id": "04bb66eb",
      "metadata": {
        "deletable": false,
        "editable": false,
        "id": "04bb66eb"
      },
      "source": [
        "## Предобработка данных"
      ]
    },
    {
      "cell_type": "markdown",
      "id": "bc3c2f2d",
      "metadata": {
        "deletable": false,
        "editable": false,
        "id": "bc3c2f2d"
      },
      "source": [
        "### Удаление пропусков"
      ]
    },
    {
      "cell_type": "markdown",
      "id": "2c38d843",
      "metadata": {
        "deletable": false,
        "editable": false,
        "id": "2c38d843"
      },
      "source": [
        "**Задание 4. Выведите количество пропущенных значений для каждого столбца. Используйте комбинацию двух методов.**"
      ]
    },
    {
      "cell_type": "code",
      "execution_count": null,
      "id": "f1eb3e38",
      "metadata": {
        "deletable": false,
        "id": "f1eb3e38",
        "outputId": "6b007ba9-0def-4c44-9165-f451244381dc",
        "colab": {
          "base_uri": "https://localhost:8080/"
        }
      },
      "outputs": [
        {
          "output_type": "execute_result",
          "data": {
            "text/plain": [
              "children               0\n",
              "days_employed       2174\n",
              "dob_years              0\n",
              "education              0\n",
              "education_id           0\n",
              "family_status          0\n",
              "family_status_id       0\n",
              "gender                 0\n",
              "income_type            0\n",
              "debt                   0\n",
              "total_income        2174\n",
              "purpose                0\n",
              "dtype: int64"
            ]
          },
          "metadata": {},
          "execution_count": 5
        }
      ],
      "source": [
        "data.isna().sum()"
      ]
    },
    {
      "cell_type": "markdown",
      "id": "6711c6ad",
      "metadata": {
        "deletable": false,
        "editable": false,
        "id": "6711c6ad"
      },
      "source": [
        "**Задание 5. В двух столбцах есть пропущенные значения. Один из них — `days_employed`. Пропуски в этом столбце вы обработаете на следующем этапе. Другой столбец с пропущенными значениями — `total_income` — хранит данные о доходах. На сумму дохода сильнее всего влияет тип занятости, поэтому заполнить пропуски в этом столбце нужно медианным значением по каждому типу из столбца `income_type`. Например, у человека с типом занятости `сотрудник` пропуск в столбце `total_income` должен быть заполнен медианным доходом среди всех записей с тем же типом.**"
      ]
    },
    {
      "cell_type": "code",
      "execution_count": null,
      "id": "6281563f",
      "metadata": {
        "deletable": false,
        "id": "6281563f"
      },
      "outputs": [],
      "source": [
        "for t in data['income_type'].unique():\n",
        "    data.loc[(data['income_type'] == t) & (data['total_income'].isna()), 'total_income'] = \\\n",
        "    data.loc[(data['income_type'] == t), 'total_income'].median()"
      ]
    },
    {
      "cell_type": "markdown",
      "id": "d5680d56",
      "metadata": {
        "deletable": false,
        "editable": false,
        "id": "d5680d56"
      },
      "source": [
        "### Обработка аномальных значений"
      ]
    },
    {
      "cell_type": "markdown",
      "id": "5835b056",
      "metadata": {
        "deletable": false,
        "editable": false,
        "id": "5835b056"
      },
      "source": [
        "**Задание 6. В данных могут встречаться артефакты (аномалии) — значения, которые не отражают действительность и появились по какой-то ошибке. таким артефактом будет отрицательное количество дней трудового стажа в столбце `days_employed`. Для реальных данных это нормально. Обработайте значения в этом столбце: замените все отрицательные значения положительными с помощью метода `abs()`.**"
      ]
    },
    {
      "cell_type": "code",
      "execution_count": null,
      "id": "b1c5e3c4",
      "metadata": {
        "deletable": false,
        "id": "b1c5e3c4"
      },
      "outputs": [],
      "source": [
        "data['days_employed'] = data['days_employed'].abs()"
      ]
    },
    {
      "cell_type": "markdown",
      "id": "3524bde6",
      "metadata": {
        "deletable": false,
        "editable": false,
        "id": "3524bde6"
      },
      "source": [
        "**Задание 7. Для каждого типа занятости выведите медианное значение трудового стажа `days_employed` в днях.**"
      ]
    },
    {
      "cell_type": "code",
      "execution_count": null,
      "id": "11827de1",
      "metadata": {
        "deletable": false,
        "id": "11827de1",
        "outputId": "1eefed4d-9c55-4c1f-8943-e28e71a86363",
        "colab": {
          "base_uri": "https://localhost:8080/"
        }
      },
      "outputs": [
        {
          "output_type": "execute_result",
          "data": {
            "text/plain": [
              "income_type\n",
              "безработный        366413.652744\n",
              "в декрете            3296.759962\n",
              "госслужащий          2689.368353\n",
              "компаньон            1547.382223\n",
              "пенсионер          365213.306266\n",
              "предприниматель       520.848083\n",
              "сотрудник            1574.202821\n",
              "студент               578.751554\n",
              "Name: days_employed, dtype: float64"
            ]
          },
          "metadata": {},
          "execution_count": 8
        }
      ],
      "source": [
        "data.groupby('income_type')['days_employed'].agg('median')"
      ]
    },
    {
      "cell_type": "markdown",
      "id": "70dcc582",
      "metadata": {
        "deletable": false,
        "editable": false,
        "id": "70dcc582"
      },
      "source": [
        "У двух типов (безработные и пенсионеры) получатся аномально большие значения. Исправить такие значения сложно, поэтому оставьте их как есть. Тем более этот столбец не понадобится вам для исследования."
      ]
    },
    {
      "cell_type": "markdown",
      "id": "39408134",
      "metadata": {
        "deletable": false,
        "editable": false,
        "id": "39408134"
      },
      "source": [
        "**Задание 8. Выведите перечень уникальных значений столбца `children`.**"
      ]
    },
    {
      "cell_type": "code",
      "execution_count": null,
      "id": "ecfa88b3",
      "metadata": {
        "deletable": false,
        "id": "ecfa88b3",
        "outputId": "497ac16b-c823-4cc5-9e58-385a8991985b",
        "colab": {
          "base_uri": "https://localhost:8080/"
        }
      },
      "outputs": [
        {
          "output_type": "execute_result",
          "data": {
            "text/plain": [
              "array([ 1,  0,  3,  2, -1,  4, 20,  5])"
            ]
          },
          "metadata": {},
          "execution_count": 9
        }
      ],
      "source": [
        "data['children'].unique()"
      ]
    },
    {
      "cell_type": "markdown",
      "id": "69bc5d51",
      "metadata": {
        "deletable": false,
        "editable": false,
        "id": "69bc5d51"
      },
      "source": [
        "**Задание 9. В столбце `children` есть два аномальных значения. Удалите строки, в которых встречаются такие аномальные значения из датафрейма `data`.**"
      ]
    },
    {
      "cell_type": "code",
      "execution_count": null,
      "id": "a72a97d9",
      "metadata": {
        "deletable": false,
        "id": "a72a97d9"
      },
      "outputs": [],
      "source": [
        "data = data[(data['children'] != -1) & (data['children'] != 20)]"
      ]
    },
    {
      "cell_type": "markdown",
      "id": "6d336447",
      "metadata": {
        "deletable": false,
        "editable": false,
        "id": "6d336447"
      },
      "source": [
        "**Задание 10. Ещё раз выведите перечень уникальных значений столбца `children`, чтобы убедиться, что артефакты удалены.**"
      ]
    },
    {
      "cell_type": "code",
      "execution_count": null,
      "id": "69349cdc",
      "metadata": {
        "deletable": false,
        "id": "69349cdc",
        "outputId": "3e546d19-f52f-4ac1-c9b5-ea24428b7687",
        "colab": {
          "base_uri": "https://localhost:8080/"
        }
      },
      "outputs": [
        {
          "output_type": "execute_result",
          "data": {
            "text/plain": [
              "array([1, 0, 3, 2, 4, 5])"
            ]
          },
          "metadata": {},
          "execution_count": 11
        }
      ],
      "source": [
        "data['children'].unique()"
      ]
    },
    {
      "cell_type": "markdown",
      "id": "7eb2ee4a",
      "metadata": {
        "deletable": false,
        "editable": false,
        "id": "7eb2ee4a"
      },
      "source": [
        "### Удаление пропусков (продолжение)"
      ]
    },
    {
      "cell_type": "markdown",
      "id": "0be8fb17",
      "metadata": {
        "deletable": false,
        "editable": false,
        "id": "0be8fb17"
      },
      "source": [
        "**Задание 11. Заполните пропуски в столбце `days_employed` медианными значениями по каждого типа занятости `income_type`.**"
      ]
    },
    {
      "cell_type": "code",
      "execution_count": null,
      "id": "b2ef4c21",
      "metadata": {
        "deletable": false,
        "id": "b2ef4c21"
      },
      "outputs": [],
      "source": [
        "for t in data['income_type'].unique():\n",
        "    data.loc[(data['income_type'] == t) & (data['days_employed'].isna()), 'days_employed'] = \\\n",
        "    data.loc[(data['income_type'] == t), 'days_employed'].median()"
      ]
    },
    {
      "cell_type": "markdown",
      "id": "f9f79af2",
      "metadata": {
        "deletable": false,
        "editable": false,
        "id": "f9f79af2"
      },
      "source": [
        "**Задание 12. Убедитесь, что все пропуски заполнены. Проверьте себя и ещё раз выведите количество пропущенных значений для каждого столбца с помощью двух методов.**"
      ]
    },
    {
      "cell_type": "code",
      "execution_count": null,
      "id": "87f35522",
      "metadata": {
        "deletable": false,
        "id": "87f35522",
        "outputId": "f2df9141-c3b8-4f4b-8d49-01a5544267f7",
        "colab": {
          "base_uri": "https://localhost:8080/"
        }
      },
      "outputs": [
        {
          "output_type": "execute_result",
          "data": {
            "text/plain": [
              "children            0\n",
              "days_employed       0\n",
              "dob_years           0\n",
              "education           0\n",
              "education_id        0\n",
              "family_status       0\n",
              "family_status_id    0\n",
              "gender              0\n",
              "income_type         0\n",
              "debt                0\n",
              "total_income        0\n",
              "purpose             0\n",
              "dtype: int64"
            ]
          },
          "metadata": {},
          "execution_count": 13
        }
      ],
      "source": [
        "data.isna().sum()"
      ]
    },
    {
      "cell_type": "markdown",
      "id": "f8715268",
      "metadata": {
        "deletable": false,
        "editable": false,
        "id": "f8715268"
      },
      "source": [
        "### Изменение типов данных"
      ]
    },
    {
      "cell_type": "markdown",
      "id": "e13b4a85",
      "metadata": {
        "deletable": false,
        "editable": false,
        "id": "e13b4a85"
      },
      "source": [
        "**Задание 13. Замените вещественный тип данных в столбце `total_income` на целочисленный с помощью метода `astype()`.**"
      ]
    },
    {
      "cell_type": "code",
      "execution_count": null,
      "id": "ae08befc",
      "metadata": {
        "deletable": false,
        "id": "ae08befc"
      },
      "outputs": [],
      "source": [
        "data['total_income'] = data['total_income'].astype(int)"
      ]
    },
    {
      "cell_type": "markdown",
      "id": "27839f76",
      "metadata": {
        "deletable": false,
        "editable": false,
        "id": "27839f76"
      },
      "source": [
        "### Обработка дубликатов"
      ]
    },
    {
      "cell_type": "markdown",
      "id": "8875907c",
      "metadata": {
        "deletable": false,
        "editable": false,
        "id": "8875907c"
      },
      "source": [
        "**Задание 14. Обработайте неявные дубликаты в столбце `education`. В этом столбце есть одни и те же значения, но записанные по-разному: с использованием заглавных и строчных букв. Приведите их к нижнему регистру. Проверьте остальные столбцы.**"
      ]
    },
    {
      "cell_type": "code",
      "execution_count": null,
      "id": "3784847e",
      "metadata": {
        "deletable": false,
        "id": "3784847e"
      },
      "outputs": [],
      "source": [
        "data['education'] = data['education'].str.lower()"
      ]
    },
    {
      "cell_type": "markdown",
      "id": "ee1657e3",
      "metadata": {
        "deletable": false,
        "editable": false,
        "id": "ee1657e3"
      },
      "source": [
        "**Задание 15. Выведите на экран количество строк-дубликатов в данных. Если такие строки присутствуют, удалите их.**"
      ]
    },
    {
      "cell_type": "code",
      "execution_count": null,
      "id": "520985f0",
      "metadata": {
        "deletable": false,
        "id": "520985f0",
        "outputId": "816eb2e9-f2eb-4de2-9f0c-0dd03f294df7",
        "colab": {
          "base_uri": "https://localhost:8080/"
        }
      },
      "outputs": [
        {
          "output_type": "execute_result",
          "data": {
            "text/plain": [
              "71"
            ]
          },
          "metadata": {},
          "execution_count": 16
        }
      ],
      "source": [
        "data.duplicated().sum()"
      ]
    },
    {
      "cell_type": "code",
      "execution_count": null,
      "id": "785af962",
      "metadata": {
        "deletable": false,
        "id": "785af962"
      },
      "outputs": [],
      "source": [
        "data = data.drop_duplicates()"
      ]
    },
    {
      "cell_type": "markdown",
      "id": "424009b8",
      "metadata": {
        "deletable": false,
        "editable": false,
        "id": "424009b8"
      },
      "source": [
        "### Категоризация данных"
      ]
    },
    {
      "cell_type": "markdown",
      "id": "ae070924",
      "metadata": {
        "deletable": false,
        "editable": false,
        "id": "ae070924"
      },
      "source": [
        "**Задание 16. На основании диапазонов, указанных ниже, создайте в датафрейме `data` столбец `total_income_category` с категориями:**\n",
        "\n",
        "- 0–30000 — `'E'`;\n",
        "- 30001–50000 — `'D'`;\n",
        "- 50001–200000 — `'C'`;\n",
        "- 200001–1000000 — `'B'`;\n",
        "- 1000001 и выше — `'A'`.\n",
        "\n",
        "\n",
        "**Например, кредитополучателю с доходом 25000 нужно назначить категорию `'E'`, а клиенту, получающему 235000, — `'B'`. Используйте собственную функцию с именем `categorize_income()` и метод `apply()`.**"
      ]
    },
    {
      "cell_type": "code",
      "execution_count": null,
      "id": "2c040458",
      "metadata": {
        "deletable": false,
        "id": "2c040458"
      },
      "outputs": [],
      "source": [
        "def categorize_income(income):\n",
        "    try:\n",
        "        if 0 <= income <= 30000:\n",
        "            return 'E'\n",
        "        elif 30001 <= income <= 50000:\n",
        "            return 'D'\n",
        "        elif 50001 <= income <= 200000:\n",
        "            return 'C'\n",
        "        elif 200001 <= income <= 1000000:\n",
        "            return 'B'\n",
        "        elif income >= 1000001:\n",
        "            return 'A'\n",
        "    except:\n",
        "        pass"
      ]
    },
    {
      "cell_type": "code",
      "execution_count": null,
      "id": "80063aeb",
      "metadata": {
        "deletable": false,
        "id": "80063aeb",
        "colab": {
          "base_uri": "https://localhost:8080/"
        },
        "outputId": "0fc6cfb8-e0b3-4bad-ef79-dacd4f87fe6b"
      },
      "outputs": [
        {
          "output_type": "stream",
          "name": "stderr",
          "text": [
            "<ipython-input-19-0bc713f3049f>:1: SettingWithCopyWarning: \n",
            "A value is trying to be set on a copy of a slice from a DataFrame.\n",
            "Try using .loc[row_indexer,col_indexer] = value instead\n",
            "\n",
            "See the caveats in the documentation: https://pandas.pydata.org/pandas-docs/stable/user_guide/indexing.html#returning-a-view-versus-a-copy\n",
            "  data['total_income_category'] = data['total_income'].apply(categorize_income)\n"
          ]
        }
      ],
      "source": [
        "data['total_income_category'] = data['total_income'].apply(categorize_income)"
      ]
    },
    {
      "cell_type": "markdown",
      "id": "d36ff541",
      "metadata": {
        "deletable": false,
        "editable": false,
        "id": "d36ff541"
      },
      "source": [
        "**Задание 17. Выведите на экран перечень уникальных целей взятия кредита из столбца `purpose`.**"
      ]
    },
    {
      "cell_type": "code",
      "execution_count": null,
      "id": "ef83a631",
      "metadata": {
        "deletable": false,
        "id": "ef83a631",
        "outputId": "7fbdde76-1e44-4159-f28c-e66fd74b7e8d",
        "colab": {
          "base_uri": "https://localhost:8080/"
        }
      },
      "outputs": [
        {
          "output_type": "execute_result",
          "data": {
            "text/plain": [
              "array(['покупка жилья', 'приобретение автомобиля',\n",
              "       'дополнительное образование', 'сыграть свадьбу',\n",
              "       'операции с жильем', 'образование', 'на проведение свадьбы',\n",
              "       'покупка жилья для семьи', 'покупка недвижимости',\n",
              "       'покупка коммерческой недвижимости', 'покупка жилой недвижимости',\n",
              "       'строительство собственной недвижимости', 'недвижимость',\n",
              "       'строительство недвижимости', 'на покупку подержанного автомобиля',\n",
              "       'на покупку своего автомобиля',\n",
              "       'операции с коммерческой недвижимостью',\n",
              "       'строительство жилой недвижимости', 'жилье',\n",
              "       'операции со своей недвижимостью', 'автомобили',\n",
              "       'заняться образованием', 'сделка с подержанным автомобилем',\n",
              "       'получение образования', 'автомобиль', 'свадьба',\n",
              "       'получение дополнительного образования', 'покупка своего жилья',\n",
              "       'операции с недвижимостью', 'получение высшего образования',\n",
              "       'свой автомобиль', 'сделка с автомобилем',\n",
              "       'профильное образование', 'высшее образование',\n",
              "       'покупка жилья для сдачи', 'на покупку автомобиля', 'ремонт жилью',\n",
              "       'заняться высшим образованием'], dtype=object)"
            ]
          },
          "metadata": {},
          "execution_count": 20
        }
      ],
      "source": [
        "data['purpose'].unique()"
      ]
    },
    {
      "cell_type": "markdown",
      "id": "b5c305d6",
      "metadata": {
        "deletable": false,
        "editable": false,
        "id": "b5c305d6"
      },
      "source": [
        "**Задание 18. Создайте функцию, которая на основании данных из столбца `purpose` сформирует новый столбец `purpose_category`, в который войдут следующие категории:**\n",
        "\n",
        "- `'операции с автомобилем'`,\n",
        "- `'операции с недвижимостью'`,\n",
        "- `'проведение свадьбы'`,\n",
        "- `'получение образования'`.\n",
        "\n",
        "**Например, если в столбце `purpose` находится подстрока `'на покупку автомобиля'`, то в столбце `purpose_category` должна появиться строка `'операции с автомобилем'`.**\n",
        "\n",
        "**Используйте собственную функцию с именем `categorize_purpose()` и метод `apply()`. Изучите данные в столбце `purpose` и определите, какие подстроки помогут вам правильно определить категорию.**"
      ]
    },
    {
      "cell_type": "code",
      "execution_count": null,
      "id": "a6db58e1",
      "metadata": {
        "deletable": false,
        "id": "a6db58e1"
      },
      "outputs": [],
      "source": [
        "def categorize_purpose(row):\n",
        "    try:\n",
        "        if 'автом' in row:\n",
        "            return 'операции с автомобилем'\n",
        "        elif 'жил' in row or 'недвиж' in row:\n",
        "            return 'операции с недвижимостью'\n",
        "        elif 'свад' in row:\n",
        "            return 'проведение свадьбы'\n",
        "        elif 'образов' in row:\n",
        "            return 'получение образования'\n",
        "    except:\n",
        "        return 'нет категории'"
      ]
    },
    {
      "cell_type": "code",
      "execution_count": null,
      "id": "454367c9",
      "metadata": {
        "deletable": false,
        "id": "454367c9",
        "colab": {
          "base_uri": "https://localhost:8080/"
        },
        "outputId": "ab4f19d7-e9d0-4a09-c889-d6289b2d2435"
      },
      "outputs": [
        {
          "output_type": "stream",
          "name": "stderr",
          "text": [
            "<ipython-input-22-ecf9d79505dd>:1: SettingWithCopyWarning: \n",
            "A value is trying to be set on a copy of a slice from a DataFrame.\n",
            "Try using .loc[row_indexer,col_indexer] = value instead\n",
            "\n",
            "See the caveats in the documentation: https://pandas.pydata.org/pandas-docs/stable/user_guide/indexing.html#returning-a-view-versus-a-copy\n",
            "  data['purpose_category'] = data['purpose'].apply(categorize_purpose)\n"
          ]
        }
      ],
      "source": [
        "data['purpose_category'] = data['purpose'].apply(categorize_purpose)"
      ]
    },
    {
      "cell_type": "markdown",
      "id": "d6ebf740",
      "metadata": {
        "deletable": false,
        "editable": false,
        "id": "d6ebf740"
      },
      "source": [
        "### Шаг 3. Исследуйте данные и ответьте на вопросы"
      ]
    },
    {
      "cell_type": "markdown",
      "id": "41eb0bbd",
      "metadata": {
        "deletable": false,
        "editable": false,
        "id": "41eb0bbd"
      },
      "source": [
        "#### 3.1 Есть ли зависимость между количеством детей и возвратом кредита в срок?"
      ]
    },
    {
      "cell_type": "code",
      "execution_count": null,
      "id": "a10b30b5",
      "metadata": {
        "deletable": false,
        "id": "a10b30b5",
        "colab": {
          "base_uri": "https://localhost:8080/"
        },
        "outputId": "cda0fba4-f6eb-4ae6-9121-746d47ac0b2c"
      },
      "outputs": [
        {
          "output_type": "execute_result",
          "data": {
            "text/plain": [
              "array([0, 1])"
            ]
          },
          "metadata": {},
          "execution_count": 23
        }
      ],
      "source": [
        "# Ваш код будет здесь. Вы можете создавать новые ячейки.\n",
        "data['debt'].unique() # посмотрим, что представлют из себя данные о задолженностях по возвратам кредитов."
      ]
    },
    {
      "cell_type": "markdown",
      "id": "643df248",
      "metadata": {
        "id": "643df248"
      },
      "source": [
        "значения в столбе \"debt\" принимают только два значения - 0 и 1, пропуски в столбце отсутствуют (выяснили это в Задании 12). Делаем вывод, что 1 означает, что клиент имел задолженности в своей истории, а 0 - что не имел."
      ]
    },
    {
      "cell_type": "markdown",
      "id": "7740b576",
      "metadata": {
        "id": "7740b576"
      },
      "source": [
        "Для каждого значения количества детей у клиентов посчитаем общее количество клиентов, а также количество клиентов,\n",
        "имевших проблемы с возвратом кредита в срок. Вычислим долю проблемных от общего числа клиентов в процентах для\n",
        "каждого количества детей"
      ]
    },
    {
      "cell_type": "code",
      "execution_count": null,
      "id": "9203e14b",
      "metadata": {
        "colab": {
          "base_uri": "https://localhost:8080/",
          "height": 297
        },
        "id": "9203e14b",
        "outputId": "06ad4737-dcd5-4223-ed0f-a03985fde71c"
      },
      "outputs": [
        {
          "output_type": "execute_result",
          "data": {
            "text/plain": [
              "           sum  count debt_rate_percent\n",
              "          debt   debt                  \n",
              "children                               \n",
              "0         1063  14091          7.543822\n",
              "1          444   4808          9.234609\n",
              "2          194   2052          9.454191\n",
              "3           27    330          8.181818\n",
              "4            4     41          9.756098\n",
              "5            0      9          0.000000"
            ],
            "text/html": [
              "\n",
              "\n",
              "  <div id=\"df-9439cad5-aab7-459e-8a7e-d8894a15166c\">\n",
              "    <div class=\"colab-df-container\">\n",
              "      <div>\n",
              "<style scoped>\n",
              "    .dataframe tbody tr th:only-of-type {\n",
              "        vertical-align: middle;\n",
              "    }\n",
              "\n",
              "    .dataframe tbody tr th {\n",
              "        vertical-align: top;\n",
              "    }\n",
              "\n",
              "    .dataframe thead tr th {\n",
              "        text-align: left;\n",
              "    }\n",
              "\n",
              "    .dataframe thead tr:last-of-type th {\n",
              "        text-align: right;\n",
              "    }\n",
              "</style>\n",
              "<table border=\"1\" class=\"dataframe\">\n",
              "  <thead>\n",
              "    <tr>\n",
              "      <th></th>\n",
              "      <th>sum</th>\n",
              "      <th>count</th>\n",
              "      <th>debt_rate_percent</th>\n",
              "    </tr>\n",
              "    <tr>\n",
              "      <th></th>\n",
              "      <th>debt</th>\n",
              "      <th>debt</th>\n",
              "      <th></th>\n",
              "    </tr>\n",
              "    <tr>\n",
              "      <th>children</th>\n",
              "      <th></th>\n",
              "      <th></th>\n",
              "      <th></th>\n",
              "    </tr>\n",
              "  </thead>\n",
              "  <tbody>\n",
              "    <tr>\n",
              "      <th>0</th>\n",
              "      <td>1063</td>\n",
              "      <td>14091</td>\n",
              "      <td>7.543822</td>\n",
              "    </tr>\n",
              "    <tr>\n",
              "      <th>1</th>\n",
              "      <td>444</td>\n",
              "      <td>4808</td>\n",
              "      <td>9.234609</td>\n",
              "    </tr>\n",
              "    <tr>\n",
              "      <th>2</th>\n",
              "      <td>194</td>\n",
              "      <td>2052</td>\n",
              "      <td>9.454191</td>\n",
              "    </tr>\n",
              "    <tr>\n",
              "      <th>3</th>\n",
              "      <td>27</td>\n",
              "      <td>330</td>\n",
              "      <td>8.181818</td>\n",
              "    </tr>\n",
              "    <tr>\n",
              "      <th>4</th>\n",
              "      <td>4</td>\n",
              "      <td>41</td>\n",
              "      <td>9.756098</td>\n",
              "    </tr>\n",
              "    <tr>\n",
              "      <th>5</th>\n",
              "      <td>0</td>\n",
              "      <td>9</td>\n",
              "      <td>0.000000</td>\n",
              "    </tr>\n",
              "  </tbody>\n",
              "</table>\n",
              "</div>\n",
              "      <button class=\"colab-df-convert\" onclick=\"convertToInteractive('df-9439cad5-aab7-459e-8a7e-d8894a15166c')\"\n",
              "              title=\"Convert this dataframe to an interactive table.\"\n",
              "              style=\"display:none;\">\n",
              "\n",
              "  <svg xmlns=\"http://www.w3.org/2000/svg\" height=\"24px\"viewBox=\"0 0 24 24\"\n",
              "       width=\"24px\">\n",
              "    <path d=\"M0 0h24v24H0V0z\" fill=\"none\"/>\n",
              "    <path d=\"M18.56 5.44l.94 2.06.94-2.06 2.06-.94-2.06-.94-.94-2.06-.94 2.06-2.06.94zm-11 1L8.5 8.5l.94-2.06 2.06-.94-2.06-.94L8.5 2.5l-.94 2.06-2.06.94zm10 10l.94 2.06.94-2.06 2.06-.94-2.06-.94-.94-2.06-.94 2.06-2.06.94z\"/><path d=\"M17.41 7.96l-1.37-1.37c-.4-.4-.92-.59-1.43-.59-.52 0-1.04.2-1.43.59L10.3 9.45l-7.72 7.72c-.78.78-.78 2.05 0 2.83L4 21.41c.39.39.9.59 1.41.59.51 0 1.02-.2 1.41-.59l7.78-7.78 2.81-2.81c.8-.78.8-2.07 0-2.86zM5.41 20L4 18.59l7.72-7.72 1.47 1.35L5.41 20z\"/>\n",
              "  </svg>\n",
              "      </button>\n",
              "\n",
              "\n",
              "\n",
              "    <div id=\"df-e8a97426-1ca5-4ac0-a7e3-3a8acec51792\">\n",
              "      <button class=\"colab-df-quickchart\" onclick=\"quickchart('df-e8a97426-1ca5-4ac0-a7e3-3a8acec51792')\"\n",
              "              title=\"Suggest charts.\"\n",
              "              style=\"display:none;\">\n",
              "\n",
              "<svg xmlns=\"http://www.w3.org/2000/svg\" height=\"24px\"viewBox=\"0 0 24 24\"\n",
              "     width=\"24px\">\n",
              "    <g>\n",
              "        <path d=\"M19 3H5c-1.1 0-2 .9-2 2v14c0 1.1.9 2 2 2h14c1.1 0 2-.9 2-2V5c0-1.1-.9-2-2-2zM9 17H7v-7h2v7zm4 0h-2V7h2v10zm4 0h-2v-4h2v4z\"/>\n",
              "    </g>\n",
              "</svg>\n",
              "      </button>\n",
              "    </div>\n",
              "\n",
              "<style>\n",
              "  .colab-df-quickchart {\n",
              "    background-color: #E8F0FE;\n",
              "    border: none;\n",
              "    border-radius: 50%;\n",
              "    cursor: pointer;\n",
              "    display: none;\n",
              "    fill: #1967D2;\n",
              "    height: 32px;\n",
              "    padding: 0 0 0 0;\n",
              "    width: 32px;\n",
              "  }\n",
              "\n",
              "  .colab-df-quickchart:hover {\n",
              "    background-color: #E2EBFA;\n",
              "    box-shadow: 0px 1px 2px rgba(60, 64, 67, 0.3), 0px 1px 3px 1px rgba(60, 64, 67, 0.15);\n",
              "    fill: #174EA6;\n",
              "  }\n",
              "\n",
              "  [theme=dark] .colab-df-quickchart {\n",
              "    background-color: #3B4455;\n",
              "    fill: #D2E3FC;\n",
              "  }\n",
              "\n",
              "  [theme=dark] .colab-df-quickchart:hover {\n",
              "    background-color: #434B5C;\n",
              "    box-shadow: 0px 1px 3px 1px rgba(0, 0, 0, 0.15);\n",
              "    filter: drop-shadow(0px 1px 2px rgba(0, 0, 0, 0.3));\n",
              "    fill: #FFFFFF;\n",
              "  }\n",
              "</style>\n",
              "\n",
              "    <script>\n",
              "      async function quickchart(key) {\n",
              "        const containerElement = document.querySelector('#' + key);\n",
              "        const charts = await google.colab.kernel.invokeFunction(\n",
              "            'suggestCharts', [key], {});\n",
              "      }\n",
              "    </script>\n",
              "\n",
              "      <script>\n",
              "\n",
              "function displayQuickchartButton(domScope) {\n",
              "  let quickchartButtonEl =\n",
              "    domScope.querySelector('#df-e8a97426-1ca5-4ac0-a7e3-3a8acec51792 button.colab-df-quickchart');\n",
              "  quickchartButtonEl.style.display =\n",
              "    google.colab.kernel.accessAllowed ? 'block' : 'none';\n",
              "}\n",
              "\n",
              "        displayQuickchartButton(document);\n",
              "      </script>\n",
              "      <style>\n",
              "    .colab-df-container {\n",
              "      display:flex;\n",
              "      flex-wrap:wrap;\n",
              "      gap: 12px;\n",
              "    }\n",
              "\n",
              "    .colab-df-convert {\n",
              "      background-color: #E8F0FE;\n",
              "      border: none;\n",
              "      border-radius: 50%;\n",
              "      cursor: pointer;\n",
              "      display: none;\n",
              "      fill: #1967D2;\n",
              "      height: 32px;\n",
              "      padding: 0 0 0 0;\n",
              "      width: 32px;\n",
              "    }\n",
              "\n",
              "    .colab-df-convert:hover {\n",
              "      background-color: #E2EBFA;\n",
              "      box-shadow: 0px 1px 2px rgba(60, 64, 67, 0.3), 0px 1px 3px 1px rgba(60, 64, 67, 0.15);\n",
              "      fill: #174EA6;\n",
              "    }\n",
              "\n",
              "    [theme=dark] .colab-df-convert {\n",
              "      background-color: #3B4455;\n",
              "      fill: #D2E3FC;\n",
              "    }\n",
              "\n",
              "    [theme=dark] .colab-df-convert:hover {\n",
              "      background-color: #434B5C;\n",
              "      box-shadow: 0px 1px 3px 1px rgba(0, 0, 0, 0.15);\n",
              "      filter: drop-shadow(0px 1px 2px rgba(0, 0, 0, 0.3));\n",
              "      fill: #FFFFFF;\n",
              "    }\n",
              "  </style>\n",
              "\n",
              "      <script>\n",
              "        const buttonEl =\n",
              "          document.querySelector('#df-9439cad5-aab7-459e-8a7e-d8894a15166c button.colab-df-convert');\n",
              "        buttonEl.style.display =\n",
              "          google.colab.kernel.accessAllowed ? 'block' : 'none';\n",
              "\n",
              "        async function convertToInteractive(key) {\n",
              "          const element = document.querySelector('#df-9439cad5-aab7-459e-8a7e-d8894a15166c');\n",
              "          const dataTable =\n",
              "            await google.colab.kernel.invokeFunction('convertToInteractive',\n",
              "                                                     [key], {});\n",
              "          if (!dataTable) return;\n",
              "\n",
              "          const docLinkHtml = 'Like what you see? Visit the ' +\n",
              "            '<a target=\"_blank\" href=https://colab.research.google.com/notebooks/data_table.ipynb>data table notebook</a>'\n",
              "            + ' to learn more about interactive tables.';\n",
              "          element.innerHTML = '';\n",
              "          dataTable['output_type'] = 'display_data';\n",
              "          await google.colab.output.renderOutput(dataTable, element);\n",
              "          const docLink = document.createElement('div');\n",
              "          docLink.innerHTML = docLinkHtml;\n",
              "          element.appendChild(docLink);\n",
              "        }\n",
              "      </script>\n",
              "    </div>\n",
              "  </div>\n"
            ]
          },
          "metadata": {},
          "execution_count": 24
        }
      ],
      "source": [
        "# ИТЕРАЦИЯ_01\n",
        "pivot_1 = data.pivot_table(index='children', values='debt', aggfunc=['sum','count'])\n",
        "pivot_1['debt_rate_percent'] = pivot_1['sum'] / pivot_1['count'] * 100\n",
        "pivot_1"
      ]
    },
    {
      "cell_type": "markdown",
      "id": "31c465c8",
      "metadata": {
        "id": "31c465c8"
      },
      "source": [
        "Наблюдаем сильно отличающееся значение доли проблемных клиентов только для клинетов с 5 детьми.\n",
        "Видим, что в данных всего 9 таких клиентов, на основе такой выборки сложно сделать замеры, считаем наблюдения для этой группы не значительными"
      ]
    },
    {
      "cell_type": "markdown",
      "id": "7c2aaedf",
      "metadata": {
        "deletable": false,
        "id": "7c2aaedf"
      },
      "source": [
        "**Вывод:** Согласно полученным данным, наименьшая вероятность не вернуть кредит в срок у клиентов без детей. Среди клиентов с детьми нельзя выделить какой-либо тренд в измненении доли проблемных клиентов в зависимости от количества детей. Заметно отличается доля для клиентов с 5-ю детьми, однако ей можно пренебречь из-за общего сравнительно малого количества таких клиентов.  Делаем вывод, что возврат кредита в срок зависит от наличия у клиента детей, но не зависит от их количества."
      ]
    },
    {
      "cell_type": "markdown",
      "id": "7c58aaa7",
      "metadata": {
        "deletable": false,
        "editable": false,
        "id": "7c58aaa7"
      },
      "source": [
        "#### 3.2 Есть ли зависимость между семейным положением и возвратом кредита в срок?"
      ]
    },
    {
      "cell_type": "code",
      "execution_count": null,
      "id": "87a51c10",
      "metadata": {
        "deletable": false,
        "id": "87a51c10"
      },
      "outputs": [],
      "source": [
        "# Ваш код будет здесь. Вы можете создавать новые ячейки."
      ]
    },
    {
      "cell_type": "markdown",
      "id": "5bddf9cb",
      "metadata": {
        "id": "5bddf9cb"
      },
      "source": [
        "Из вывода основного датафрейма мы видим, что с данными о семейном положении клиентов связаны два столбца в датафрейме - family_status\tи family_status_id\n",
        "Установим связь одного с другим"
      ]
    },
    {
      "cell_type": "code",
      "execution_count": null,
      "id": "69886430",
      "metadata": {
        "colab": {
          "base_uri": "https://localhost:8080/"
        },
        "id": "69886430",
        "outputId": "3ff5acbf-7a85-46dd-ef3d-85ce62869940"
      },
      "outputs": [
        {
          "output_type": "execute_result",
          "data": {
            "text/plain": [
              "family_status_id\n",
              "0          [женат / замужем]\n",
              "1         [гражданский брак]\n",
              "2           [вдовец / вдова]\n",
              "3                [в разводе]\n",
              "4    [Не женат / не замужем]\n",
              "Name: family_status, dtype: object"
            ]
          },
          "metadata": {},
          "execution_count": 26
        }
      ],
      "source": [
        "data.groupby('family_status_id')['family_status'].unique()"
      ]
    },
    {
      "cell_type": "markdown",
      "id": "3a616719",
      "metadata": {
        "id": "3a616719"
      },
      "source": [
        "Для хранения данных удобнее будет создать отдельную таблицу со столбцами family_status и family_status_id, а в основном датафрейме оставить только id, однако для решения текущего задания это действие не требуется.\n",
        "\n",
        "Аналогично предыдущему заданию для каждого значения семейного положения посчитаем общее количество клиентов, а также количество клиентов, имевших проблемы с возвратом кредита в срок. Вычислим долю проблемных от общего числа клиентов в процентах для каждого значения семейного положения."
      ]
    },
    {
      "cell_type": "code",
      "execution_count": null,
      "id": "bc01277f",
      "metadata": {
        "colab": {
          "base_uri": "https://localhost:8080/",
          "height": 266
        },
        "id": "bc01277f",
        "outputId": "ce57b98c-87c5-44cc-e5fd-05bd6fc50436"
      },
      "outputs": [
        {
          "output_type": "execute_result",
          "data": {
            "text/plain": [
              "                       sum  count debt_rate_percent\n",
              "                      debt   debt                  \n",
              "family_status                                      \n",
              "вдовец / вдова          63    951          6.624606\n",
              "в разводе               84   1189          7.064760\n",
              "женат / замужем        927  12261          7.560558\n",
              "гражданский брак       385   4134          9.313014\n",
              "Не женат / не замужем  273   2796          9.763948"
            ],
            "text/html": [
              "\n",
              "\n",
              "  <div id=\"df-dcdbfbd7-3afa-4531-a123-1f800d4fe771\">\n",
              "    <div class=\"colab-df-container\">\n",
              "      <div>\n",
              "<style scoped>\n",
              "    .dataframe tbody tr th:only-of-type {\n",
              "        vertical-align: middle;\n",
              "    }\n",
              "\n",
              "    .dataframe tbody tr th {\n",
              "        vertical-align: top;\n",
              "    }\n",
              "\n",
              "    .dataframe thead tr th {\n",
              "        text-align: left;\n",
              "    }\n",
              "\n",
              "    .dataframe thead tr:last-of-type th {\n",
              "        text-align: right;\n",
              "    }\n",
              "</style>\n",
              "<table border=\"1\" class=\"dataframe\">\n",
              "  <thead>\n",
              "    <tr>\n",
              "      <th></th>\n",
              "      <th>sum</th>\n",
              "      <th>count</th>\n",
              "      <th>debt_rate_percent</th>\n",
              "    </tr>\n",
              "    <tr>\n",
              "      <th></th>\n",
              "      <th>debt</th>\n",
              "      <th>debt</th>\n",
              "      <th></th>\n",
              "    </tr>\n",
              "    <tr>\n",
              "      <th>family_status</th>\n",
              "      <th></th>\n",
              "      <th></th>\n",
              "      <th></th>\n",
              "    </tr>\n",
              "  </thead>\n",
              "  <tbody>\n",
              "    <tr>\n",
              "      <th>вдовец / вдова</th>\n",
              "      <td>63</td>\n",
              "      <td>951</td>\n",
              "      <td>6.624606</td>\n",
              "    </tr>\n",
              "    <tr>\n",
              "      <th>в разводе</th>\n",
              "      <td>84</td>\n",
              "      <td>1189</td>\n",
              "      <td>7.064760</td>\n",
              "    </tr>\n",
              "    <tr>\n",
              "      <th>женат / замужем</th>\n",
              "      <td>927</td>\n",
              "      <td>12261</td>\n",
              "      <td>7.560558</td>\n",
              "    </tr>\n",
              "    <tr>\n",
              "      <th>гражданский брак</th>\n",
              "      <td>385</td>\n",
              "      <td>4134</td>\n",
              "      <td>9.313014</td>\n",
              "    </tr>\n",
              "    <tr>\n",
              "      <th>Не женат / не замужем</th>\n",
              "      <td>273</td>\n",
              "      <td>2796</td>\n",
              "      <td>9.763948</td>\n",
              "    </tr>\n",
              "  </tbody>\n",
              "</table>\n",
              "</div>\n",
              "      <button class=\"colab-df-convert\" onclick=\"convertToInteractive('df-dcdbfbd7-3afa-4531-a123-1f800d4fe771')\"\n",
              "              title=\"Convert this dataframe to an interactive table.\"\n",
              "              style=\"display:none;\">\n",
              "\n",
              "  <svg xmlns=\"http://www.w3.org/2000/svg\" height=\"24px\"viewBox=\"0 0 24 24\"\n",
              "       width=\"24px\">\n",
              "    <path d=\"M0 0h24v24H0V0z\" fill=\"none\"/>\n",
              "    <path d=\"M18.56 5.44l.94 2.06.94-2.06 2.06-.94-2.06-.94-.94-2.06-.94 2.06-2.06.94zm-11 1L8.5 8.5l.94-2.06 2.06-.94-2.06-.94L8.5 2.5l-.94 2.06-2.06.94zm10 10l.94 2.06.94-2.06 2.06-.94-2.06-.94-.94-2.06-.94 2.06-2.06.94z\"/><path d=\"M17.41 7.96l-1.37-1.37c-.4-.4-.92-.59-1.43-.59-.52 0-1.04.2-1.43.59L10.3 9.45l-7.72 7.72c-.78.78-.78 2.05 0 2.83L4 21.41c.39.39.9.59 1.41.59.51 0 1.02-.2 1.41-.59l7.78-7.78 2.81-2.81c.8-.78.8-2.07 0-2.86zM5.41 20L4 18.59l7.72-7.72 1.47 1.35L5.41 20z\"/>\n",
              "  </svg>\n",
              "      </button>\n",
              "\n",
              "\n",
              "\n",
              "    <div id=\"df-62cfa9d7-360e-4260-897a-d7b67bb02fdc\">\n",
              "      <button class=\"colab-df-quickchart\" onclick=\"quickchart('df-62cfa9d7-360e-4260-897a-d7b67bb02fdc')\"\n",
              "              title=\"Suggest charts.\"\n",
              "              style=\"display:none;\">\n",
              "\n",
              "<svg xmlns=\"http://www.w3.org/2000/svg\" height=\"24px\"viewBox=\"0 0 24 24\"\n",
              "     width=\"24px\">\n",
              "    <g>\n",
              "        <path d=\"M19 3H5c-1.1 0-2 .9-2 2v14c0 1.1.9 2 2 2h14c1.1 0 2-.9 2-2V5c0-1.1-.9-2-2-2zM9 17H7v-7h2v7zm4 0h-2V7h2v10zm4 0h-2v-4h2v4z\"/>\n",
              "    </g>\n",
              "</svg>\n",
              "      </button>\n",
              "    </div>\n",
              "\n",
              "<style>\n",
              "  .colab-df-quickchart {\n",
              "    background-color: #E8F0FE;\n",
              "    border: none;\n",
              "    border-radius: 50%;\n",
              "    cursor: pointer;\n",
              "    display: none;\n",
              "    fill: #1967D2;\n",
              "    height: 32px;\n",
              "    padding: 0 0 0 0;\n",
              "    width: 32px;\n",
              "  }\n",
              "\n",
              "  .colab-df-quickchart:hover {\n",
              "    background-color: #E2EBFA;\n",
              "    box-shadow: 0px 1px 2px rgba(60, 64, 67, 0.3), 0px 1px 3px 1px rgba(60, 64, 67, 0.15);\n",
              "    fill: #174EA6;\n",
              "  }\n",
              "\n",
              "  [theme=dark] .colab-df-quickchart {\n",
              "    background-color: #3B4455;\n",
              "    fill: #D2E3FC;\n",
              "  }\n",
              "\n",
              "  [theme=dark] .colab-df-quickchart:hover {\n",
              "    background-color: #434B5C;\n",
              "    box-shadow: 0px 1px 3px 1px rgba(0, 0, 0, 0.15);\n",
              "    filter: drop-shadow(0px 1px 2px rgba(0, 0, 0, 0.3));\n",
              "    fill: #FFFFFF;\n",
              "  }\n",
              "</style>\n",
              "\n",
              "    <script>\n",
              "      async function quickchart(key) {\n",
              "        const containerElement = document.querySelector('#' + key);\n",
              "        const charts = await google.colab.kernel.invokeFunction(\n",
              "            'suggestCharts', [key], {});\n",
              "      }\n",
              "    </script>\n",
              "\n",
              "      <script>\n",
              "\n",
              "function displayQuickchartButton(domScope) {\n",
              "  let quickchartButtonEl =\n",
              "    domScope.querySelector('#df-62cfa9d7-360e-4260-897a-d7b67bb02fdc button.colab-df-quickchart');\n",
              "  quickchartButtonEl.style.display =\n",
              "    google.colab.kernel.accessAllowed ? 'block' : 'none';\n",
              "}\n",
              "\n",
              "        displayQuickchartButton(document);\n",
              "      </script>\n",
              "      <style>\n",
              "    .colab-df-container {\n",
              "      display:flex;\n",
              "      flex-wrap:wrap;\n",
              "      gap: 12px;\n",
              "    }\n",
              "\n",
              "    .colab-df-convert {\n",
              "      background-color: #E8F0FE;\n",
              "      border: none;\n",
              "      border-radius: 50%;\n",
              "      cursor: pointer;\n",
              "      display: none;\n",
              "      fill: #1967D2;\n",
              "      height: 32px;\n",
              "      padding: 0 0 0 0;\n",
              "      width: 32px;\n",
              "    }\n",
              "\n",
              "    .colab-df-convert:hover {\n",
              "      background-color: #E2EBFA;\n",
              "      box-shadow: 0px 1px 2px rgba(60, 64, 67, 0.3), 0px 1px 3px 1px rgba(60, 64, 67, 0.15);\n",
              "      fill: #174EA6;\n",
              "    }\n",
              "\n",
              "    [theme=dark] .colab-df-convert {\n",
              "      background-color: #3B4455;\n",
              "      fill: #D2E3FC;\n",
              "    }\n",
              "\n",
              "    [theme=dark] .colab-df-convert:hover {\n",
              "      background-color: #434B5C;\n",
              "      box-shadow: 0px 1px 3px 1px rgba(0, 0, 0, 0.15);\n",
              "      filter: drop-shadow(0px 1px 2px rgba(0, 0, 0, 0.3));\n",
              "      fill: #FFFFFF;\n",
              "    }\n",
              "  </style>\n",
              "\n",
              "      <script>\n",
              "        const buttonEl =\n",
              "          document.querySelector('#df-dcdbfbd7-3afa-4531-a123-1f800d4fe771 button.colab-df-convert');\n",
              "        buttonEl.style.display =\n",
              "          google.colab.kernel.accessAllowed ? 'block' : 'none';\n",
              "\n",
              "        async function convertToInteractive(key) {\n",
              "          const element = document.querySelector('#df-dcdbfbd7-3afa-4531-a123-1f800d4fe771');\n",
              "          const dataTable =\n",
              "            await google.colab.kernel.invokeFunction('convertToInteractive',\n",
              "                                                     [key], {});\n",
              "          if (!dataTable) return;\n",
              "\n",
              "          const docLinkHtml = 'Like what you see? Visit the ' +\n",
              "            '<a target=\"_blank\" href=https://colab.research.google.com/notebooks/data_table.ipynb>data table notebook</a>'\n",
              "            + ' to learn more about interactive tables.';\n",
              "          element.innerHTML = '';\n",
              "          dataTable['output_type'] = 'display_data';\n",
              "          await google.colab.output.renderOutput(dataTable, element);\n",
              "          const docLink = document.createElement('div');\n",
              "          docLink.innerHTML = docLinkHtml;\n",
              "          element.appendChild(docLink);\n",
              "        }\n",
              "      </script>\n",
              "    </div>\n",
              "  </div>\n"
            ]
          },
          "metadata": {},
          "execution_count": 27
        }
      ],
      "source": [
        "pivot_2 = data.pivot_table(index='family_status', values='debt', aggfunc=['sum','count'])\n",
        "pivot_2['debt_rate_percent'] = pivot_2['sum'] / pivot_2['count'] * 100\n",
        "pivot_2.sort_values(by='debt_rate_percent', ascending=True)"
      ]
    },
    {
      "cell_type": "markdown",
      "id": "62a8e170",
      "metadata": {
        "deletable": false,
        "id": "62a8e170"
      },
      "source": [
        "**Вывод:** наличие официально узаконенных отношений у клиента с партнером положительно влияет на вероятность возврата кредита в срок, причем даже в случае если эти отношения прекращены (развод) и смерти партнера (водвство). Разброс вероятностей невозврата кредита в срок для групп с узаконенными отношениями и групп без них в пределах (9.76 - 6.62) = 3,14%"
      ]
    },
    {
      "cell_type": "markdown",
      "id": "b4502e49",
      "metadata": {
        "deletable": false,
        "editable": false,
        "id": "b4502e49"
      },
      "source": [
        "#### 3.3 Есть ли зависимость между уровнем дохода и возвратом кредита в срок?"
      ]
    },
    {
      "cell_type": "code",
      "execution_count": null,
      "id": "0ffbd59f",
      "metadata": {
        "deletable": false,
        "id": "0ffbd59f"
      },
      "outputs": [],
      "source": [
        "# Ваш код будет здесь. Вы можете создавать новые ячейки."
      ]
    },
    {
      "cell_type": "markdown",
      "id": "cff17929",
      "metadata": {
        "id": "cff17929"
      },
      "source": [
        "Так как переменная уровня дохода является количественной, а не категориальной как в двух предыдущих заданиях, будем пользоваться уже выполненной нами в Задании 16 категоризацией клиентов по уровню дохода на группы:\n",
        "\n",
        "- 0–30000 — `'E'`;\n",
        "- 30001–50000 — `'D'`;\n",
        "- 50001–200000 — `'C'`;\n",
        "- 200001–1000000 — `'B'`;\n",
        "- 1000001 и выше — `'A'`.\n",
        "\n",
        "Эти данные содержатся в столбце 'total_income_category'.\n",
        "\n",
        "Аналогично предыдущему заданию для каждой категории уровня дохода посчитаем общее количество клиентов, а также количество клиентов, имевших проблемы с возвратом кредита в срок. Вычислим долю проблемных от общего числа клиентов в процентах для каждой категории уровня дохода.\n"
      ]
    },
    {
      "cell_type": "code",
      "execution_count": null,
      "id": "fd8bfc03",
      "metadata": {
        "colab": {
          "base_uri": "https://localhost:8080/",
          "height": 266
        },
        "id": "fd8bfc03",
        "outputId": "52b3db66-2e82-432b-acf2-f932d0902270"
      },
      "outputs": [
        {
          "output_type": "execute_result",
          "data": {
            "text/plain": [
              "                        sum  count debt_rate_percent\n",
              "                       debt   debt                  \n",
              "total_income_category                               \n",
              "D                        21    349          6.017192\n",
              "B                       354   5014          7.060231\n",
              "A                         2     25          8.000000\n",
              "C                      1353  15921          8.498210\n",
              "E                         2     22          9.090909"
            ],
            "text/html": [
              "\n",
              "\n",
              "  <div id=\"df-b620df23-d2be-4423-ab89-3162719c6539\">\n",
              "    <div class=\"colab-df-container\">\n",
              "      <div>\n",
              "<style scoped>\n",
              "    .dataframe tbody tr th:only-of-type {\n",
              "        vertical-align: middle;\n",
              "    }\n",
              "\n",
              "    .dataframe tbody tr th {\n",
              "        vertical-align: top;\n",
              "    }\n",
              "\n",
              "    .dataframe thead tr th {\n",
              "        text-align: left;\n",
              "    }\n",
              "\n",
              "    .dataframe thead tr:last-of-type th {\n",
              "        text-align: right;\n",
              "    }\n",
              "</style>\n",
              "<table border=\"1\" class=\"dataframe\">\n",
              "  <thead>\n",
              "    <tr>\n",
              "      <th></th>\n",
              "      <th>sum</th>\n",
              "      <th>count</th>\n",
              "      <th>debt_rate_percent</th>\n",
              "    </tr>\n",
              "    <tr>\n",
              "      <th></th>\n",
              "      <th>debt</th>\n",
              "      <th>debt</th>\n",
              "      <th></th>\n",
              "    </tr>\n",
              "    <tr>\n",
              "      <th>total_income_category</th>\n",
              "      <th></th>\n",
              "      <th></th>\n",
              "      <th></th>\n",
              "    </tr>\n",
              "  </thead>\n",
              "  <tbody>\n",
              "    <tr>\n",
              "      <th>D</th>\n",
              "      <td>21</td>\n",
              "      <td>349</td>\n",
              "      <td>6.017192</td>\n",
              "    </tr>\n",
              "    <tr>\n",
              "      <th>B</th>\n",
              "      <td>354</td>\n",
              "      <td>5014</td>\n",
              "      <td>7.060231</td>\n",
              "    </tr>\n",
              "    <tr>\n",
              "      <th>A</th>\n",
              "      <td>2</td>\n",
              "      <td>25</td>\n",
              "      <td>8.000000</td>\n",
              "    </tr>\n",
              "    <tr>\n",
              "      <th>C</th>\n",
              "      <td>1353</td>\n",
              "      <td>15921</td>\n",
              "      <td>8.498210</td>\n",
              "    </tr>\n",
              "    <tr>\n",
              "      <th>E</th>\n",
              "      <td>2</td>\n",
              "      <td>22</td>\n",
              "      <td>9.090909</td>\n",
              "    </tr>\n",
              "  </tbody>\n",
              "</table>\n",
              "</div>\n",
              "      <button class=\"colab-df-convert\" onclick=\"convertToInteractive('df-b620df23-d2be-4423-ab89-3162719c6539')\"\n",
              "              title=\"Convert this dataframe to an interactive table.\"\n",
              "              style=\"display:none;\">\n",
              "\n",
              "  <svg xmlns=\"http://www.w3.org/2000/svg\" height=\"24px\"viewBox=\"0 0 24 24\"\n",
              "       width=\"24px\">\n",
              "    <path d=\"M0 0h24v24H0V0z\" fill=\"none\"/>\n",
              "    <path d=\"M18.56 5.44l.94 2.06.94-2.06 2.06-.94-2.06-.94-.94-2.06-.94 2.06-2.06.94zm-11 1L8.5 8.5l.94-2.06 2.06-.94-2.06-.94L8.5 2.5l-.94 2.06-2.06.94zm10 10l.94 2.06.94-2.06 2.06-.94-2.06-.94-.94-2.06-.94 2.06-2.06.94z\"/><path d=\"M17.41 7.96l-1.37-1.37c-.4-.4-.92-.59-1.43-.59-.52 0-1.04.2-1.43.59L10.3 9.45l-7.72 7.72c-.78.78-.78 2.05 0 2.83L4 21.41c.39.39.9.59 1.41.59.51 0 1.02-.2 1.41-.59l7.78-7.78 2.81-2.81c.8-.78.8-2.07 0-2.86zM5.41 20L4 18.59l7.72-7.72 1.47 1.35L5.41 20z\"/>\n",
              "  </svg>\n",
              "      </button>\n",
              "\n",
              "\n",
              "\n",
              "    <div id=\"df-b3792139-3a02-43a2-9898-c132deb3f4e1\">\n",
              "      <button class=\"colab-df-quickchart\" onclick=\"quickchart('df-b3792139-3a02-43a2-9898-c132deb3f4e1')\"\n",
              "              title=\"Suggest charts.\"\n",
              "              style=\"display:none;\">\n",
              "\n",
              "<svg xmlns=\"http://www.w3.org/2000/svg\" height=\"24px\"viewBox=\"0 0 24 24\"\n",
              "     width=\"24px\">\n",
              "    <g>\n",
              "        <path d=\"M19 3H5c-1.1 0-2 .9-2 2v14c0 1.1.9 2 2 2h14c1.1 0 2-.9 2-2V5c0-1.1-.9-2-2-2zM9 17H7v-7h2v7zm4 0h-2V7h2v10zm4 0h-2v-4h2v4z\"/>\n",
              "    </g>\n",
              "</svg>\n",
              "      </button>\n",
              "    </div>\n",
              "\n",
              "<style>\n",
              "  .colab-df-quickchart {\n",
              "    background-color: #E8F0FE;\n",
              "    border: none;\n",
              "    border-radius: 50%;\n",
              "    cursor: pointer;\n",
              "    display: none;\n",
              "    fill: #1967D2;\n",
              "    height: 32px;\n",
              "    padding: 0 0 0 0;\n",
              "    width: 32px;\n",
              "  }\n",
              "\n",
              "  .colab-df-quickchart:hover {\n",
              "    background-color: #E2EBFA;\n",
              "    box-shadow: 0px 1px 2px rgba(60, 64, 67, 0.3), 0px 1px 3px 1px rgba(60, 64, 67, 0.15);\n",
              "    fill: #174EA6;\n",
              "  }\n",
              "\n",
              "  [theme=dark] .colab-df-quickchart {\n",
              "    background-color: #3B4455;\n",
              "    fill: #D2E3FC;\n",
              "  }\n",
              "\n",
              "  [theme=dark] .colab-df-quickchart:hover {\n",
              "    background-color: #434B5C;\n",
              "    box-shadow: 0px 1px 3px 1px rgba(0, 0, 0, 0.15);\n",
              "    filter: drop-shadow(0px 1px 2px rgba(0, 0, 0, 0.3));\n",
              "    fill: #FFFFFF;\n",
              "  }\n",
              "</style>\n",
              "\n",
              "    <script>\n",
              "      async function quickchart(key) {\n",
              "        const containerElement = document.querySelector('#' + key);\n",
              "        const charts = await google.colab.kernel.invokeFunction(\n",
              "            'suggestCharts', [key], {});\n",
              "      }\n",
              "    </script>\n",
              "\n",
              "      <script>\n",
              "\n",
              "function displayQuickchartButton(domScope) {\n",
              "  let quickchartButtonEl =\n",
              "    domScope.querySelector('#df-b3792139-3a02-43a2-9898-c132deb3f4e1 button.colab-df-quickchart');\n",
              "  quickchartButtonEl.style.display =\n",
              "    google.colab.kernel.accessAllowed ? 'block' : 'none';\n",
              "}\n",
              "\n",
              "        displayQuickchartButton(document);\n",
              "      </script>\n",
              "      <style>\n",
              "    .colab-df-container {\n",
              "      display:flex;\n",
              "      flex-wrap:wrap;\n",
              "      gap: 12px;\n",
              "    }\n",
              "\n",
              "    .colab-df-convert {\n",
              "      background-color: #E8F0FE;\n",
              "      border: none;\n",
              "      border-radius: 50%;\n",
              "      cursor: pointer;\n",
              "      display: none;\n",
              "      fill: #1967D2;\n",
              "      height: 32px;\n",
              "      padding: 0 0 0 0;\n",
              "      width: 32px;\n",
              "    }\n",
              "\n",
              "    .colab-df-convert:hover {\n",
              "      background-color: #E2EBFA;\n",
              "      box-shadow: 0px 1px 2px rgba(60, 64, 67, 0.3), 0px 1px 3px 1px rgba(60, 64, 67, 0.15);\n",
              "      fill: #174EA6;\n",
              "    }\n",
              "\n",
              "    [theme=dark] .colab-df-convert {\n",
              "      background-color: #3B4455;\n",
              "      fill: #D2E3FC;\n",
              "    }\n",
              "\n",
              "    [theme=dark] .colab-df-convert:hover {\n",
              "      background-color: #434B5C;\n",
              "      box-shadow: 0px 1px 3px 1px rgba(0, 0, 0, 0.15);\n",
              "      filter: drop-shadow(0px 1px 2px rgba(0, 0, 0, 0.3));\n",
              "      fill: #FFFFFF;\n",
              "    }\n",
              "  </style>\n",
              "\n",
              "      <script>\n",
              "        const buttonEl =\n",
              "          document.querySelector('#df-b620df23-d2be-4423-ab89-3162719c6539 button.colab-df-convert');\n",
              "        buttonEl.style.display =\n",
              "          google.colab.kernel.accessAllowed ? 'block' : 'none';\n",
              "\n",
              "        async function convertToInteractive(key) {\n",
              "          const element = document.querySelector('#df-b620df23-d2be-4423-ab89-3162719c6539');\n",
              "          const dataTable =\n",
              "            await google.colab.kernel.invokeFunction('convertToInteractive',\n",
              "                                                     [key], {});\n",
              "          if (!dataTable) return;\n",
              "\n",
              "          const docLinkHtml = 'Like what you see? Visit the ' +\n",
              "            '<a target=\"_blank\" href=https://colab.research.google.com/notebooks/data_table.ipynb>data table notebook</a>'\n",
              "            + ' to learn more about interactive tables.';\n",
              "          element.innerHTML = '';\n",
              "          dataTable['output_type'] = 'display_data';\n",
              "          await google.colab.output.renderOutput(dataTable, element);\n",
              "          const docLink = document.createElement('div');\n",
              "          docLink.innerHTML = docLinkHtml;\n",
              "          element.appendChild(docLink);\n",
              "        }\n",
              "      </script>\n",
              "    </div>\n",
              "  </div>\n"
            ]
          },
          "metadata": {},
          "execution_count": 29
        }
      ],
      "source": [
        "pivot_3 = data.pivot_table(index='total_income_category', values='debt', aggfunc=['sum','count'])\n",
        "pivot_3['debt_rate_percent'] = pivot_3['sum'] / pivot_3['count'] * 100\n",
        "pivot_3.sort_values(by='debt_rate_percent', ascending=True)"
      ]
    },
    {
      "cell_type": "markdown",
      "id": "0e7c77b0",
      "metadata": {
        "id": "0e7c77b0"
      },
      "source": [
        "Наблюдаем, что количество людей в категориях А и Е слишком мало для статистической значимости. Попробуем переопределить категорийность. Новая сетка категорий:\n",
        "- 0–100000 — `'C'`;\n",
        "- 100001–200000 — `'B'`;\n",
        "- 200001 и выше — `'A'`."
      ]
    },
    {
      "cell_type": "code",
      "execution_count": null,
      "id": "34411f6a",
      "metadata": {
        "id": "34411f6a"
      },
      "outputs": [],
      "source": [
        "# переопределим функцию categorize_income()\n",
        "\n",
        "def categorize_income(income):\n",
        "    try:\n",
        "        if 0 <= income <= 100000:\n",
        "            return 'C'\n",
        "        elif 100001 <= income <= 200000:\n",
        "            return 'B'\n",
        "        elif income > 200000:\n",
        "            return 'A'\n",
        "    except:\n",
        "        pass"
      ]
    },
    {
      "cell_type": "code",
      "execution_count": null,
      "id": "021d2230",
      "metadata": {
        "colab": {
          "base_uri": "https://localhost:8080/"
        },
        "id": "021d2230",
        "outputId": "6187db4d-db08-492d-bd28-0daae1840afd"
      },
      "outputs": [
        {
          "output_type": "stream",
          "name": "stdout",
          "text": [
            "['A' 'B' 'C']\n"
          ]
        }
      ],
      "source": [
        "# переопределим столбец 'total_income_category' и выведем для проверки уникальные значения столбца\n",
        "data['total_income_category'] = data['total_income'].apply(categorize_income)\n",
        "print(data['total_income_category'].unique())"
      ]
    },
    {
      "cell_type": "code",
      "execution_count": null,
      "id": "c5d26fb4",
      "metadata": {
        "colab": {
          "base_uri": "https://localhost:8080/",
          "height": 204
        },
        "id": "c5d26fb4",
        "outputId": "b065fae8-3601-4943-b4a3-ec2fde6f938e"
      },
      "outputs": [
        {
          "output_type": "execute_result",
          "data": {
            "text/plain": [
              "                        sum  count debt_rate_percent\n",
              "                       debt   debt                  \n",
              "total_income_category                               \n",
              "A                       356   5039          7.064894\n",
              "C                       354   4444          7.965797\n",
              "B                      1022  11848          8.625928"
            ],
            "text/html": [
              "\n",
              "\n",
              "  <div id=\"df-3124d5d0-30eb-467a-bcc0-1ff2120f3c82\">\n",
              "    <div class=\"colab-df-container\">\n",
              "      <div>\n",
              "<style scoped>\n",
              "    .dataframe tbody tr th:only-of-type {\n",
              "        vertical-align: middle;\n",
              "    }\n",
              "\n",
              "    .dataframe tbody tr th {\n",
              "        vertical-align: top;\n",
              "    }\n",
              "\n",
              "    .dataframe thead tr th {\n",
              "        text-align: left;\n",
              "    }\n",
              "\n",
              "    .dataframe thead tr:last-of-type th {\n",
              "        text-align: right;\n",
              "    }\n",
              "</style>\n",
              "<table border=\"1\" class=\"dataframe\">\n",
              "  <thead>\n",
              "    <tr>\n",
              "      <th></th>\n",
              "      <th>sum</th>\n",
              "      <th>count</th>\n",
              "      <th>debt_rate_percent</th>\n",
              "    </tr>\n",
              "    <tr>\n",
              "      <th></th>\n",
              "      <th>debt</th>\n",
              "      <th>debt</th>\n",
              "      <th></th>\n",
              "    </tr>\n",
              "    <tr>\n",
              "      <th>total_income_category</th>\n",
              "      <th></th>\n",
              "      <th></th>\n",
              "      <th></th>\n",
              "    </tr>\n",
              "  </thead>\n",
              "  <tbody>\n",
              "    <tr>\n",
              "      <th>A</th>\n",
              "      <td>356</td>\n",
              "      <td>5039</td>\n",
              "      <td>7.064894</td>\n",
              "    </tr>\n",
              "    <tr>\n",
              "      <th>C</th>\n",
              "      <td>354</td>\n",
              "      <td>4444</td>\n",
              "      <td>7.965797</td>\n",
              "    </tr>\n",
              "    <tr>\n",
              "      <th>B</th>\n",
              "      <td>1022</td>\n",
              "      <td>11848</td>\n",
              "      <td>8.625928</td>\n",
              "    </tr>\n",
              "  </tbody>\n",
              "</table>\n",
              "</div>\n",
              "      <button class=\"colab-df-convert\" onclick=\"convertToInteractive('df-3124d5d0-30eb-467a-bcc0-1ff2120f3c82')\"\n",
              "              title=\"Convert this dataframe to an interactive table.\"\n",
              "              style=\"display:none;\">\n",
              "\n",
              "  <svg xmlns=\"http://www.w3.org/2000/svg\" height=\"24px\"viewBox=\"0 0 24 24\"\n",
              "       width=\"24px\">\n",
              "    <path d=\"M0 0h24v24H0V0z\" fill=\"none\"/>\n",
              "    <path d=\"M18.56 5.44l.94 2.06.94-2.06 2.06-.94-2.06-.94-.94-2.06-.94 2.06-2.06.94zm-11 1L8.5 8.5l.94-2.06 2.06-.94-2.06-.94L8.5 2.5l-.94 2.06-2.06.94zm10 10l.94 2.06.94-2.06 2.06-.94-2.06-.94-.94-2.06-.94 2.06-2.06.94z\"/><path d=\"M17.41 7.96l-1.37-1.37c-.4-.4-.92-.59-1.43-.59-.52 0-1.04.2-1.43.59L10.3 9.45l-7.72 7.72c-.78.78-.78 2.05 0 2.83L4 21.41c.39.39.9.59 1.41.59.51 0 1.02-.2 1.41-.59l7.78-7.78 2.81-2.81c.8-.78.8-2.07 0-2.86zM5.41 20L4 18.59l7.72-7.72 1.47 1.35L5.41 20z\"/>\n",
              "  </svg>\n",
              "      </button>\n",
              "\n",
              "\n",
              "\n",
              "    <div id=\"df-8e991622-c88c-4133-bb97-2dd00f5932ca\">\n",
              "      <button class=\"colab-df-quickchart\" onclick=\"quickchart('df-8e991622-c88c-4133-bb97-2dd00f5932ca')\"\n",
              "              title=\"Suggest charts.\"\n",
              "              style=\"display:none;\">\n",
              "\n",
              "<svg xmlns=\"http://www.w3.org/2000/svg\" height=\"24px\"viewBox=\"0 0 24 24\"\n",
              "     width=\"24px\">\n",
              "    <g>\n",
              "        <path d=\"M19 3H5c-1.1 0-2 .9-2 2v14c0 1.1.9 2 2 2h14c1.1 0 2-.9 2-2V5c0-1.1-.9-2-2-2zM9 17H7v-7h2v7zm4 0h-2V7h2v10zm4 0h-2v-4h2v4z\"/>\n",
              "    </g>\n",
              "</svg>\n",
              "      </button>\n",
              "    </div>\n",
              "\n",
              "<style>\n",
              "  .colab-df-quickchart {\n",
              "    background-color: #E8F0FE;\n",
              "    border: none;\n",
              "    border-radius: 50%;\n",
              "    cursor: pointer;\n",
              "    display: none;\n",
              "    fill: #1967D2;\n",
              "    height: 32px;\n",
              "    padding: 0 0 0 0;\n",
              "    width: 32px;\n",
              "  }\n",
              "\n",
              "  .colab-df-quickchart:hover {\n",
              "    background-color: #E2EBFA;\n",
              "    box-shadow: 0px 1px 2px rgba(60, 64, 67, 0.3), 0px 1px 3px 1px rgba(60, 64, 67, 0.15);\n",
              "    fill: #174EA6;\n",
              "  }\n",
              "\n",
              "  [theme=dark] .colab-df-quickchart {\n",
              "    background-color: #3B4455;\n",
              "    fill: #D2E3FC;\n",
              "  }\n",
              "\n",
              "  [theme=dark] .colab-df-quickchart:hover {\n",
              "    background-color: #434B5C;\n",
              "    box-shadow: 0px 1px 3px 1px rgba(0, 0, 0, 0.15);\n",
              "    filter: drop-shadow(0px 1px 2px rgba(0, 0, 0, 0.3));\n",
              "    fill: #FFFFFF;\n",
              "  }\n",
              "</style>\n",
              "\n",
              "    <script>\n",
              "      async function quickchart(key) {\n",
              "        const containerElement = document.querySelector('#' + key);\n",
              "        const charts = await google.colab.kernel.invokeFunction(\n",
              "            'suggestCharts', [key], {});\n",
              "      }\n",
              "    </script>\n",
              "\n",
              "      <script>\n",
              "\n",
              "function displayQuickchartButton(domScope) {\n",
              "  let quickchartButtonEl =\n",
              "    domScope.querySelector('#df-8e991622-c88c-4133-bb97-2dd00f5932ca button.colab-df-quickchart');\n",
              "  quickchartButtonEl.style.display =\n",
              "    google.colab.kernel.accessAllowed ? 'block' : 'none';\n",
              "}\n",
              "\n",
              "        displayQuickchartButton(document);\n",
              "      </script>\n",
              "      <style>\n",
              "    .colab-df-container {\n",
              "      display:flex;\n",
              "      flex-wrap:wrap;\n",
              "      gap: 12px;\n",
              "    }\n",
              "\n",
              "    .colab-df-convert {\n",
              "      background-color: #E8F0FE;\n",
              "      border: none;\n",
              "      border-radius: 50%;\n",
              "      cursor: pointer;\n",
              "      display: none;\n",
              "      fill: #1967D2;\n",
              "      height: 32px;\n",
              "      padding: 0 0 0 0;\n",
              "      width: 32px;\n",
              "    }\n",
              "\n",
              "    .colab-df-convert:hover {\n",
              "      background-color: #E2EBFA;\n",
              "      box-shadow: 0px 1px 2px rgba(60, 64, 67, 0.3), 0px 1px 3px 1px rgba(60, 64, 67, 0.15);\n",
              "      fill: #174EA6;\n",
              "    }\n",
              "\n",
              "    [theme=dark] .colab-df-convert {\n",
              "      background-color: #3B4455;\n",
              "      fill: #D2E3FC;\n",
              "    }\n",
              "\n",
              "    [theme=dark] .colab-df-convert:hover {\n",
              "      background-color: #434B5C;\n",
              "      box-shadow: 0px 1px 3px 1px rgba(0, 0, 0, 0.15);\n",
              "      filter: drop-shadow(0px 1px 2px rgba(0, 0, 0, 0.3));\n",
              "      fill: #FFFFFF;\n",
              "    }\n",
              "  </style>\n",
              "\n",
              "      <script>\n",
              "        const buttonEl =\n",
              "          document.querySelector('#df-3124d5d0-30eb-467a-bcc0-1ff2120f3c82 button.colab-df-convert');\n",
              "        buttonEl.style.display =\n",
              "          google.colab.kernel.accessAllowed ? 'block' : 'none';\n",
              "\n",
              "        async function convertToInteractive(key) {\n",
              "          const element = document.querySelector('#df-3124d5d0-30eb-467a-bcc0-1ff2120f3c82');\n",
              "          const dataTable =\n",
              "            await google.colab.kernel.invokeFunction('convertToInteractive',\n",
              "                                                     [key], {});\n",
              "          if (!dataTable) return;\n",
              "\n",
              "          const docLinkHtml = 'Like what you see? Visit the ' +\n",
              "            '<a target=\"_blank\" href=https://colab.research.google.com/notebooks/data_table.ipynb>data table notebook</a>'\n",
              "            + ' to learn more about interactive tables.';\n",
              "          element.innerHTML = '';\n",
              "          dataTable['output_type'] = 'display_data';\n",
              "          await google.colab.output.renderOutput(dataTable, element);\n",
              "          const docLink = document.createElement('div');\n",
              "          docLink.innerHTML = docLinkHtml;\n",
              "          element.appendChild(docLink);\n",
              "        }\n",
              "      </script>\n",
              "    </div>\n",
              "  </div>\n"
            ]
          },
          "metadata": {},
          "execution_count": 32
        }
      ],
      "source": [
        "# создадим pivot_table для обновленного датафрейма\n",
        "pivot_3 = data.pivot_table(index='total_income_category', values='debt', aggfunc=['sum','count'])\n",
        "pivot_3['debt_rate_percent'] = pivot_3['sum'] / pivot_3['count'] * 100\n",
        "pivot_3.sort_values(by='debt_rate_percent', ascending=True)"
      ]
    },
    {
      "cell_type": "markdown",
      "id": "b3b482ec",
      "metadata": {
        "id": "b3b482ec"
      },
      "source": [
        "Теперь видим, что категории сопоставимы по количеству людей, можем остановиться на этом."
      ]
    },
    {
      "cell_type": "markdown",
      "id": "8db1e8eb",
      "metadata": {
        "deletable": false,
        "id": "8db1e8eb"
      },
      "source": [
        "**Вывод:** Наблюдаем, что наиболее надежными заёмщиками являются люди попадающие в категорию доходов от 200 000 руб и выше. Люди в категории доходов менее 100 000 руб менее надежные заемщики, а люди в категории доходов от 100 000 до 200 000 наименее надежные. нблюдается нелинейная зависимость вероятности возврата кредита в срок от уровня дохода. Разброс вероятности (8.63-7.06) = 1.57%"
      ]
    },
    {
      "cell_type": "markdown",
      "id": "1d5456bc",
      "metadata": {
        "deletable": false,
        "editable": false,
        "id": "1d5456bc"
      },
      "source": [
        "#### 3.4 Как разные цели кредита влияют на его возврат в срок?"
      ]
    },
    {
      "cell_type": "code",
      "execution_count": null,
      "id": "fdcf378d",
      "metadata": {
        "deletable": false,
        "id": "fdcf378d"
      },
      "outputs": [],
      "source": [
        "# Ваш код будет здесь. Вы можете создавать новые ячейки."
      ]
    },
    {
      "cell_type": "markdown",
      "id": "d5edf8c6",
      "metadata": {
        "id": "d5edf8c6"
      },
      "source": [
        "Воспользуемся уже выполненной нами в Задании 18 категоризацией клиентов по целям кредита:\n",
        "\n",
        "- `'операции с автомобилем'`,\n",
        "- `'операции с недвижимостью'`,\n",
        "- `'проведение свадьбы'`,\n",
        "- `'получение образования'`.\n",
        "\n",
        "Эти данные записаны в созданном в исходном датафрейме столбце 'purpose_category'.\n",
        "\n",
        "Создадим пивот-таблицу pivot_4 по тому же алгоритму"
      ]
    },
    {
      "cell_type": "code",
      "execution_count": null,
      "id": "676b456f",
      "metadata": {
        "colab": {
          "base_uri": "https://localhost:8080/",
          "height": 235
        },
        "id": "676b456f",
        "outputId": "77f6cc54-87b6-46c7-f954-972bcd381342"
      },
      "outputs": [
        {
          "output_type": "execute_result",
          "data": {
            "text/plain": [
              "                          sum  count debt_rate_percent\n",
              "                         debt   debt                  \n",
              "purpose_category                                      \n",
              "операции с недвижимостью  780  10751          7.255139\n",
              "проведение свадьбы        183   2313          7.911803\n",
              "получение образования     369   3988          9.252758\n",
              "операции с автомобилем    400   4279          9.347978"
            ],
            "text/html": [
              "\n",
              "\n",
              "  <div id=\"df-0762477e-fb20-49fc-89f5-b7e9c1a9edab\">\n",
              "    <div class=\"colab-df-container\">\n",
              "      <div>\n",
              "<style scoped>\n",
              "    .dataframe tbody tr th:only-of-type {\n",
              "        vertical-align: middle;\n",
              "    }\n",
              "\n",
              "    .dataframe tbody tr th {\n",
              "        vertical-align: top;\n",
              "    }\n",
              "\n",
              "    .dataframe thead tr th {\n",
              "        text-align: left;\n",
              "    }\n",
              "\n",
              "    .dataframe thead tr:last-of-type th {\n",
              "        text-align: right;\n",
              "    }\n",
              "</style>\n",
              "<table border=\"1\" class=\"dataframe\">\n",
              "  <thead>\n",
              "    <tr>\n",
              "      <th></th>\n",
              "      <th>sum</th>\n",
              "      <th>count</th>\n",
              "      <th>debt_rate_percent</th>\n",
              "    </tr>\n",
              "    <tr>\n",
              "      <th></th>\n",
              "      <th>debt</th>\n",
              "      <th>debt</th>\n",
              "      <th></th>\n",
              "    </tr>\n",
              "    <tr>\n",
              "      <th>purpose_category</th>\n",
              "      <th></th>\n",
              "      <th></th>\n",
              "      <th></th>\n",
              "    </tr>\n",
              "  </thead>\n",
              "  <tbody>\n",
              "    <tr>\n",
              "      <th>операции с недвижимостью</th>\n",
              "      <td>780</td>\n",
              "      <td>10751</td>\n",
              "      <td>7.255139</td>\n",
              "    </tr>\n",
              "    <tr>\n",
              "      <th>проведение свадьбы</th>\n",
              "      <td>183</td>\n",
              "      <td>2313</td>\n",
              "      <td>7.911803</td>\n",
              "    </tr>\n",
              "    <tr>\n",
              "      <th>получение образования</th>\n",
              "      <td>369</td>\n",
              "      <td>3988</td>\n",
              "      <td>9.252758</td>\n",
              "    </tr>\n",
              "    <tr>\n",
              "      <th>операции с автомобилем</th>\n",
              "      <td>400</td>\n",
              "      <td>4279</td>\n",
              "      <td>9.347978</td>\n",
              "    </tr>\n",
              "  </tbody>\n",
              "</table>\n",
              "</div>\n",
              "      <button class=\"colab-df-convert\" onclick=\"convertToInteractive('df-0762477e-fb20-49fc-89f5-b7e9c1a9edab')\"\n",
              "              title=\"Convert this dataframe to an interactive table.\"\n",
              "              style=\"display:none;\">\n",
              "\n",
              "  <svg xmlns=\"http://www.w3.org/2000/svg\" height=\"24px\"viewBox=\"0 0 24 24\"\n",
              "       width=\"24px\">\n",
              "    <path d=\"M0 0h24v24H0V0z\" fill=\"none\"/>\n",
              "    <path d=\"M18.56 5.44l.94 2.06.94-2.06 2.06-.94-2.06-.94-.94-2.06-.94 2.06-2.06.94zm-11 1L8.5 8.5l.94-2.06 2.06-.94-2.06-.94L8.5 2.5l-.94 2.06-2.06.94zm10 10l.94 2.06.94-2.06 2.06-.94-2.06-.94-.94-2.06-.94 2.06-2.06.94z\"/><path d=\"M17.41 7.96l-1.37-1.37c-.4-.4-.92-.59-1.43-.59-.52 0-1.04.2-1.43.59L10.3 9.45l-7.72 7.72c-.78.78-.78 2.05 0 2.83L4 21.41c.39.39.9.59 1.41.59.51 0 1.02-.2 1.41-.59l7.78-7.78 2.81-2.81c.8-.78.8-2.07 0-2.86zM5.41 20L4 18.59l7.72-7.72 1.47 1.35L5.41 20z\"/>\n",
              "  </svg>\n",
              "      </button>\n",
              "\n",
              "\n",
              "\n",
              "    <div id=\"df-cb76eaab-63d7-4ff0-acbd-b262bd28e4f2\">\n",
              "      <button class=\"colab-df-quickchart\" onclick=\"quickchart('df-cb76eaab-63d7-4ff0-acbd-b262bd28e4f2')\"\n",
              "              title=\"Suggest charts.\"\n",
              "              style=\"display:none;\">\n",
              "\n",
              "<svg xmlns=\"http://www.w3.org/2000/svg\" height=\"24px\"viewBox=\"0 0 24 24\"\n",
              "     width=\"24px\">\n",
              "    <g>\n",
              "        <path d=\"M19 3H5c-1.1 0-2 .9-2 2v14c0 1.1.9 2 2 2h14c1.1 0 2-.9 2-2V5c0-1.1-.9-2-2-2zM9 17H7v-7h2v7zm4 0h-2V7h2v10zm4 0h-2v-4h2v4z\"/>\n",
              "    </g>\n",
              "</svg>\n",
              "      </button>\n",
              "    </div>\n",
              "\n",
              "<style>\n",
              "  .colab-df-quickchart {\n",
              "    background-color: #E8F0FE;\n",
              "    border: none;\n",
              "    border-radius: 50%;\n",
              "    cursor: pointer;\n",
              "    display: none;\n",
              "    fill: #1967D2;\n",
              "    height: 32px;\n",
              "    padding: 0 0 0 0;\n",
              "    width: 32px;\n",
              "  }\n",
              "\n",
              "  .colab-df-quickchart:hover {\n",
              "    background-color: #E2EBFA;\n",
              "    box-shadow: 0px 1px 2px rgba(60, 64, 67, 0.3), 0px 1px 3px 1px rgba(60, 64, 67, 0.15);\n",
              "    fill: #174EA6;\n",
              "  }\n",
              "\n",
              "  [theme=dark] .colab-df-quickchart {\n",
              "    background-color: #3B4455;\n",
              "    fill: #D2E3FC;\n",
              "  }\n",
              "\n",
              "  [theme=dark] .colab-df-quickchart:hover {\n",
              "    background-color: #434B5C;\n",
              "    box-shadow: 0px 1px 3px 1px rgba(0, 0, 0, 0.15);\n",
              "    filter: drop-shadow(0px 1px 2px rgba(0, 0, 0, 0.3));\n",
              "    fill: #FFFFFF;\n",
              "  }\n",
              "</style>\n",
              "\n",
              "    <script>\n",
              "      async function quickchart(key) {\n",
              "        const containerElement = document.querySelector('#' + key);\n",
              "        const charts = await google.colab.kernel.invokeFunction(\n",
              "            'suggestCharts', [key], {});\n",
              "      }\n",
              "    </script>\n",
              "\n",
              "      <script>\n",
              "\n",
              "function displayQuickchartButton(domScope) {\n",
              "  let quickchartButtonEl =\n",
              "    domScope.querySelector('#df-cb76eaab-63d7-4ff0-acbd-b262bd28e4f2 button.colab-df-quickchart');\n",
              "  quickchartButtonEl.style.display =\n",
              "    google.colab.kernel.accessAllowed ? 'block' : 'none';\n",
              "}\n",
              "\n",
              "        displayQuickchartButton(document);\n",
              "      </script>\n",
              "      <style>\n",
              "    .colab-df-container {\n",
              "      display:flex;\n",
              "      flex-wrap:wrap;\n",
              "      gap: 12px;\n",
              "    }\n",
              "\n",
              "    .colab-df-convert {\n",
              "      background-color: #E8F0FE;\n",
              "      border: none;\n",
              "      border-radius: 50%;\n",
              "      cursor: pointer;\n",
              "      display: none;\n",
              "      fill: #1967D2;\n",
              "      height: 32px;\n",
              "      padding: 0 0 0 0;\n",
              "      width: 32px;\n",
              "    }\n",
              "\n",
              "    .colab-df-convert:hover {\n",
              "      background-color: #E2EBFA;\n",
              "      box-shadow: 0px 1px 2px rgba(60, 64, 67, 0.3), 0px 1px 3px 1px rgba(60, 64, 67, 0.15);\n",
              "      fill: #174EA6;\n",
              "    }\n",
              "\n",
              "    [theme=dark] .colab-df-convert {\n",
              "      background-color: #3B4455;\n",
              "      fill: #D2E3FC;\n",
              "    }\n",
              "\n",
              "    [theme=dark] .colab-df-convert:hover {\n",
              "      background-color: #434B5C;\n",
              "      box-shadow: 0px 1px 3px 1px rgba(0, 0, 0, 0.15);\n",
              "      filter: drop-shadow(0px 1px 2px rgba(0, 0, 0, 0.3));\n",
              "      fill: #FFFFFF;\n",
              "    }\n",
              "  </style>\n",
              "\n",
              "      <script>\n",
              "        const buttonEl =\n",
              "          document.querySelector('#df-0762477e-fb20-49fc-89f5-b7e9c1a9edab button.colab-df-convert');\n",
              "        buttonEl.style.display =\n",
              "          google.colab.kernel.accessAllowed ? 'block' : 'none';\n",
              "\n",
              "        async function convertToInteractive(key) {\n",
              "          const element = document.querySelector('#df-0762477e-fb20-49fc-89f5-b7e9c1a9edab');\n",
              "          const dataTable =\n",
              "            await google.colab.kernel.invokeFunction('convertToInteractive',\n",
              "                                                     [key], {});\n",
              "          if (!dataTable) return;\n",
              "\n",
              "          const docLinkHtml = 'Like what you see? Visit the ' +\n",
              "            '<a target=\"_blank\" href=https://colab.research.google.com/notebooks/data_table.ipynb>data table notebook</a>'\n",
              "            + ' to learn more about interactive tables.';\n",
              "          element.innerHTML = '';\n",
              "          dataTable['output_type'] = 'display_data';\n",
              "          await google.colab.output.renderOutput(dataTable, element);\n",
              "          const docLink = document.createElement('div');\n",
              "          docLink.innerHTML = docLinkHtml;\n",
              "          element.appendChild(docLink);\n",
              "        }\n",
              "      </script>\n",
              "    </div>\n",
              "  </div>\n"
            ]
          },
          "metadata": {},
          "execution_count": 34
        }
      ],
      "source": [
        "pivot_4 = data.pivot_table(index='purpose_category', values='debt', aggfunc=['sum','count'])\n",
        "pivot_4['debt_rate_percent'] = pivot_4['sum'] / pivot_4['count'] * 100\n",
        "pivot_4.sort_values(by='debt_rate_percent', ascending=True)"
      ]
    },
    {
      "cell_type": "markdown",
      "id": "54171501",
      "metadata": {
        "deletable": false,
        "id": "54171501"
      },
      "source": [
        "**Вывод:** Наблюдаем, что наибольшая вероятность возврата кредита в срок при взятии его клиентом на проведение операций с недвижимостью, далее в порядке убывания вероятности следуют цели проведение свадьбы, получение образования и операции с автомобилем. Разброс вероятности (9.34-7.25) = 2.09%"
      ]
    },
    {
      "cell_type": "markdown",
      "id": "285e0853",
      "metadata": {
        "deletable": false,
        "editable": false,
        "id": "285e0853"
      },
      "source": [
        "#### 3.5 Приведите возможные причины появления пропусков в исходных данных."
      ]
    },
    {
      "cell_type": "markdown",
      "id": "fa8b138b",
      "metadata": {
        "deletable": false,
        "id": "fa8b138b"
      },
      "source": [
        "*Ответ:* пропуски в данных могли появиться из-за человеческого фактора - клиенты могли не заполнить соответствующие поля в электронных анкетах, а также из-за ошибки машинного считывания в случае заполнения клиентами анкет в бумажном виде"
      ]
    },
    {
      "cell_type": "markdown",
      "id": "445c043e",
      "metadata": {
        "deletable": false,
        "editable": false,
        "id": "445c043e"
      },
      "source": [
        "#### 3.6 Объясните, почему заполнить пропуски медианным значением — лучшее решение для количественных переменных."
      ]
    },
    {
      "cell_type": "markdown",
      "id": "f927b52a",
      "metadata": {
        "deletable": false,
        "id": "f927b52a"
      },
      "source": [
        "*Ответ:* заполнять пропуски медианным значением оптимально так как:\n",
        "- ячейку можно учитывать в арефмитических операциях с соответствующим столбцом (не будет возникать ошибки при попытки сложить значение формата None, Nan или строкового с числовым),\n",
        "- медианное значение в ячейке не повлияет на общую картину данных по этому столбцу"
      ]
    },
    {
      "cell_type": "markdown",
      "id": "9fbcba38",
      "metadata": {
        "deletable": false,
        "editable": false,
        "id": "9fbcba38"
      },
      "source": [
        "### Шаг 4: общий вывод."
      ]
    },
    {
      "cell_type": "markdown",
      "id": "eb43e0ae",
      "metadata": {
        "id": "eb43e0ae"
      },
      "source": [
        "<div style=\"background: #B0E0E6; padding: 5px; border: 1px solid SteelBlue; border-radius: 5px;\">\n",
        "    <font color='4682B4'>\n",
        "Общий вывод\n",
        "\n",
        "Проведено исследование влияния на возврат в срок кредита четырех факторов:\n",
        "- количества детей у клиента\n",
        "- семейного положения клиента\n",
        "- дохода клиента\n",
        "- цели, на которую клиент берет кредит\n",
        "Результаты исследования предполагается использовать в построении системы скорринга для оценки надежности новых клинетов, обращающихся в банк за кредитом.\n",
        "Входные данные - статистика по клиентам.\n",
        "\n",
        "Выходные данные - доля клиентов, имевших историю не возврата кредитов в срок от общего числа клиентов для каждой категории исследуемых параметров.\n",
        "\n",
        "- Гипотеза 1 - количество детей у клиента влияет на возврат им кредита в срок\n",
        "- Гипотеза 2 - семейное положение клиента влияет на возврат им кредита в срок\n",
        "- Гипотеза 3 - уровень дохода клиента влияет на возврат им кредита в срок\n",
        "- Гипотеза 4 - цель кредита клиента влияет на возврат им кредита в срок\n",
        "\n",
        "После проверки удалось установить следующее:\n",
        "\n",
        "\n",
        "**Гипотеза 1** подтверждена частично.\n",
        "\n",
        "Результаты исследования:\n",
        "* 7.54% - доля не возвращенных в срок кредитов для клиентов без детей\n",
        "* 9.23% - доля не возвращенных в срок кредитов для клиентов с 1 ребенком\n",
        "* 9.45% - доля не возвращенных в срок кредитов для клиентов с 2 детьми\n",
        "* 8.18% - доля не возвращенных в срок кредитов для клиентов с 3 детьми\n",
        "\n",
        "Выводы: наиболее надежными заемщиками являются клиенты без детей. Доля не возвращенных в срок кредитов увеличивается для клиентов с 1 и 2 детьми.\n",
        "\n",
        "Рекомендация: для более точного исследования клинетов с количеством детей от 3 и больше необходимо предоставить статистику с бОльшим количеством таких клиентов.\n",
        "\n",
        "\n",
        "**Гипотеза 2** подтверждена.\n",
        "\n",
        "Результаты исследования:\n",
        "* 6.56% - доля не возвращенных в срок кредитов для клиентов со статусом вдовец / вдова\n",
        "* 7.11% - доля не возвращенных в срок кредитов для клиентов со статусом в разводе\n",
        "* 7.52% - доля не возвращенных в срок кредитов для клиентов со статусом женат / замужем\n",
        "* 9.29% - доля не возвращенных в срок кредитов для клиентов со статусом гражданский брак\n",
        "* 9.74% - доля не возвращенных в срок кредитов для клиентов со статусом Не женат / не замужем\n",
        "\n",
        "Выводы: Наличие официально узаконенных отношений у клиента с партнером положительно влияет на вероятность возврата кредита в срок, причем даже в случае, если эти отношения прекращены (развод) и смерти партнера (водвство).\n",
        "\n",
        "\n",
        "**Гипотеза 3** подтверждена.\n",
        "\n",
        "Результаты исследования:\n",
        "* 7.93% - доля не возвращенных в срок кредитов для клиентов с уровнем дохода от 0 до 100 000 руб\n",
        "* 8.74% - доля не возвращенных в срок кредитов для клиентов с уровнем дохода от 100 000 до 200 000 руб\n",
        "* 7.07% - доля не возвращенных в срок кредитов для клиентов с уровнем дохода от 200 000 руб и выше\n",
        "\n",
        "Выводы: Наиболее надежные заемщики клиенты с доходом от 200 000 руб, дальше следует группа людей с доходом ниже 100 000 руб, и наименее надежные клиенты с уровнем дохода от 100 000 до 200 000 руб\n",
        "\n",
        "Рекомендации: для более точного исследования клинетов и разделения их на бОльшее число категорий, необходимо предоставить статистику с бОльшим количеством клиентов с уровнем доходов от 0 до 50 000 руб и от 200 000 руб и выше.\n",
        "\n",
        "\n",
        "**Гипотеза 4** подтверждена.\n",
        "\n",
        "Результаты исследования:\n",
        "* 7.21% - доля не возвращенных в срок кредитов взятых клиентом на операции с недвижимостью\n",
        "* 7.92% - доля не возвращенных в срок кредитов взятых клиентом на проведение свадьбы\n",
        "* 9.20% - доля не возвращенных в срок кредитов взятых клиентом на получение образования\n",
        "* 9.34% - доля не возвращенных в срок кредитов взятых клиентом на операции с автомобилем\n",
        "\n",
        "Выводы: Наименее ответственными заемщиками являются люди, берущие кредит на покупку автомобиля и получения образования.\n",
        "\n",
        "\n",
        "**Общие выводы:** все 4 исследованных фактора влияют на платежеспособность замещиков. При проектировании системы скорринга для оценки платежеспособности клиентов рекомендуется присваивать клиентам из соответствующих категорий весовые коэффициенты пропорционально долям не возвращенных в срок кредитов для каждой исследованной категории.</font>\n",
        "</div>"
      ]
    }
  ],
  "metadata": {
    "ExecuteTimeLog": [
      {
        "duration": 687,
        "start_time": "2022-10-26T16:20:28.767Z"
      },
      {
        "duration": 22,
        "start_time": "2022-10-26T16:20:29.456Z"
      },
      {
        "duration": 15,
        "start_time": "2022-10-26T16:20:29.480Z"
      },
      {
        "duration": 19,
        "start_time": "2022-10-26T16:20:29.498Z"
      },
      {
        "duration": 43,
        "start_time": "2022-10-26T16:20:29.518Z"
      },
      {
        "duration": 3,
        "start_time": "2022-10-26T16:20:29.563Z"
      },
      {
        "duration": 23,
        "start_time": "2022-10-26T16:20:29.568Z"
      },
      {
        "duration": 10,
        "start_time": "2022-10-26T16:20:29.592Z"
      },
      {
        "duration": 12,
        "start_time": "2022-10-26T16:20:29.604Z"
      },
      {
        "duration": 6,
        "start_time": "2022-10-26T16:20:29.620Z"
      },
      {
        "duration": 44,
        "start_time": "2022-10-26T16:20:29.628Z"
      },
      {
        "duration": 9,
        "start_time": "2022-10-26T16:20:29.673Z"
      },
      {
        "duration": 21,
        "start_time": "2022-10-26T16:20:29.684Z"
      },
      {
        "duration": 23,
        "start_time": "2022-10-26T16:20:29.707Z"
      },
      {
        "duration": 31,
        "start_time": "2022-10-26T16:20:29.732Z"
      },
      {
        "duration": 16,
        "start_time": "2022-10-26T16:20:29.765Z"
      },
      {
        "duration": 9,
        "start_time": "2022-10-26T16:20:29.782Z"
      },
      {
        "duration": 29,
        "start_time": "2022-10-26T16:20:29.792Z"
      },
      {
        "duration": 21,
        "start_time": "2022-10-26T16:20:29.823Z"
      },
      {
        "duration": 27,
        "start_time": "2022-10-26T16:20:29.846Z"
      },
      {
        "duration": 30,
        "start_time": "2022-10-26T16:20:29.875Z"
      },
      {
        "duration": 6,
        "start_time": "2022-10-26T16:21:29.739Z"
      },
      {
        "duration": 6,
        "start_time": "2022-10-26T16:43:38.476Z"
      },
      {
        "duration": 7,
        "start_time": "2022-10-26T16:43:41.892Z"
      },
      {
        "duration": 8,
        "start_time": "2022-10-26T16:43:49.072Z"
      },
      {
        "duration": 5,
        "start_time": "2022-10-26T16:47:52.540Z"
      },
      {
        "duration": 7,
        "start_time": "2022-10-26T17:03:31.319Z"
      },
      {
        "duration": 4,
        "start_time": "2022-10-26T17:08:05.436Z"
      },
      {
        "duration": 5,
        "start_time": "2022-10-26T17:08:22.441Z"
      },
      {
        "duration": 4,
        "start_time": "2022-10-26T17:08:23.644Z"
      },
      {
        "duration": 6,
        "start_time": "2022-10-26T17:09:25.990Z"
      },
      {
        "duration": 5,
        "start_time": "2022-10-26T17:09:31.088Z"
      },
      {
        "duration": 4,
        "start_time": "2022-10-26T17:18:13.579Z"
      },
      {
        "duration": 5,
        "start_time": "2022-10-26T17:19:10.725Z"
      },
      {
        "duration": 6,
        "start_time": "2022-10-26T17:20:29.216Z"
      },
      {
        "duration": 42,
        "start_time": "2022-10-26T19:50:22.321Z"
      },
      {
        "duration": 490,
        "start_time": "2022-10-26T19:50:28.758Z"
      },
      {
        "duration": 19,
        "start_time": "2022-10-26T19:50:29.250Z"
      },
      {
        "duration": 20,
        "start_time": "2022-10-26T19:50:29.271Z"
      },
      {
        "duration": 10,
        "start_time": "2022-10-26T19:50:29.294Z"
      },
      {
        "duration": 37,
        "start_time": "2022-10-26T19:50:29.306Z"
      },
      {
        "duration": 3,
        "start_time": "2022-10-26T19:50:29.345Z"
      },
      {
        "duration": 17,
        "start_time": "2022-10-26T19:50:29.349Z"
      },
      {
        "duration": 28,
        "start_time": "2022-10-26T19:50:29.367Z"
      },
      {
        "duration": 13,
        "start_time": "2022-10-26T19:50:29.396Z"
      },
      {
        "duration": 17,
        "start_time": "2022-10-26T19:50:29.411Z"
      },
      {
        "duration": 39,
        "start_time": "2022-10-26T19:50:29.429Z"
      },
      {
        "duration": 14,
        "start_time": "2022-10-26T19:50:29.469Z"
      },
      {
        "duration": 17,
        "start_time": "2022-10-26T19:50:29.484Z"
      },
      {
        "duration": 14,
        "start_time": "2022-10-26T19:50:29.503Z"
      },
      {
        "duration": 22,
        "start_time": "2022-10-26T19:50:29.518Z"
      },
      {
        "duration": 14,
        "start_time": "2022-10-26T19:50:29.541Z"
      },
      {
        "duration": 3,
        "start_time": "2022-10-26T19:50:29.557Z"
      },
      {
        "duration": 11,
        "start_time": "2022-10-26T19:50:29.561Z"
      },
      {
        "duration": 11,
        "start_time": "2022-10-26T19:50:29.573Z"
      },
      {
        "duration": 6,
        "start_time": "2022-10-26T19:50:29.590Z"
      },
      {
        "duration": 12,
        "start_time": "2022-10-26T19:50:29.597Z"
      },
      {
        "duration": 4,
        "start_time": "2022-10-26T19:50:29.610Z"
      },
      {
        "duration": 6,
        "start_time": "2022-10-26T19:50:32.988Z"
      },
      {
        "duration": 5,
        "start_time": "2022-10-26T19:52:33.750Z"
      },
      {
        "duration": 7,
        "start_time": "2022-10-26T19:52:44.460Z"
      },
      {
        "duration": 18,
        "start_time": "2022-10-26T19:52:53.308Z"
      },
      {
        "duration": 8,
        "start_time": "2022-10-26T19:53:07.859Z"
      },
      {
        "duration": 6,
        "start_time": "2022-10-26T19:53:44.558Z"
      },
      {
        "duration": 98,
        "start_time": "2022-10-26T19:59:05.355Z"
      },
      {
        "duration": 74,
        "start_time": "2022-10-26T19:59:20.404Z"
      },
      {
        "duration": 95,
        "start_time": "2022-10-26T19:59:33.743Z"
      },
      {
        "duration": 65,
        "start_time": "2022-10-26T20:00:09.608Z"
      },
      {
        "duration": 4,
        "start_time": "2022-10-26T20:01:44.368Z"
      },
      {
        "duration": 7,
        "start_time": "2022-10-26T20:02:13.976Z"
      },
      {
        "duration": 4,
        "start_time": "2022-10-26T20:02:26.735Z"
      },
      {
        "duration": 4,
        "start_time": "2022-10-26T20:02:52.391Z"
      },
      {
        "duration": 4,
        "start_time": "2022-10-26T20:03:00.334Z"
      },
      {
        "duration": 39,
        "start_time": "2022-10-26T20:03:04.867Z"
      },
      {
        "duration": 12,
        "start_time": "2022-10-26T20:11:33.134Z"
      },
      {
        "duration": 15,
        "start_time": "2022-10-26T20:24:02.922Z"
      },
      {
        "duration": 14,
        "start_time": "2022-10-26T20:24:10.606Z"
      },
      {
        "duration": 4,
        "start_time": "2022-10-26T20:24:32.510Z"
      },
      {
        "duration": 5,
        "start_time": "2022-10-26T20:24:42.656Z"
      },
      {
        "duration": 4,
        "start_time": "2022-10-26T20:25:05.341Z"
      },
      {
        "duration": 14,
        "start_time": "2022-10-26T20:25:23.040Z"
      },
      {
        "duration": 13,
        "start_time": "2022-10-26T20:26:18.346Z"
      },
      {
        "duration": 13,
        "start_time": "2022-10-26T20:26:37.534Z"
      },
      {
        "duration": 13,
        "start_time": "2022-10-26T20:26:53.446Z"
      },
      {
        "duration": 22,
        "start_time": "2022-10-26T20:32:28.700Z"
      },
      {
        "duration": 15,
        "start_time": "2022-10-26T20:34:01.093Z"
      },
      {
        "duration": 15,
        "start_time": "2022-10-26T20:46:04.243Z"
      },
      {
        "duration": 12,
        "start_time": "2022-10-26T20:46:16.911Z"
      },
      {
        "duration": 16,
        "start_time": "2022-10-26T20:47:14.276Z"
      },
      {
        "duration": 15,
        "start_time": "2022-10-26T20:47:32.196Z"
      },
      {
        "duration": 16,
        "start_time": "2022-10-26T20:52:05.759Z"
      },
      {
        "duration": 16,
        "start_time": "2022-10-26T20:53:16.308Z"
      },
      {
        "duration": 17,
        "start_time": "2022-10-26T20:55:13.746Z"
      },
      {
        "duration": 15,
        "start_time": "2022-10-26T20:55:45.144Z"
      },
      {
        "duration": 20,
        "start_time": "2022-10-26T20:56:44.364Z"
      },
      {
        "duration": 18,
        "start_time": "2022-10-26T20:57:12.468Z"
      },
      {
        "duration": 26,
        "start_time": "2022-10-26T20:57:24.963Z"
      },
      {
        "duration": 22,
        "start_time": "2022-10-26T20:57:31.877Z"
      },
      {
        "duration": 17,
        "start_time": "2022-10-26T20:58:52.623Z"
      },
      {
        "duration": 14,
        "start_time": "2022-10-26T21:03:39.747Z"
      },
      {
        "duration": 10,
        "start_time": "2022-10-26T21:09:34.224Z"
      },
      {
        "duration": 75,
        "start_time": "2022-10-26T21:10:56.088Z"
      },
      {
        "duration": 11,
        "start_time": "2022-10-26T21:11:19.385Z"
      },
      {
        "duration": 10,
        "start_time": "2022-10-26T21:11:29.329Z"
      },
      {
        "duration": 13,
        "start_time": "2022-10-26T21:14:42.968Z"
      },
      {
        "duration": 4,
        "start_time": "2022-10-26T21:15:43.921Z"
      },
      {
        "duration": 22,
        "start_time": "2022-10-26T21:16:20.795Z"
      },
      {
        "duration": 15,
        "start_time": "2022-10-26T21:17:09.121Z"
      },
      {
        "duration": 20,
        "start_time": "2022-10-26T21:18:17.801Z"
      },
      {
        "duration": 16,
        "start_time": "2022-10-26T21:18:28.948Z"
      },
      {
        "duration": 12,
        "start_time": "2022-10-27T08:57:22.268Z"
      },
      {
        "duration": 64,
        "start_time": "2022-10-27T08:57:46.006Z"
      },
      {
        "duration": 709,
        "start_time": "2022-10-27T08:57:51.365Z"
      },
      {
        "duration": 21,
        "start_time": "2022-10-27T08:57:52.076Z"
      },
      {
        "duration": 15,
        "start_time": "2022-10-27T08:57:52.099Z"
      },
      {
        "duration": 9,
        "start_time": "2022-10-27T08:57:52.116Z"
      },
      {
        "duration": 46,
        "start_time": "2022-10-27T08:57:52.127Z"
      },
      {
        "duration": 5,
        "start_time": "2022-10-27T08:57:52.174Z"
      },
      {
        "duration": 12,
        "start_time": "2022-10-27T08:57:52.181Z"
      },
      {
        "duration": 5,
        "start_time": "2022-10-27T08:57:52.194Z"
      },
      {
        "duration": 33,
        "start_time": "2022-10-27T08:57:52.201Z"
      },
      {
        "duration": 9,
        "start_time": "2022-10-27T08:57:52.236Z"
      },
      {
        "duration": 38,
        "start_time": "2022-10-27T08:57:52.246Z"
      },
      {
        "duration": 10,
        "start_time": "2022-10-27T08:57:52.286Z"
      },
      {
        "duration": 4,
        "start_time": "2022-10-27T08:57:52.298Z"
      },
      {
        "duration": 42,
        "start_time": "2022-10-27T08:57:52.305Z"
      },
      {
        "duration": 20,
        "start_time": "2022-10-27T08:57:52.349Z"
      },
      {
        "duration": 16,
        "start_time": "2022-10-27T08:57:52.370Z"
      },
      {
        "duration": 4,
        "start_time": "2022-10-27T08:57:52.387Z"
      },
      {
        "duration": 14,
        "start_time": "2022-10-27T08:57:52.392Z"
      },
      {
        "duration": 7,
        "start_time": "2022-10-27T08:57:52.407Z"
      },
      {
        "duration": 8,
        "start_time": "2022-10-27T08:57:52.437Z"
      },
      {
        "duration": 11,
        "start_time": "2022-10-27T08:57:52.447Z"
      },
      {
        "duration": 4,
        "start_time": "2022-10-27T08:57:52.460Z"
      },
      {
        "duration": 38,
        "start_time": "2022-10-27T08:57:52.466Z"
      },
      {
        "duration": 17,
        "start_time": "2022-10-27T08:57:57.290Z"
      },
      {
        "duration": 15,
        "start_time": "2022-10-27T09:07:59.545Z"
      },
      {
        "duration": 16,
        "start_time": "2022-10-27T09:13:08.346Z"
      },
      {
        "duration": 14,
        "start_time": "2022-10-27T09:13:30.829Z"
      },
      {
        "duration": 14,
        "start_time": "2022-10-27T09:13:41.730Z"
      },
      {
        "duration": 16,
        "start_time": "2022-10-27T09:15:08.182Z"
      },
      {
        "duration": 13,
        "start_time": "2022-10-27T09:25:05.372Z"
      },
      {
        "duration": 6,
        "start_time": "2022-10-27T09:42:01.675Z"
      },
      {
        "duration": 5,
        "start_time": "2022-10-27T09:49:55.229Z"
      },
      {
        "duration": 5,
        "start_time": "2022-10-27T09:50:17.553Z"
      },
      {
        "duration": 4,
        "start_time": "2022-10-27T09:50:25.849Z"
      },
      {
        "duration": 5,
        "start_time": "2022-10-27T09:51:06.626Z"
      },
      {
        "duration": 70,
        "start_time": "2022-10-27T10:26:05.368Z"
      },
      {
        "duration": 14,
        "start_time": "2022-10-27T10:26:05.440Z"
      },
      {
        "duration": 23,
        "start_time": "2022-10-27T10:26:05.456Z"
      },
      {
        "duration": 11,
        "start_time": "2022-10-27T10:26:05.481Z"
      },
      {
        "duration": 53,
        "start_time": "2022-10-27T10:26:05.495Z"
      },
      {
        "duration": 4,
        "start_time": "2022-10-27T10:26:05.549Z"
      },
      {
        "duration": 19,
        "start_time": "2022-10-27T10:26:05.555Z"
      },
      {
        "duration": 8,
        "start_time": "2022-10-27T10:26:05.575Z"
      },
      {
        "duration": 12,
        "start_time": "2022-10-27T10:26:05.584Z"
      },
      {
        "duration": 18,
        "start_time": "2022-10-27T10:26:05.598Z"
      },
      {
        "duration": 51,
        "start_time": "2022-10-27T10:26:05.617Z"
      },
      {
        "duration": 9,
        "start_time": "2022-10-27T10:26:05.670Z"
      },
      {
        "duration": 42,
        "start_time": "2022-10-27T10:26:05.681Z"
      },
      {
        "duration": 21,
        "start_time": "2022-10-27T10:26:05.726Z"
      },
      {
        "duration": 38,
        "start_time": "2022-10-27T10:26:05.749Z"
      },
      {
        "duration": 26,
        "start_time": "2022-10-27T10:26:05.788Z"
      },
      {
        "duration": 4,
        "start_time": "2022-10-27T10:26:05.816Z"
      },
      {
        "duration": 19,
        "start_time": "2022-10-27T10:26:05.821Z"
      },
      {
        "duration": 10,
        "start_time": "2022-10-27T10:26:05.842Z"
      },
      {
        "duration": 6,
        "start_time": "2022-10-27T10:26:05.853Z"
      },
      {
        "duration": 20,
        "start_time": "2022-10-27T10:26:05.861Z"
      },
      {
        "duration": 7,
        "start_time": "2022-10-27T10:26:05.882Z"
      },
      {
        "duration": 14,
        "start_time": "2022-10-27T10:26:05.891Z"
      },
      {
        "duration": 29,
        "start_time": "2022-10-27T10:26:05.907Z"
      },
      {
        "duration": 3,
        "start_time": "2022-10-27T10:26:05.937Z"
      },
      {
        "duration": 19,
        "start_time": "2022-10-27T10:26:05.942Z"
      },
      {
        "duration": 14,
        "start_time": "2022-10-27T10:26:05.963Z"
      },
      {
        "duration": 12,
        "start_time": "2022-10-27T10:26:05.978Z"
      },
      {
        "duration": 2,
        "start_time": "2022-10-27T10:26:05.992Z"
      },
      {
        "duration": 8,
        "start_time": "2022-10-27T10:26:05.996Z"
      },
      {
        "duration": 18,
        "start_time": "2022-10-27T11:02:59.172Z"
      },
      {
        "duration": 15,
        "start_time": "2022-10-27T11:10:25.758Z"
      },
      {
        "duration": 59,
        "start_time": "2022-10-27T11:13:12.654Z"
      },
      {
        "duration": 13,
        "start_time": "2022-10-27T11:13:36.607Z"
      },
      {
        "duration": 24,
        "start_time": "2022-10-27T11:15:02.213Z"
      },
      {
        "duration": 44,
        "start_time": "2022-10-27T11:37:10.770Z"
      },
      {
        "duration": 36,
        "start_time": "2022-10-27T11:51:53.668Z"
      },
      {
        "duration": 23,
        "start_time": "2022-10-27T12:02:37.361Z"
      },
      {
        "duration": 23,
        "start_time": "2022-10-27T12:16:49.888Z"
      },
      {
        "duration": 18,
        "start_time": "2022-10-27T12:34:22.748Z"
      },
      {
        "duration": 14,
        "start_time": "2022-10-27T12:34:48.088Z"
      },
      {
        "duration": 5,
        "start_time": "2022-10-27T12:34:52.484Z"
      },
      {
        "duration": 7,
        "start_time": "2022-10-27T12:35:02.470Z"
      },
      {
        "duration": 19,
        "start_time": "2022-10-27T12:35:53.072Z"
      },
      {
        "duration": 16,
        "start_time": "2022-10-27T12:36:08.351Z"
      },
      {
        "duration": 18,
        "start_time": "2022-10-27T12:36:25.918Z"
      },
      {
        "duration": 30,
        "start_time": "2022-10-27T12:36:34.224Z"
      },
      {
        "duration": 44,
        "start_time": "2022-10-27T12:37:36.308Z"
      },
      {
        "duration": 27,
        "start_time": "2022-10-27T12:40:13.169Z"
      },
      {
        "duration": 10,
        "start_time": "2022-10-27T12:47:09.147Z"
      },
      {
        "duration": 23,
        "start_time": "2022-10-27T12:47:23.746Z"
      },
      {
        "duration": 26,
        "start_time": "2022-10-27T12:48:35.782Z"
      },
      {
        "duration": 23,
        "start_time": "2022-10-27T12:49:22.588Z"
      },
      {
        "duration": 22,
        "start_time": "2022-10-27T12:52:20.874Z"
      },
      {
        "duration": 69,
        "start_time": "2022-10-27T13:23:40.861Z"
      },
      {
        "duration": 14,
        "start_time": "2022-10-27T13:23:40.932Z"
      },
      {
        "duration": 15,
        "start_time": "2022-10-27T13:23:40.948Z"
      },
      {
        "duration": 10,
        "start_time": "2022-10-27T13:23:40.965Z"
      },
      {
        "duration": 33,
        "start_time": "2022-10-27T13:23:40.976Z"
      },
      {
        "duration": 4,
        "start_time": "2022-10-27T13:23:41.032Z"
      },
      {
        "duration": 10,
        "start_time": "2022-10-27T13:23:41.038Z"
      },
      {
        "duration": 4,
        "start_time": "2022-10-27T13:23:41.050Z"
      },
      {
        "duration": 7,
        "start_time": "2022-10-27T13:23:41.055Z"
      },
      {
        "duration": 4,
        "start_time": "2022-10-27T13:23:41.064Z"
      },
      {
        "duration": 32,
        "start_time": "2022-10-27T13:23:41.070Z"
      },
      {
        "duration": 39,
        "start_time": "2022-10-27T13:23:41.103Z"
      },
      {
        "duration": 4,
        "start_time": "2022-10-27T13:23:41.143Z"
      },
      {
        "duration": 16,
        "start_time": "2022-10-27T13:23:41.148Z"
      },
      {
        "duration": 22,
        "start_time": "2022-10-27T13:23:41.165Z"
      },
      {
        "duration": 16,
        "start_time": "2022-10-27T13:23:41.188Z"
      },
      {
        "duration": 3,
        "start_time": "2022-10-27T13:23:41.205Z"
      },
      {
        "duration": 31,
        "start_time": "2022-10-27T13:23:41.210Z"
      },
      {
        "duration": 10,
        "start_time": "2022-10-27T13:23:41.243Z"
      },
      {
        "duration": 4,
        "start_time": "2022-10-27T13:23:41.255Z"
      },
      {
        "duration": 14,
        "start_time": "2022-10-27T13:23:41.260Z"
      },
      {
        "duration": 4,
        "start_time": "2022-10-27T13:23:41.275Z"
      },
      {
        "duration": 18,
        "start_time": "2022-10-27T13:23:41.281Z"
      },
      {
        "duration": 5,
        "start_time": "2022-10-27T13:23:41.301Z"
      },
      {
        "duration": 3,
        "start_time": "2022-10-27T13:23:41.308Z"
      },
      {
        "duration": 6,
        "start_time": "2022-10-27T13:23:41.333Z"
      },
      {
        "duration": 5,
        "start_time": "2022-10-27T13:23:41.341Z"
      },
      {
        "duration": 12,
        "start_time": "2022-10-27T13:23:41.349Z"
      },
      {
        "duration": 23,
        "start_time": "2022-10-27T13:23:41.362Z"
      },
      {
        "duration": 2,
        "start_time": "2022-10-27T13:23:41.387Z"
      },
      {
        "duration": 57,
        "start_time": "2022-10-27T13:23:41.391Z"
      },
      {
        "duration": 2,
        "start_time": "2022-10-27T13:23:41.450Z"
      },
      {
        "duration": 41,
        "start_time": "2022-10-27T13:23:41.454Z"
      },
      {
        "duration": 13,
        "start_time": "2022-10-27T13:34:49.231Z"
      },
      {
        "duration": 10,
        "start_time": "2022-10-27T13:37:18.360Z"
      },
      {
        "duration": 79,
        "start_time": "2022-10-27T13:41:49.405Z"
      },
      {
        "duration": 16,
        "start_time": "2022-10-27T13:41:49.486Z"
      },
      {
        "duration": 21,
        "start_time": "2022-10-27T13:41:49.503Z"
      },
      {
        "duration": 16,
        "start_time": "2022-10-27T13:41:49.533Z"
      },
      {
        "duration": 35,
        "start_time": "2022-10-27T13:41:49.551Z"
      },
      {
        "duration": 3,
        "start_time": "2022-10-27T13:41:49.587Z"
      },
      {
        "duration": 14,
        "start_time": "2022-10-27T13:41:49.591Z"
      },
      {
        "duration": 4,
        "start_time": "2022-10-27T13:41:49.606Z"
      },
      {
        "duration": 27,
        "start_time": "2022-10-27T13:41:49.612Z"
      },
      {
        "duration": 9,
        "start_time": "2022-10-27T13:41:49.641Z"
      },
      {
        "duration": 41,
        "start_time": "2022-10-27T13:41:49.652Z"
      },
      {
        "duration": 10,
        "start_time": "2022-10-27T13:41:49.695Z"
      },
      {
        "duration": 9,
        "start_time": "2022-10-27T13:41:49.707Z"
      },
      {
        "duration": 31,
        "start_time": "2022-10-27T13:41:49.720Z"
      },
      {
        "duration": 21,
        "start_time": "2022-10-27T13:41:49.753Z"
      },
      {
        "duration": 19,
        "start_time": "2022-10-27T13:41:49.776Z"
      },
      {
        "duration": 3,
        "start_time": "2022-10-27T13:41:49.797Z"
      },
      {
        "duration": 14,
        "start_time": "2022-10-27T13:41:49.801Z"
      },
      {
        "duration": 30,
        "start_time": "2022-10-27T13:41:49.816Z"
      },
      {
        "duration": 8,
        "start_time": "2022-10-27T13:41:49.848Z"
      },
      {
        "duration": 11,
        "start_time": "2022-10-27T13:41:49.857Z"
      },
      {
        "duration": 6,
        "start_time": "2022-10-27T13:41:49.870Z"
      },
      {
        "duration": 18,
        "start_time": "2022-10-27T13:41:49.877Z"
      },
      {
        "duration": 5,
        "start_time": "2022-10-27T13:41:49.897Z"
      },
      {
        "duration": 6,
        "start_time": "2022-10-27T13:41:49.903Z"
      },
      {
        "duration": 12,
        "start_time": "2022-10-27T13:41:49.910Z"
      },
      {
        "duration": 29,
        "start_time": "2022-10-27T13:41:49.934Z"
      },
      {
        "duration": 2,
        "start_time": "2022-10-27T13:41:49.965Z"
      },
      {
        "duration": 30,
        "start_time": "2022-10-27T13:41:49.968Z"
      },
      {
        "duration": 3,
        "start_time": "2022-10-27T13:41:49.999Z"
      },
      {
        "duration": 47,
        "start_time": "2022-10-27T13:41:50.003Z"
      },
      {
        "duration": 23,
        "start_time": "2022-10-27T13:42:40.350Z"
      },
      {
        "duration": 24,
        "start_time": "2022-10-27T13:49:13.376Z"
      },
      {
        "duration": 22,
        "start_time": "2022-10-27T13:52:43.351Z"
      },
      {
        "duration": 24,
        "start_time": "2022-10-27T13:52:52.574Z"
      },
      {
        "duration": 29,
        "start_time": "2022-10-27T13:58:25.324Z"
      },
      {
        "duration": 25,
        "start_time": "2022-10-27T13:59:02.247Z"
      },
      {
        "duration": 27,
        "start_time": "2022-10-27T13:59:10.784Z"
      },
      {
        "duration": 23,
        "start_time": "2022-10-27T13:59:41.107Z"
      },
      {
        "duration": 22,
        "start_time": "2022-10-27T14:06:12.409Z"
      },
      {
        "duration": 12,
        "start_time": "2022-10-27T14:06:35.669Z"
      },
      {
        "duration": 5,
        "start_time": "2022-10-27T14:06:46.300Z"
      },
      {
        "duration": 22,
        "start_time": "2022-10-27T14:06:47.424Z"
      },
      {
        "duration": 11,
        "start_time": "2022-10-27T14:08:17.338Z"
      },
      {
        "duration": 68,
        "start_time": "2022-10-27T14:08:52.661Z"
      },
      {
        "duration": 15,
        "start_time": "2022-10-27T14:08:52.730Z"
      },
      {
        "duration": 16,
        "start_time": "2022-10-27T14:08:52.746Z"
      },
      {
        "duration": 9,
        "start_time": "2022-10-27T14:08:52.764Z"
      },
      {
        "duration": 31,
        "start_time": "2022-10-27T14:08:52.776Z"
      },
      {
        "duration": 3,
        "start_time": "2022-10-27T14:08:52.809Z"
      },
      {
        "duration": 8,
        "start_time": "2022-10-27T14:08:52.833Z"
      },
      {
        "duration": 5,
        "start_time": "2022-10-27T14:08:52.843Z"
      },
      {
        "duration": 10,
        "start_time": "2022-10-27T14:08:52.849Z"
      },
      {
        "duration": 7,
        "start_time": "2022-10-27T14:08:52.861Z"
      },
      {
        "duration": 34,
        "start_time": "2022-10-27T14:08:52.870Z"
      },
      {
        "duration": 29,
        "start_time": "2022-10-27T14:08:52.906Z"
      },
      {
        "duration": 4,
        "start_time": "2022-10-27T14:08:52.936Z"
      },
      {
        "duration": 10,
        "start_time": "2022-10-27T14:08:52.943Z"
      },
      {
        "duration": 20,
        "start_time": "2022-10-27T14:08:52.955Z"
      },
      {
        "duration": 16,
        "start_time": "2022-10-27T14:08:52.976Z"
      },
      {
        "duration": 3,
        "start_time": "2022-10-27T14:08:52.994Z"
      },
      {
        "duration": 38,
        "start_time": "2022-10-27T14:08:52.998Z"
      },
      {
        "duration": 9,
        "start_time": "2022-10-27T14:08:53.038Z"
      },
      {
        "duration": 3,
        "start_time": "2022-10-27T14:08:53.049Z"
      },
      {
        "duration": 12,
        "start_time": "2022-10-27T14:08:53.054Z"
      },
      {
        "duration": 3,
        "start_time": "2022-10-27T14:08:53.068Z"
      },
      {
        "duration": 14,
        "start_time": "2022-10-27T14:08:53.073Z"
      },
      {
        "duration": 5,
        "start_time": "2022-10-27T14:08:53.088Z"
      },
      {
        "duration": 4,
        "start_time": "2022-10-27T14:08:53.094Z"
      },
      {
        "duration": 16,
        "start_time": "2022-10-27T14:08:53.133Z"
      },
      {
        "duration": 26,
        "start_time": "2022-10-27T14:08:53.151Z"
      },
      {
        "duration": 3,
        "start_time": "2022-10-27T14:08:53.178Z"
      },
      {
        "duration": 26,
        "start_time": "2022-10-27T14:08:53.183Z"
      },
      {
        "duration": 12,
        "start_time": "2022-10-27T14:08:58.104Z"
      },
      {
        "duration": 21,
        "start_time": "2022-10-27T14:09:35.496Z"
      },
      {
        "duration": 19,
        "start_time": "2022-10-27T14:09:50.328Z"
      },
      {
        "duration": 20,
        "start_time": "2022-10-27T14:10:20.491Z"
      },
      {
        "duration": 3,
        "start_time": "2022-10-27T14:10:24.306Z"
      },
      {
        "duration": 19,
        "start_time": "2022-10-27T14:10:26.968Z"
      },
      {
        "duration": 10,
        "start_time": "2022-10-27T14:10:36.950Z"
      },
      {
        "duration": 10,
        "start_time": "2022-10-27T14:11:05.999Z"
      },
      {
        "duration": 19,
        "start_time": "2022-10-27T14:11:48.234Z"
      },
      {
        "duration": 3,
        "start_time": "2022-10-27T14:17:25.673Z"
      },
      {
        "duration": 12,
        "start_time": "2022-10-27T14:17:26.665Z"
      },
      {
        "duration": 22,
        "start_time": "2022-10-27T14:17:29.077Z"
      },
      {
        "duration": 4,
        "start_time": "2022-10-27T14:22:27.573Z"
      },
      {
        "duration": 11,
        "start_time": "2022-10-27T14:22:28.851Z"
      },
      {
        "duration": 19,
        "start_time": "2022-10-27T14:22:31.046Z"
      },
      {
        "duration": 3,
        "start_time": "2022-10-27T14:23:28.950Z"
      },
      {
        "duration": 11,
        "start_time": "2022-10-27T14:23:29.596Z"
      },
      {
        "duration": 20,
        "start_time": "2022-10-27T14:23:30.696Z"
      },
      {
        "duration": 4,
        "start_time": "2022-10-27T14:24:53.621Z"
      },
      {
        "duration": 10,
        "start_time": "2022-10-27T14:24:54.349Z"
      },
      {
        "duration": 19,
        "start_time": "2022-10-27T14:24:54.895Z"
      },
      {
        "duration": 3,
        "start_time": "2022-10-27T14:25:17.878Z"
      },
      {
        "duration": 12,
        "start_time": "2022-10-27T14:25:18.899Z"
      },
      {
        "duration": 21,
        "start_time": "2022-10-27T14:25:19.465Z"
      },
      {
        "duration": 4,
        "start_time": "2022-10-27T14:31:25.469Z"
      },
      {
        "duration": 15,
        "start_time": "2022-10-27T14:31:26.031Z"
      },
      {
        "duration": 28,
        "start_time": "2022-10-27T14:31:26.618Z"
      },
      {
        "duration": 3,
        "start_time": "2022-10-27T14:32:06.746Z"
      },
      {
        "duration": 10,
        "start_time": "2022-10-27T14:32:07.510Z"
      },
      {
        "duration": 19,
        "start_time": "2022-10-27T14:32:07.959Z"
      },
      {
        "duration": 4,
        "start_time": "2022-10-27T14:32:23.793Z"
      },
      {
        "duration": 10,
        "start_time": "2022-10-27T14:32:24.419Z"
      },
      {
        "duration": 20,
        "start_time": "2022-10-27T14:32:24.886Z"
      },
      {
        "duration": 489,
        "start_time": "2022-10-27T15:10:14.518Z"
      },
      {
        "duration": 24,
        "start_time": "2022-10-27T15:10:15.010Z"
      },
      {
        "duration": 23,
        "start_time": "2022-10-27T15:10:15.035Z"
      },
      {
        "duration": 9,
        "start_time": "2022-10-27T15:10:15.060Z"
      },
      {
        "duration": 41,
        "start_time": "2022-10-27T15:10:15.071Z"
      },
      {
        "duration": 3,
        "start_time": "2022-10-27T15:10:15.114Z"
      },
      {
        "duration": 11,
        "start_time": "2022-10-27T15:10:15.119Z"
      },
      {
        "duration": 23,
        "start_time": "2022-10-27T15:10:15.132Z"
      },
      {
        "duration": 10,
        "start_time": "2022-10-27T15:10:15.157Z"
      },
      {
        "duration": 7,
        "start_time": "2022-10-27T15:10:15.168Z"
      },
      {
        "duration": 35,
        "start_time": "2022-10-27T15:10:15.177Z"
      },
      {
        "duration": 9,
        "start_time": "2022-10-27T15:10:15.214Z"
      },
      {
        "duration": 29,
        "start_time": "2022-10-27T15:10:15.225Z"
      },
      {
        "duration": 13,
        "start_time": "2022-10-27T15:10:15.257Z"
      },
      {
        "duration": 24,
        "start_time": "2022-10-27T15:10:15.272Z"
      },
      {
        "duration": 19,
        "start_time": "2022-10-27T15:10:15.297Z"
      },
      {
        "duration": 5,
        "start_time": "2022-10-27T15:10:15.317Z"
      },
      {
        "duration": 36,
        "start_time": "2022-10-27T15:10:15.324Z"
      },
      {
        "duration": 8,
        "start_time": "2022-10-27T15:10:15.362Z"
      },
      {
        "duration": 6,
        "start_time": "2022-10-27T15:10:15.372Z"
      },
      {
        "duration": 16,
        "start_time": "2022-10-27T15:10:15.379Z"
      },
      {
        "duration": 23,
        "start_time": "2022-10-27T15:10:15.397Z"
      },
      {
        "duration": 14,
        "start_time": "2022-10-27T15:10:15.421Z"
      },
      {
        "duration": 6,
        "start_time": "2022-10-27T15:10:15.436Z"
      },
      {
        "duration": 2,
        "start_time": "2022-10-27T15:10:15.454Z"
      },
      {
        "duration": 13,
        "start_time": "2022-10-27T15:10:15.458Z"
      },
      {
        "duration": 28,
        "start_time": "2022-10-27T15:10:15.472Z"
      },
      {
        "duration": 3,
        "start_time": "2022-10-27T15:10:15.502Z"
      },
      {
        "duration": 52,
        "start_time": "2022-10-27T15:10:15.507Z"
      },
      {
        "duration": 4,
        "start_time": "2022-10-27T15:10:15.561Z"
      },
      {
        "duration": 14,
        "start_time": "2022-10-27T15:10:15.566Z"
      },
      {
        "duration": 20,
        "start_time": "2022-10-27T15:10:15.581Z"
      },
      {
        "duration": 3,
        "start_time": "2022-10-27T15:10:15.603Z"
      },
      {
        "duration": 54,
        "start_time": "2022-10-27T15:10:15.608Z"
      },
      {
        "duration": 495,
        "start_time": "2022-10-27T15:13:23.204Z"
      },
      {
        "duration": 26,
        "start_time": "2022-10-27T15:13:23.702Z"
      },
      {
        "duration": 25,
        "start_time": "2022-10-27T15:13:23.730Z"
      },
      {
        "duration": 9,
        "start_time": "2022-10-27T15:13:23.757Z"
      },
      {
        "duration": 35,
        "start_time": "2022-10-27T15:13:23.768Z"
      },
      {
        "duration": 4,
        "start_time": "2022-10-27T15:13:23.804Z"
      },
      {
        "duration": 11,
        "start_time": "2022-10-27T15:13:23.809Z"
      },
      {
        "duration": 6,
        "start_time": "2022-10-27T15:13:23.821Z"
      },
      {
        "duration": 8,
        "start_time": "2022-10-27T15:13:23.854Z"
      },
      {
        "duration": 7,
        "start_time": "2022-10-27T15:13:23.864Z"
      },
      {
        "duration": 39,
        "start_time": "2022-10-27T15:13:23.872Z"
      },
      {
        "duration": 12,
        "start_time": "2022-10-27T15:13:23.913Z"
      },
      {
        "duration": 9,
        "start_time": "2022-10-27T15:13:23.927Z"
      },
      {
        "duration": 23,
        "start_time": "2022-10-27T15:13:23.953Z"
      },
      {
        "duration": 25,
        "start_time": "2022-10-27T15:13:23.978Z"
      },
      {
        "duration": 18,
        "start_time": "2022-10-27T15:13:24.005Z"
      },
      {
        "duration": 3,
        "start_time": "2022-10-27T15:13:24.025Z"
      },
      {
        "duration": 27,
        "start_time": "2022-10-27T15:13:24.030Z"
      },
      {
        "duration": 15,
        "start_time": "2022-10-27T15:13:24.059Z"
      },
      {
        "duration": 5,
        "start_time": "2022-10-27T15:13:24.076Z"
      },
      {
        "duration": 22,
        "start_time": "2022-10-27T15:13:24.083Z"
      },
      {
        "duration": 18,
        "start_time": "2022-10-27T15:13:24.107Z"
      },
      {
        "duration": 18,
        "start_time": "2022-10-27T15:13:24.127Z"
      },
      {
        "duration": 8,
        "start_time": "2022-10-27T15:13:24.147Z"
      },
      {
        "duration": 3,
        "start_time": "2022-10-27T15:13:24.157Z"
      },
      {
        "duration": 12,
        "start_time": "2022-10-27T15:13:24.162Z"
      },
      {
        "duration": 27,
        "start_time": "2022-10-27T15:13:24.176Z"
      },
      {
        "duration": 3,
        "start_time": "2022-10-27T15:13:24.204Z"
      },
      {
        "duration": 63,
        "start_time": "2022-10-27T15:13:24.209Z"
      },
      {
        "duration": 4,
        "start_time": "2022-10-27T15:13:24.275Z"
      },
      {
        "duration": 23,
        "start_time": "2022-10-27T15:13:24.282Z"
      },
      {
        "duration": 48,
        "start_time": "2022-10-27T15:13:24.308Z"
      },
      {
        "duration": 3,
        "start_time": "2022-10-27T15:13:24.358Z"
      },
      {
        "duration": 25,
        "start_time": "2022-10-27T15:13:24.362Z"
      },
      {
        "duration": 48,
        "start_time": "2022-10-28T14:05:03.033Z"
      },
      {
        "duration": 687,
        "start_time": "2022-10-28T14:05:11.000Z"
      },
      {
        "duration": 21,
        "start_time": "2022-10-28T14:05:11.689Z"
      },
      {
        "duration": 14,
        "start_time": "2022-10-28T14:05:11.712Z"
      },
      {
        "duration": 13,
        "start_time": "2022-10-28T14:05:11.729Z"
      },
      {
        "duration": 44,
        "start_time": "2022-10-28T14:05:11.744Z"
      },
      {
        "duration": 4,
        "start_time": "2022-10-28T14:05:11.790Z"
      },
      {
        "duration": 31,
        "start_time": "2022-10-28T14:05:11.795Z"
      },
      {
        "duration": 5,
        "start_time": "2022-10-28T14:05:11.828Z"
      },
      {
        "duration": 11,
        "start_time": "2022-10-28T14:05:11.834Z"
      },
      {
        "duration": 9,
        "start_time": "2022-10-28T14:05:11.848Z"
      },
      {
        "duration": 35,
        "start_time": "2022-10-28T14:05:11.859Z"
      },
      {
        "duration": 27,
        "start_time": "2022-10-28T14:05:11.896Z"
      },
      {
        "duration": 4,
        "start_time": "2022-10-28T14:05:11.925Z"
      },
      {
        "duration": 24,
        "start_time": "2022-10-28T14:05:11.931Z"
      },
      {
        "duration": 29,
        "start_time": "2022-10-28T14:05:11.957Z"
      },
      {
        "duration": 16,
        "start_time": "2022-10-28T14:05:11.988Z"
      },
      {
        "duration": 4,
        "start_time": "2022-10-28T14:05:12.022Z"
      },
      {
        "duration": 16,
        "start_time": "2022-10-28T14:05:12.027Z"
      },
      {
        "duration": 11,
        "start_time": "2022-10-28T14:05:12.044Z"
      },
      {
        "duration": 5,
        "start_time": "2022-10-28T14:05:12.057Z"
      },
      {
        "duration": 15,
        "start_time": "2022-10-28T14:05:12.063Z"
      },
      {
        "duration": 5,
        "start_time": "2022-10-28T14:05:12.079Z"
      },
      {
        "duration": 14,
        "start_time": "2022-10-28T14:05:12.086Z"
      },
      {
        "duration": 23,
        "start_time": "2022-10-28T14:05:16.073Z"
      },
      {
        "duration": 28,
        "start_time": "2022-10-28T14:07:17.574Z"
      },
      {
        "duration": 40,
        "start_time": "2022-10-28T14:07:44.378Z"
      },
      {
        "duration": 31,
        "start_time": "2022-10-28T14:07:55.694Z"
      },
      {
        "duration": 17,
        "start_time": "2022-10-28T14:12:06.966Z"
      },
      {
        "duration": 39,
        "start_time": "2022-10-28T14:14:28.581Z"
      },
      {
        "duration": 11,
        "start_time": "2022-10-28T14:14:35.236Z"
      },
      {
        "duration": 21,
        "start_time": "2022-10-28T14:14:56.622Z"
      },
      {
        "duration": 13,
        "start_time": "2022-10-28T14:18:48.650Z"
      },
      {
        "duration": 19,
        "start_time": "2022-10-28T14:18:56.938Z"
      },
      {
        "duration": 20,
        "start_time": "2022-10-28T14:20:10.222Z"
      },
      {
        "duration": 22,
        "start_time": "2022-10-28T14:20:28.601Z"
      },
      {
        "duration": 21,
        "start_time": "2022-10-28T14:21:01.410Z"
      },
      {
        "duration": 84,
        "start_time": "2022-10-28T14:34:08.502Z"
      },
      {
        "duration": 48,
        "start_time": "2022-10-28T14:36:05.561Z"
      },
      {
        "duration": 44,
        "start_time": "2022-10-28T14:36:12.060Z"
      },
      {
        "duration": 61,
        "start_time": "2022-10-28T14:36:18.873Z"
      },
      {
        "duration": 59,
        "start_time": "2022-10-28T14:38:28.744Z"
      },
      {
        "duration": 23,
        "start_time": "2022-10-28T14:41:39.918Z"
      },
      {
        "duration": 23,
        "start_time": "2022-10-28T14:41:57.189Z"
      },
      {
        "duration": 24,
        "start_time": "2022-10-28T14:42:41.269Z"
      },
      {
        "duration": 24,
        "start_time": "2022-10-28T14:46:33.500Z"
      },
      {
        "duration": 34,
        "start_time": "2022-10-28T15:28:13.275Z"
      },
      {
        "duration": 24,
        "start_time": "2022-10-28T15:30:07.687Z"
      },
      {
        "duration": 23,
        "start_time": "2022-10-28T15:30:26.966Z"
      },
      {
        "duration": 11,
        "start_time": "2022-10-28T15:33:08.616Z"
      },
      {
        "duration": 3,
        "start_time": "2022-10-28T15:33:12.667Z"
      },
      {
        "duration": 10,
        "start_time": "2022-10-28T15:33:13.779Z"
      },
      {
        "duration": 22,
        "start_time": "2022-10-28T15:33:27.741Z"
      },
      {
        "duration": 26,
        "start_time": "2022-10-28T15:35:45.967Z"
      },
      {
        "duration": 25,
        "start_time": "2022-10-28T15:36:01.904Z"
      },
      {
        "duration": 16,
        "start_time": "2022-10-28T15:55:35.856Z"
      },
      {
        "duration": 69,
        "start_time": "2022-10-28T15:55:50.577Z"
      },
      {
        "duration": 13,
        "start_time": "2022-10-28T15:55:50.694Z"
      },
      {
        "duration": 26,
        "start_time": "2022-10-28T15:55:50.709Z"
      },
      {
        "duration": 6,
        "start_time": "2022-10-28T15:55:50.736Z"
      },
      {
        "duration": 0,
        "start_time": "2022-10-28T15:55:50.744Z"
      },
      {
        "duration": 0,
        "start_time": "2022-10-28T15:55:50.745Z"
      },
      {
        "duration": 0,
        "start_time": "2022-10-28T15:55:50.746Z"
      },
      {
        "duration": 0,
        "start_time": "2022-10-28T15:55:50.747Z"
      },
      {
        "duration": 0,
        "start_time": "2022-10-28T15:55:50.747Z"
      },
      {
        "duration": 0,
        "start_time": "2022-10-28T15:55:50.748Z"
      },
      {
        "duration": 0,
        "start_time": "2022-10-28T15:55:50.749Z"
      },
      {
        "duration": 0,
        "start_time": "2022-10-28T15:55:50.750Z"
      },
      {
        "duration": 0,
        "start_time": "2022-10-28T15:55:50.751Z"
      },
      {
        "duration": 0,
        "start_time": "2022-10-28T15:55:50.752Z"
      },
      {
        "duration": 0,
        "start_time": "2022-10-28T15:55:50.752Z"
      },
      {
        "duration": 0,
        "start_time": "2022-10-28T15:55:50.753Z"
      },
      {
        "duration": 0,
        "start_time": "2022-10-28T15:55:50.754Z"
      },
      {
        "duration": 3,
        "start_time": "2022-10-28T15:55:50.767Z"
      },
      {
        "duration": 10,
        "start_time": "2022-10-28T15:55:50.802Z"
      },
      {
        "duration": 11,
        "start_time": "2022-10-28T15:55:50.814Z"
      },
      {
        "duration": 3,
        "start_time": "2022-10-28T15:55:50.826Z"
      },
      {
        "duration": 19,
        "start_time": "2022-10-28T15:55:50.831Z"
      },
      {
        "duration": 10,
        "start_time": "2022-10-28T15:55:50.852Z"
      },
      {
        "duration": 31,
        "start_time": "2022-10-28T15:55:50.864Z"
      },
      {
        "duration": 2,
        "start_time": "2022-10-28T15:55:50.896Z"
      },
      {
        "duration": 12,
        "start_time": "2022-10-28T15:55:50.900Z"
      },
      {
        "duration": 27,
        "start_time": "2022-10-28T15:55:50.913Z"
      },
      {
        "duration": 2,
        "start_time": "2022-10-28T15:55:50.941Z"
      },
      {
        "duration": 26,
        "start_time": "2022-10-28T15:55:50.944Z"
      },
      {
        "duration": 2,
        "start_time": "2022-10-28T15:55:50.971Z"
      },
      {
        "duration": 22,
        "start_time": "2022-10-28T15:55:50.975Z"
      },
      {
        "duration": 28,
        "start_time": "2022-10-28T15:55:50.998Z"
      },
      {
        "duration": 3,
        "start_time": "2022-10-28T15:55:51.027Z"
      },
      {
        "duration": 28,
        "start_time": "2022-10-28T15:55:51.031Z"
      },
      {
        "duration": 7,
        "start_time": "2022-10-28T15:56:04.400Z"
      },
      {
        "duration": 5,
        "start_time": "2022-10-28T15:56:08.762Z"
      },
      {
        "duration": 5,
        "start_time": "2022-10-28T15:56:55.891Z"
      },
      {
        "duration": 4,
        "start_time": "2022-10-28T16:01:39.857Z"
      },
      {
        "duration": 40,
        "start_time": "2022-10-28T16:02:26.961Z"
      },
      {
        "duration": 10,
        "start_time": "2022-10-28T16:23:23.835Z"
      },
      {
        "duration": 7,
        "start_time": "2022-10-28T16:23:37.161Z"
      },
      {
        "duration": 55,
        "start_time": "2022-10-28T16:40:33.633Z"
      },
      {
        "duration": 48,
        "start_time": "2022-10-28T16:40:40.424Z"
      },
      {
        "duration": 45,
        "start_time": "2022-10-28T16:41:25.792Z"
      },
      {
        "duration": 57,
        "start_time": "2022-10-28T16:41:39.574Z"
      },
      {
        "duration": 74,
        "start_time": "2022-10-28T16:44:50.579Z"
      },
      {
        "duration": 47,
        "start_time": "2022-10-28T16:45:18.315Z"
      },
      {
        "duration": 50,
        "start_time": "2022-10-28T16:45:30.326Z"
      },
      {
        "duration": 7,
        "start_time": "2022-10-28T16:51:43.447Z"
      },
      {
        "duration": 3,
        "start_time": "2022-10-28T16:53:52.848Z"
      },
      {
        "duration": 7,
        "start_time": "2022-10-28T16:53:58.890Z"
      },
      {
        "duration": 65,
        "start_time": "2022-10-28T16:54:13.667Z"
      },
      {
        "duration": 14,
        "start_time": "2022-10-28T16:54:13.734Z"
      },
      {
        "duration": 17,
        "start_time": "2022-10-28T16:54:13.750Z"
      },
      {
        "duration": 5,
        "start_time": "2022-10-28T16:54:23.944Z"
      },
      {
        "duration": 5,
        "start_time": "2022-10-28T16:58:26.344Z"
      },
      {
        "duration": 4,
        "start_time": "2022-10-28T16:58:58.407Z"
      },
      {
        "duration": 65,
        "start_time": "2022-10-28T18:08:13.937Z"
      },
      {
        "duration": 14,
        "start_time": "2022-10-28T18:08:14.004Z"
      },
      {
        "duration": 22,
        "start_time": "2022-10-28T18:08:14.019Z"
      },
      {
        "duration": 7,
        "start_time": "2022-10-28T18:08:14.043Z"
      },
      {
        "duration": 28,
        "start_time": "2022-10-28T18:10:36.079Z"
      },
      {
        "duration": 15,
        "start_time": "2022-10-28T18:11:18.444Z"
      },
      {
        "duration": 9,
        "start_time": "2022-10-28T18:11:36.779Z"
      },
      {
        "duration": 7,
        "start_time": "2022-10-28T18:45:15.394Z"
      },
      {
        "duration": 7,
        "start_time": "2022-10-28T18:45:28.547Z"
      },
      {
        "duration": 7,
        "start_time": "2022-10-28T18:45:44.358Z"
      },
      {
        "duration": 73,
        "start_time": "2022-10-28T19:03:44.995Z"
      },
      {
        "duration": 16,
        "start_time": "2022-10-28T19:03:45.069Z"
      },
      {
        "duration": 24,
        "start_time": "2022-10-28T19:03:45.087Z"
      },
      {
        "duration": 12,
        "start_time": "2022-10-28T19:03:45.113Z"
      },
      {
        "duration": 10,
        "start_time": "2022-10-28T19:03:45.127Z"
      },
      {
        "duration": 32,
        "start_time": "2022-10-28T19:03:45.139Z"
      },
      {
        "duration": 3,
        "start_time": "2022-10-28T19:03:45.172Z"
      },
      {
        "duration": 8,
        "start_time": "2022-10-28T19:03:45.177Z"
      },
      {
        "duration": 4,
        "start_time": "2022-10-28T19:03:45.187Z"
      },
      {
        "duration": 6,
        "start_time": "2022-10-28T19:03:45.222Z"
      },
      {
        "duration": 4,
        "start_time": "2022-10-28T19:03:45.229Z"
      },
      {
        "duration": 42,
        "start_time": "2022-10-28T19:03:45.235Z"
      },
      {
        "duration": 9,
        "start_time": "2022-10-28T19:03:45.279Z"
      },
      {
        "duration": 3,
        "start_time": "2022-10-28T19:03:45.291Z"
      },
      {
        "duration": 33,
        "start_time": "2022-10-28T19:03:45.296Z"
      },
      {
        "duration": 17,
        "start_time": "2022-10-28T19:03:45.330Z"
      },
      {
        "duration": 16,
        "start_time": "2022-10-28T19:03:45.348Z"
      },
      {
        "duration": 3,
        "start_time": "2022-10-28T19:03:45.366Z"
      },
      {
        "duration": 11,
        "start_time": "2022-10-28T19:03:45.370Z"
      },
      {
        "duration": 5,
        "start_time": "2022-10-28T19:03:45.383Z"
      },
      {
        "duration": 4,
        "start_time": "2022-10-28T19:03:45.390Z"
      },
      {
        "duration": 10,
        "start_time": "2022-10-28T19:03:45.422Z"
      },
      {
        "duration": 4,
        "start_time": "2022-10-28T19:03:45.433Z"
      },
      {
        "duration": 23,
        "start_time": "2022-10-28T19:03:50.914Z"
      },
      {
        "duration": 3,
        "start_time": "2022-10-28T19:19:13.702Z"
      },
      {
        "duration": 10,
        "start_time": "2022-10-28T19:19:14.741Z"
      },
      {
        "duration": 23,
        "start_time": "2022-10-28T19:19:16.814Z"
      },
      {
        "duration": 79,
        "start_time": "2022-10-28T20:24:12.311Z"
      },
      {
        "duration": 14,
        "start_time": "2022-10-28T20:24:12.392Z"
      },
      {
        "duration": 19,
        "start_time": "2022-10-28T20:24:12.407Z"
      },
      {
        "duration": 16,
        "start_time": "2022-10-28T20:24:12.427Z"
      },
      {
        "duration": 11,
        "start_time": "2022-10-28T20:24:12.445Z"
      },
      {
        "duration": 35,
        "start_time": "2022-10-28T20:24:12.458Z"
      },
      {
        "duration": 3,
        "start_time": "2022-10-28T20:24:12.495Z"
      },
      {
        "duration": 12,
        "start_time": "2022-10-28T20:24:12.499Z"
      },
      {
        "duration": 15,
        "start_time": "2022-10-28T20:24:12.513Z"
      },
      {
        "duration": 12,
        "start_time": "2022-10-28T20:24:12.530Z"
      },
      {
        "duration": 7,
        "start_time": "2022-10-28T20:24:12.543Z"
      },
      {
        "duration": 31,
        "start_time": "2022-10-28T20:24:12.552Z"
      },
      {
        "duration": 10,
        "start_time": "2022-10-28T20:24:12.584Z"
      },
      {
        "duration": 30,
        "start_time": "2022-10-28T20:24:12.599Z"
      },
      {
        "duration": 27,
        "start_time": "2022-10-28T20:24:12.631Z"
      },
      {
        "duration": 22,
        "start_time": "2022-10-28T20:24:12.660Z"
      },
      {
        "duration": 18,
        "start_time": "2022-10-28T20:24:12.683Z"
      },
      {
        "duration": 24,
        "start_time": "2022-10-28T20:24:12.702Z"
      },
      {
        "duration": 29,
        "start_time": "2022-10-28T20:24:12.729Z"
      },
      {
        "duration": 8,
        "start_time": "2022-10-28T20:24:12.760Z"
      },
      {
        "duration": 5,
        "start_time": "2022-10-28T20:24:12.769Z"
      },
      {
        "duration": 14,
        "start_time": "2022-10-28T20:24:12.775Z"
      },
      {
        "duration": 5,
        "start_time": "2022-10-28T20:24:12.792Z"
      },
      {
        "duration": 49,
        "start_time": "2022-10-28T20:24:12.798Z"
      },
      {
        "duration": 15,
        "start_time": "2022-10-28T20:24:12.849Z"
      },
      {
        "duration": 10,
        "start_time": "2022-10-28T20:24:12.866Z"
      },
      {
        "duration": 27,
        "start_time": "2022-10-28T20:24:12.878Z"
      },
      {
        "duration": 16,
        "start_time": "2022-10-28T20:24:12.906Z"
      },
      {
        "duration": 33,
        "start_time": "2022-10-28T20:24:12.923Z"
      },
      {
        "duration": 3,
        "start_time": "2022-10-28T20:24:12.957Z"
      },
      {
        "duration": 13,
        "start_time": "2022-10-28T20:24:12.961Z"
      },
      {
        "duration": 62,
        "start_time": "2022-10-28T20:24:12.977Z"
      },
      {
        "duration": 2,
        "start_time": "2022-10-28T20:24:13.041Z"
      },
      {
        "duration": 36,
        "start_time": "2022-10-28T20:24:13.044Z"
      },
      {
        "duration": 471,
        "start_time": "2022-10-29T09:22:18.471Z"
      },
      {
        "duration": 20,
        "start_time": "2022-10-29T09:22:18.944Z"
      },
      {
        "duration": 14,
        "start_time": "2022-10-29T09:22:18.966Z"
      },
      {
        "duration": 6,
        "start_time": "2022-10-29T09:22:18.981Z"
      },
      {
        "duration": 10,
        "start_time": "2022-10-29T09:22:18.988Z"
      },
      {
        "duration": 29,
        "start_time": "2022-10-29T09:22:19.004Z"
      },
      {
        "duration": 6,
        "start_time": "2022-10-29T09:22:19.034Z"
      },
      {
        "duration": 12,
        "start_time": "2022-10-29T09:22:19.044Z"
      },
      {
        "duration": 6,
        "start_time": "2022-10-29T09:22:19.058Z"
      },
      {
        "duration": 10,
        "start_time": "2022-10-29T09:22:19.066Z"
      },
      {
        "duration": 4,
        "start_time": "2022-10-29T09:22:19.078Z"
      },
      {
        "duration": 29,
        "start_time": "2022-10-29T09:22:19.106Z"
      },
      {
        "duration": 9,
        "start_time": "2022-10-29T09:22:19.137Z"
      },
      {
        "duration": 3,
        "start_time": "2022-10-29T09:22:19.150Z"
      },
      {
        "duration": 14,
        "start_time": "2022-10-29T09:22:19.155Z"
      },
      {
        "duration": 42,
        "start_time": "2022-10-29T09:22:19.170Z"
      },
      {
        "duration": 17,
        "start_time": "2022-10-29T09:22:19.214Z"
      },
      {
        "duration": 4,
        "start_time": "2022-10-29T09:22:19.232Z"
      },
      {
        "duration": 13,
        "start_time": "2022-10-29T09:22:19.237Z"
      },
      {
        "duration": 5,
        "start_time": "2022-10-29T09:22:19.251Z"
      },
      {
        "duration": 4,
        "start_time": "2022-10-29T09:22:19.257Z"
      },
      {
        "duration": 10,
        "start_time": "2022-10-29T09:22:19.262Z"
      },
      {
        "duration": 34,
        "start_time": "2022-10-29T09:22:19.273Z"
      },
      {
        "duration": 25,
        "start_time": "2022-10-29T09:22:19.308Z"
      },
      {
        "duration": 2,
        "start_time": "2022-10-29T09:22:19.334Z"
      },
      {
        "duration": 11,
        "start_time": "2022-10-29T09:22:19.337Z"
      },
      {
        "duration": 23,
        "start_time": "2022-10-29T09:22:19.350Z"
      },
      {
        "duration": 2,
        "start_time": "2022-10-29T09:22:19.374Z"
      },
      {
        "duration": 46,
        "start_time": "2022-10-29T09:22:19.378Z"
      },
      {
        "duration": 3,
        "start_time": "2022-10-29T09:22:19.426Z"
      },
      {
        "duration": 13,
        "start_time": "2022-10-29T09:22:19.430Z"
      },
      {
        "duration": 24,
        "start_time": "2022-10-29T09:22:19.444Z"
      },
      {
        "duration": 3,
        "start_time": "2022-10-29T09:22:19.469Z"
      },
      {
        "duration": 50,
        "start_time": "2022-10-29T09:22:19.473Z"
      }
    ],
    "colab": {
      "provenance": [],
      "include_colab_link": true
    },
    "kernelspec": {
      "display_name": "Python 3 (ipykernel)",
      "language": "python",
      "name": "python3"
    },
    "language_info": {
      "codemirror_mode": {
        "name": "ipython",
        "version": 3
      },
      "file_extension": ".py",
      "mimetype": "text/x-python",
      "name": "python",
      "nbconvert_exporter": "python",
      "pygments_lexer": "ipython3",
      "version": "3.9.5"
    },
    "toc": {
      "base_numbering": 1,
      "nav_menu": {},
      "number_sections": true,
      "sideBar": true,
      "skip_h1_title": true,
      "title_cell": "Table of Contents",
      "title_sidebar": "Contents",
      "toc_cell": false,
      "toc_position": {},
      "toc_section_display": true,
      "toc_window_display": true
    }
  },
  "nbformat": 4,
  "nbformat_minor": 5
}
