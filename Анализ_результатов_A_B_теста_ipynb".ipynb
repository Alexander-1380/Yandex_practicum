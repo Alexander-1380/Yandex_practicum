{
  "cells": [
    {
      "cell_type": "markdown",
      "metadata": {
        "id": "view-in-github",
        "colab_type": "text"
      },
      "source": [
        "<a href=\"https://colab.research.google.com/github/Alexander-1380/Yandex_practicum/blob/main/%D0%90%D0%BD%D0%B0%D0%BB%D0%B8%D0%B7_%D1%80%D0%B5%D0%B7%D1%83%D0%BB%D1%8C%D1%82%D0%B0%D1%82%D0%BE%D0%B2_A_B_%D1%82%D0%B5%D1%81%D1%82%D0%B0_ipynb%22.ipynb\" target=\"_parent\"><img src=\"https://colab.research.google.com/assets/colab-badge.svg\" alt=\"Open In Colab\"/></a>"
      ]
    },
    {
      "cell_type": "markdown",
      "id": "44ca8c22",
      "metadata": {
        "id": "44ca8c22"
      },
      "source": [
        "# Анализ результатов A/B-теста (проект выполнен в рамках обучения в Яндекс Практикуме)"
      ]
    },
    {
      "cell_type": "markdown",
      "id": "d710cbde",
      "metadata": {
        "id": "d710cbde"
      },
      "source": [
        "# Описание данных\n",
        "\n",
        "### Данные для первой части\n",
        "\n",
        "Файл /datasets/hypothesis.csv.\n",
        "- Hypothesis — краткое описание гипотезы;\n",
        "- Reach — охват пользователей по 10-балльной шкале;\n",
        "- Impact — влияние на пользователей по 10-балльной шкале;\n",
        "- Confidence — уверенность в гипотезе по 10-балльной шкале;\n",
        "- Efforts — затраты ресурсов на проверку гипотезы по 10-балльной шкале. Чем больше значение Efforts, тем дороже проверка гипотезы.\n",
        "\n",
        "\n",
        "### Данные для второй части\n",
        "\n",
        "Файл /datasets/orders.csv.\n",
        "- transactionId — идентификатор заказа;\n",
        "- visitorId — идентификатор пользователя, совершившего заказ;\n",
        "- date — дата, когда был совершён заказ;\n",
        "- revenue — выручка заказа;\n",
        "- group — группа A/B-теста, в которую попал заказ.\n",
        "\n",
        "- date — дата;\n",
        "- group — группа A/B-теста;\n",
        "- visitors — количество пользователей в указанную дату в указанной группе A/B-теста\n",
        "\n",
        "\n",
        "### Описание проекта\n",
        "\n",
        "### Контекст\n",
        "\n",
        "Вы — аналитик крупного интернет-магазина. Вместе с отделом маркетинга вы подготовили список гипотез для увеличения выручки.\n",
        "\n",
        "Приоритизируйте гипотезы, запустите A/B-тест и проанализируйте результаты.\n",
        "\n",
        "## Часть 1. Приоритизация гипотез.\n",
        "\n",
        "В файле /datasets/hypothesis.csv 9 гипотез по увеличению выручки интернет-магазина с указанными параметрами Reach, Impact, Confidence, Effort.\n",
        "\n",
        "### Задача\n",
        "Примените фреймворк ICE для приоритизации гипотез. Отсортируйте их по убыванию приоритета.<br>\n",
        "Примените фреймворк RICE для приоритизации гипотез. Отсортируйте их по убыванию приоритета.<br>\n",
        "Укажите, как изменилась приоритизация гипотез при применении RICE вместо ICE. Объясните, почему так произошло.<br>\n",
        "\n",
        "## Часть 2. Анализ A/B-теста\n",
        "\n",
        "Вы провели A/B-тест и получили результаты, которые описаны в файлах /datasets/orders.csv и /datasets/visitors.csv.\n",
        "\n",
        "### Задача\n",
        "Проанализируйте A/B-тест:<br>\n",
        "Постройте график кумулятивной выручки по группам. Сделайте выводы и предположения.<br>\n",
        "Постройте график кумулятивного среднего чека по группам. Сделайте выводы и предположения.<br>\n",
        "Постройте график относительного изменения кумулятивного среднего чека группы B к группе A. Сделайте выводы и предположения.<br>\n",
        "Постройте график кумулятивного среднего количества заказов на посетителя по группам. Сделайте выводы и предположения.<br>\n",
        "Постройте график относительного изменения кумулятивного среднего количества заказов на посетителя группы B к группе A. Сделайте выводы и предположения.<br>\n",
        "Постройте точечный график количества заказов по пользователям. Сделайте выводы и предположения.<br>\n",
        "Посчитайте 95-й и 99-й перцентили количества заказов на пользователя. Выберите границу для определения аномальных пользователей.<br>\n",
        "Постройте точечный график стоимостей заказов. Сделайте выводы и предположения.<br>\n",
        "Посчитайте 95-й и 99-й перцентили стоимости заказов. Выберите границу для определения аномальных заказов.<br>\n",
        "Посчитайте статистическую значимость различий в среднем количестве заказов на посетителя между группами по «сырым» данным. Сделайте выводы и предположения.<br>\n",
        "Посчитайте статистическую значимость различий в среднем чеке заказа между группами по «сырым» данным. Сделайте выводы и предположения.<br>\n",
        "Посчитайте статистическую значимость различий в среднем количестве заказов на посетителя между группами по «очищенным» данным. Сделайте выводы и предположения.<br>\n",
        "Посчитайте статистическую значимость различий в среднем чеке заказа между группами по «очищенным» данным. Сделайте выводы и предположения.<br>\n",
        "\n",
        "Примите решение по результатам теста и объясните его. Варианты решений: 1. Остановить тест, зафиксировать победу одной из групп. 2. Остановить тест, зафиксировать отсутствие различий между группами. 3. Продолжить тест."
      ]
    },
    {
      "cell_type": "markdown",
      "id": "4da44737",
      "metadata": {
        "id": "4da44737"
      },
      "source": [
        "# Часть 1. Приоритизация гипотез."
      ]
    },
    {
      "cell_type": "code",
      "execution_count": null,
      "id": "7dda17d9",
      "metadata": {
        "id": "7dda17d9"
      },
      "outputs": [],
      "source": [
        "# загружаем необходимые в проекте библиотеки\n",
        "\n",
        "import pandas as pd\n",
        "import datetime as dt\n",
        "# from datetime import datetime, timedelta\n",
        "from matplotlib import pyplot as plt\n",
        "import numpy as np\n",
        "from scipy import stats\n",
        "import math as mth"
      ]
    },
    {
      "cell_type": "code",
      "execution_count": null,
      "id": "2594b310",
      "metadata": {
        "id": "2594b310",
        "outputId": "10b1320b-8182-43f0-bf9a-8712a1dd795e"
      },
      "outputs": [
        {
          "data": {
            "text/html": [
              "<div>\n",
              "<style scoped>\n",
              "    .dataframe tbody tr th:only-of-type {\n",
              "        vertical-align: middle;\n",
              "    }\n",
              "\n",
              "    .dataframe tbody tr th {\n",
              "        vertical-align: top;\n",
              "    }\n",
              "\n",
              "    .dataframe thead th {\n",
              "        text-align: right;\n",
              "    }\n",
              "</style>\n",
              "<table border=\"1\" class=\"dataframe\">\n",
              "  <thead>\n",
              "    <tr style=\"text-align: right;\">\n",
              "      <th></th>\n",
              "      <th>Hypothesis</th>\n",
              "      <th>Reach</th>\n",
              "      <th>Impact</th>\n",
              "      <th>Confidence</th>\n",
              "      <th>Efforts</th>\n",
              "    </tr>\n",
              "  </thead>\n",
              "  <tbody>\n",
              "    <tr>\n",
              "      <th>0</th>\n",
              "      <td>Добавить два новых канала привлечения трафика,...</td>\n",
              "      <td>3</td>\n",
              "      <td>10</td>\n",
              "      <td>8</td>\n",
              "      <td>6</td>\n",
              "    </tr>\n",
              "    <tr>\n",
              "      <th>1</th>\n",
              "      <td>Запустить собственную службу доставки, что сок...</td>\n",
              "      <td>2</td>\n",
              "      <td>5</td>\n",
              "      <td>4</td>\n",
              "      <td>10</td>\n",
              "    </tr>\n",
              "    <tr>\n",
              "      <th>2</th>\n",
              "      <td>Добавить блоки рекомендаций товаров на сайт ин...</td>\n",
              "      <td>8</td>\n",
              "      <td>3</td>\n",
              "      <td>7</td>\n",
              "      <td>3</td>\n",
              "    </tr>\n",
              "    <tr>\n",
              "      <th>3</th>\n",
              "      <td>Изменить структура категорий, что увеличит кон...</td>\n",
              "      <td>8</td>\n",
              "      <td>3</td>\n",
              "      <td>3</td>\n",
              "      <td>8</td>\n",
              "    </tr>\n",
              "    <tr>\n",
              "      <th>4</th>\n",
              "      <td>Изменить цвет фона главной страницы, чтобы уве...</td>\n",
              "      <td>3</td>\n",
              "      <td>1</td>\n",
              "      <td>1</td>\n",
              "      <td>1</td>\n",
              "    </tr>\n",
              "    <tr>\n",
              "      <th>5</th>\n",
              "      <td>Добавить страницу отзывов клиентов о магазине,...</td>\n",
              "      <td>3</td>\n",
              "      <td>2</td>\n",
              "      <td>2</td>\n",
              "      <td>3</td>\n",
              "    </tr>\n",
              "    <tr>\n",
              "      <th>6</th>\n",
              "      <td>Показать на главной странице баннеры с актуаль...</td>\n",
              "      <td>5</td>\n",
              "      <td>3</td>\n",
              "      <td>8</td>\n",
              "      <td>3</td>\n",
              "    </tr>\n",
              "    <tr>\n",
              "      <th>7</th>\n",
              "      <td>Добавить форму подписки на все основные страни...</td>\n",
              "      <td>10</td>\n",
              "      <td>7</td>\n",
              "      <td>8</td>\n",
              "      <td>5</td>\n",
              "    </tr>\n",
              "    <tr>\n",
              "      <th>8</th>\n",
              "      <td>Запустить акцию, дающую скидку на товар в день...</td>\n",
              "      <td>1</td>\n",
              "      <td>9</td>\n",
              "      <td>9</td>\n",
              "      <td>5</td>\n",
              "    </tr>\n",
              "  </tbody>\n",
              "</table>\n",
              "</div>"
            ],
            "text/plain": [
              "                                          Hypothesis  Reach  Impact  \\\n",
              "0  Добавить два новых канала привлечения трафика,...      3      10   \n",
              "1  Запустить собственную службу доставки, что сок...      2       5   \n",
              "2  Добавить блоки рекомендаций товаров на сайт ин...      8       3   \n",
              "3  Изменить структура категорий, что увеличит кон...      8       3   \n",
              "4  Изменить цвет фона главной страницы, чтобы уве...      3       1   \n",
              "5  Добавить страницу отзывов клиентов о магазине,...      3       2   \n",
              "6  Показать на главной странице баннеры с актуаль...      5       3   \n",
              "7  Добавить форму подписки на все основные страни...     10       7   \n",
              "8  Запустить акцию, дающую скидку на товар в день...      1       9   \n",
              "\n",
              "   Confidence  Efforts  \n",
              "0           8        6  \n",
              "1           4       10  \n",
              "2           7        3  \n",
              "3           3        8  \n",
              "4           1        1  \n",
              "5           2        3  \n",
              "6           8        3  \n",
              "7           8        5  \n",
              "8           9        5  "
            ]
          },
          "metadata": {},
          "output_type": "display_data"
        },
        {
          "name": "stdout",
          "output_type": "stream",
          "text": [
            "<class 'pandas.core.frame.DataFrame'>\n",
            "RangeIndex: 9 entries, 0 to 8\n",
            "Data columns (total 5 columns):\n",
            " #   Column      Non-Null Count  Dtype \n",
            "---  ------      --------------  ----- \n",
            " 0   Hypothesis  9 non-null      object\n",
            " 1   Reach       9 non-null      int64 \n",
            " 2   Impact      9 non-null      int64 \n",
            " 3   Confidence  9 non-null      int64 \n",
            " 4   Efforts     9 non-null      int64 \n",
            "dtypes: int64(4), object(1)\n",
            "memory usage: 488.0+ bytes\n"
          ]
        }
      ],
      "source": [
        "# загружаем данные\n",
        "\n",
        "try:\n",
        "    hypothesis = pd.read_csv('/Users/alexander/Jupiter Notebooks/YandexCourse/Sprint13_project/hypothesis.csv')\n",
        "except:\n",
        "    hypothesis = pd.read_csv('/datasets/hypothesis.csv')\n",
        "\n",
        "\n",
        "# выведем данные и информацию о датафрейме\n",
        "display(hypothesis)\n",
        "hypothesis.info()"
      ]
    },
    {
      "cell_type": "markdown",
      "id": "7750c156",
      "metadata": {
        "id": "7750c156"
      },
      "source": [
        "Так как таблица небольшая, и всю ее видно при выводе, не будем проверять на пропуски и дубликаты. Типы данных столбцов соответствуют их содержанию. Для выдержания стиля приведем названия столбцов к нижнему регистру и на том окончим предобработку данных."
      ]
    },
    {
      "cell_type": "code",
      "execution_count": null,
      "id": "c225e008",
      "metadata": {
        "id": "c225e008",
        "outputId": "04a219a0-6260-4cf5-a14e-44ab1942d1d1"
      },
      "outputs": [
        {
          "data": {
            "text/html": [
              "<div>\n",
              "<style scoped>\n",
              "    .dataframe tbody tr th:only-of-type {\n",
              "        vertical-align: middle;\n",
              "    }\n",
              "\n",
              "    .dataframe tbody tr th {\n",
              "        vertical-align: top;\n",
              "    }\n",
              "\n",
              "    .dataframe thead th {\n",
              "        text-align: right;\n",
              "    }\n",
              "</style>\n",
              "<table border=\"1\" class=\"dataframe\">\n",
              "  <thead>\n",
              "    <tr style=\"text-align: right;\">\n",
              "      <th></th>\n",
              "      <th>hypothesis</th>\n",
              "      <th>reach</th>\n",
              "      <th>impact</th>\n",
              "      <th>confidence</th>\n",
              "      <th>efforts</th>\n",
              "    </tr>\n",
              "  </thead>\n",
              "  <tbody>\n",
              "    <tr>\n",
              "      <th>0</th>\n",
              "      <td>Добавить два новых канала привлечения трафика,...</td>\n",
              "      <td>3</td>\n",
              "      <td>10</td>\n",
              "      <td>8</td>\n",
              "      <td>6</td>\n",
              "    </tr>\n",
              "    <tr>\n",
              "      <th>1</th>\n",
              "      <td>Запустить собственную службу доставки, что сок...</td>\n",
              "      <td>2</td>\n",
              "      <td>5</td>\n",
              "      <td>4</td>\n",
              "      <td>10</td>\n",
              "    </tr>\n",
              "    <tr>\n",
              "      <th>2</th>\n",
              "      <td>Добавить блоки рекомендаций товаров на сайт ин...</td>\n",
              "      <td>8</td>\n",
              "      <td>3</td>\n",
              "      <td>7</td>\n",
              "      <td>3</td>\n",
              "    </tr>\n",
              "    <tr>\n",
              "      <th>3</th>\n",
              "      <td>Изменить структура категорий, что увеличит кон...</td>\n",
              "      <td>8</td>\n",
              "      <td>3</td>\n",
              "      <td>3</td>\n",
              "      <td>8</td>\n",
              "    </tr>\n",
              "    <tr>\n",
              "      <th>4</th>\n",
              "      <td>Изменить цвет фона главной страницы, чтобы уве...</td>\n",
              "      <td>3</td>\n",
              "      <td>1</td>\n",
              "      <td>1</td>\n",
              "      <td>1</td>\n",
              "    </tr>\n",
              "    <tr>\n",
              "      <th>5</th>\n",
              "      <td>Добавить страницу отзывов клиентов о магазине,...</td>\n",
              "      <td>3</td>\n",
              "      <td>2</td>\n",
              "      <td>2</td>\n",
              "      <td>3</td>\n",
              "    </tr>\n",
              "    <tr>\n",
              "      <th>6</th>\n",
              "      <td>Показать на главной странице баннеры с актуаль...</td>\n",
              "      <td>5</td>\n",
              "      <td>3</td>\n",
              "      <td>8</td>\n",
              "      <td>3</td>\n",
              "    </tr>\n",
              "    <tr>\n",
              "      <th>7</th>\n",
              "      <td>Добавить форму подписки на все основные страни...</td>\n",
              "      <td>10</td>\n",
              "      <td>7</td>\n",
              "      <td>8</td>\n",
              "      <td>5</td>\n",
              "    </tr>\n",
              "    <tr>\n",
              "      <th>8</th>\n",
              "      <td>Запустить акцию, дающую скидку на товар в день...</td>\n",
              "      <td>1</td>\n",
              "      <td>9</td>\n",
              "      <td>9</td>\n",
              "      <td>5</td>\n",
              "    </tr>\n",
              "  </tbody>\n",
              "</table>\n",
              "</div>"
            ],
            "text/plain": [
              "                                          hypothesis  reach  impact  \\\n",
              "0  Добавить два новых канала привлечения трафика,...      3      10   \n",
              "1  Запустить собственную службу доставки, что сок...      2       5   \n",
              "2  Добавить блоки рекомендаций товаров на сайт ин...      8       3   \n",
              "3  Изменить структура категорий, что увеличит кон...      8       3   \n",
              "4  Изменить цвет фона главной страницы, чтобы уве...      3       1   \n",
              "5  Добавить страницу отзывов клиентов о магазине,...      3       2   \n",
              "6  Показать на главной странице баннеры с актуаль...      5       3   \n",
              "7  Добавить форму подписки на все основные страни...     10       7   \n",
              "8  Запустить акцию, дающую скидку на товар в день...      1       9   \n",
              "\n",
              "   confidence  efforts  \n",
              "0           8        6  \n",
              "1           4       10  \n",
              "2           7        3  \n",
              "3           3        8  \n",
              "4           1        1  \n",
              "5           2        3  \n",
              "6           8        3  \n",
              "7           8        5  \n",
              "8           9        5  "
            ]
          },
          "execution_count": 3,
          "metadata": {},
          "output_type": "execute_result"
        }
      ],
      "source": [
        "hypothesis.columns = hypothesis.columns.str.lower()\n",
        "hypothesis"
      ]
    },
    {
      "cell_type": "markdown",
      "id": "d03019f4",
      "metadata": {
        "id": "d03019f4"
      },
      "source": [
        "## 1.1. Применим фреймворк ICE для приоритизации гипотез. Отсортируем их по убыванию приоритета"
      ]
    },
    {
      "cell_type": "code",
      "execution_count": null,
      "id": "a5dc5876",
      "metadata": {
        "id": "a5dc5876",
        "outputId": "0ccbe241-4a1c-4655-d50a-166449260eae"
      },
      "outputs": [
        {
          "data": {
            "text/html": [
              "<div>\n",
              "<style scoped>\n",
              "    .dataframe tbody tr th:only-of-type {\n",
              "        vertical-align: middle;\n",
              "    }\n",
              "\n",
              "    .dataframe tbody tr th {\n",
              "        vertical-align: top;\n",
              "    }\n",
              "\n",
              "    .dataframe thead th {\n",
              "        text-align: right;\n",
              "    }\n",
              "</style>\n",
              "<table border=\"1\" class=\"dataframe\">\n",
              "  <thead>\n",
              "    <tr style=\"text-align: right;\">\n",
              "      <th></th>\n",
              "      <th>hypothesis</th>\n",
              "      <th>ICE</th>\n",
              "    </tr>\n",
              "  </thead>\n",
              "  <tbody>\n",
              "    <tr>\n",
              "      <th>8</th>\n",
              "      <td>Запустить акцию, дающую скидку на товар в день...</td>\n",
              "      <td>16.20</td>\n",
              "    </tr>\n",
              "    <tr>\n",
              "      <th>0</th>\n",
              "      <td>Добавить два новых канала привлечения трафика,...</td>\n",
              "      <td>13.33</td>\n",
              "    </tr>\n",
              "    <tr>\n",
              "      <th>7</th>\n",
              "      <td>Добавить форму подписки на все основные страни...</td>\n",
              "      <td>11.20</td>\n",
              "    </tr>\n",
              "    <tr>\n",
              "      <th>6</th>\n",
              "      <td>Показать на главной странице баннеры с актуаль...</td>\n",
              "      <td>8.00</td>\n",
              "    </tr>\n",
              "    <tr>\n",
              "      <th>2</th>\n",
              "      <td>Добавить блоки рекомендаций товаров на сайт ин...</td>\n",
              "      <td>7.00</td>\n",
              "    </tr>\n",
              "    <tr>\n",
              "      <th>1</th>\n",
              "      <td>Запустить собственную службу доставки, что сок...</td>\n",
              "      <td>2.00</td>\n",
              "    </tr>\n",
              "    <tr>\n",
              "      <th>5</th>\n",
              "      <td>Добавить страницу отзывов клиентов о магазине,...</td>\n",
              "      <td>1.33</td>\n",
              "    </tr>\n",
              "    <tr>\n",
              "      <th>3</th>\n",
              "      <td>Изменить структура категорий, что увеличит кон...</td>\n",
              "      <td>1.12</td>\n",
              "    </tr>\n",
              "    <tr>\n",
              "      <th>4</th>\n",
              "      <td>Изменить цвет фона главной страницы, чтобы уве...</td>\n",
              "      <td>1.00</td>\n",
              "    </tr>\n",
              "  </tbody>\n",
              "</table>\n",
              "</div>"
            ],
            "text/plain": [
              "                                          hypothesis    ICE\n",
              "8  Запустить акцию, дающую скидку на товар в день...  16.20\n",
              "0  Добавить два новых канала привлечения трафика,...  13.33\n",
              "7  Добавить форму подписки на все основные страни...  11.20\n",
              "6  Показать на главной странице баннеры с актуаль...   8.00\n",
              "2  Добавить блоки рекомендаций товаров на сайт ин...   7.00\n",
              "1  Запустить собственную службу доставки, что сок...   2.00\n",
              "5  Добавить страницу отзывов клиентов о магазине,...   1.33\n",
              "3  Изменить структура категорий, что увеличит кон...   1.12\n",
              "4  Изменить цвет фона главной страницы, чтобы уве...   1.00"
            ]
          },
          "metadata": {},
          "output_type": "display_data"
        }
      ],
      "source": [
        "# добавим в датафрейм новый столбец со значением ICE по формуле impact * confidence / efforts\n",
        "# выведем результаты по убыванию значения\n",
        "\n",
        "hypothesis['ICE'] = round((hypothesis['impact'] * hypothesis['confidence'] / hypothesis['efforts']), 2)\n",
        "\n",
        "display(hypothesis[['hypothesis', 'ICE']].sort_values('ICE', ascending=False))"
      ]
    },
    {
      "cell_type": "markdown",
      "id": "c4a6e896",
      "metadata": {
        "id": "c4a6e896"
      },
      "source": [
        "## 1.2. Применим фреймворк RICE для приоритизации гипотез. Отсортируем их по убыванию приоритета"
      ]
    },
    {
      "cell_type": "code",
      "execution_count": null,
      "id": "f27a7343",
      "metadata": {
        "id": "f27a7343",
        "outputId": "4497a850-f886-4494-b3c3-a12a91fe0ee9"
      },
      "outputs": [
        {
          "data": {
            "text/html": [
              "<div>\n",
              "<style scoped>\n",
              "    .dataframe tbody tr th:only-of-type {\n",
              "        vertical-align: middle;\n",
              "    }\n",
              "\n",
              "    .dataframe tbody tr th {\n",
              "        vertical-align: top;\n",
              "    }\n",
              "\n",
              "    .dataframe thead th {\n",
              "        text-align: right;\n",
              "    }\n",
              "</style>\n",
              "<table border=\"1\" class=\"dataframe\">\n",
              "  <thead>\n",
              "    <tr style=\"text-align: right;\">\n",
              "      <th></th>\n",
              "      <th>hypothesis</th>\n",
              "      <th>RICE</th>\n",
              "    </tr>\n",
              "  </thead>\n",
              "  <tbody>\n",
              "    <tr>\n",
              "      <th>7</th>\n",
              "      <td>Добавить форму подписки на все основные страни...</td>\n",
              "      <td>112.0</td>\n",
              "    </tr>\n",
              "    <tr>\n",
              "      <th>2</th>\n",
              "      <td>Добавить блоки рекомендаций товаров на сайт ин...</td>\n",
              "      <td>56.0</td>\n",
              "    </tr>\n",
              "    <tr>\n",
              "      <th>0</th>\n",
              "      <td>Добавить два новых канала привлечения трафика,...</td>\n",
              "      <td>40.0</td>\n",
              "    </tr>\n",
              "    <tr>\n",
              "      <th>6</th>\n",
              "      <td>Показать на главной странице баннеры с актуаль...</td>\n",
              "      <td>40.0</td>\n",
              "    </tr>\n",
              "    <tr>\n",
              "      <th>8</th>\n",
              "      <td>Запустить акцию, дающую скидку на товар в день...</td>\n",
              "      <td>16.2</td>\n",
              "    </tr>\n",
              "    <tr>\n",
              "      <th>3</th>\n",
              "      <td>Изменить структура категорий, что увеличит кон...</td>\n",
              "      <td>9.0</td>\n",
              "    </tr>\n",
              "    <tr>\n",
              "      <th>1</th>\n",
              "      <td>Запустить собственную службу доставки, что сок...</td>\n",
              "      <td>4.0</td>\n",
              "    </tr>\n",
              "    <tr>\n",
              "      <th>5</th>\n",
              "      <td>Добавить страницу отзывов клиентов о магазине,...</td>\n",
              "      <td>4.0</td>\n",
              "    </tr>\n",
              "    <tr>\n",
              "      <th>4</th>\n",
              "      <td>Изменить цвет фона главной страницы, чтобы уве...</td>\n",
              "      <td>3.0</td>\n",
              "    </tr>\n",
              "  </tbody>\n",
              "</table>\n",
              "</div>"
            ],
            "text/plain": [
              "                                          hypothesis   RICE\n",
              "7  Добавить форму подписки на все основные страни...  112.0\n",
              "2  Добавить блоки рекомендаций товаров на сайт ин...   56.0\n",
              "0  Добавить два новых канала привлечения трафика,...   40.0\n",
              "6  Показать на главной странице баннеры с актуаль...   40.0\n",
              "8  Запустить акцию, дающую скидку на товар в день...   16.2\n",
              "3  Изменить структура категорий, что увеличит кон...    9.0\n",
              "1  Запустить собственную службу доставки, что сок...    4.0\n",
              "5  Добавить страницу отзывов клиентов о магазине,...    4.0\n",
              "4  Изменить цвет фона главной страницы, чтобы уве...    3.0"
            ]
          },
          "metadata": {},
          "output_type": "display_data"
        }
      ],
      "source": [
        "# добавим в датафрейм новый столбец со значением RICE по формуле reach * impact * confidence / efforts\n",
        "# выведем результаты по убыванию значения\n",
        "\n",
        "#pd.set_option('display.max_colwidth', None)\n",
        "\n",
        "hypothesis['RICE'] = hypothesis['reach'] * hypothesis['impact'] * hypothesis['confidence'] / hypothesis['efforts']\n",
        "\n",
        "display(hypothesis[['hypothesis', 'RICE']].sort_values('RICE', ascending=False))"
      ]
    },
    {
      "cell_type": "markdown",
      "id": "b1866693",
      "metadata": {
        "id": "b1866693"
      },
      "source": [
        "## 1.3. Общий вывод по Части 1:\n",
        "\n",
        "Приоритизация гипотез с помощью фреймворка ICE поставила на первое место гипотезу №8, затем №0 и №7.\n",
        "\n",
        "Приоритизация гипотез с помощью фреймворка RICE поставила на первое место гипотезу №7, затем №2 и №0.\n",
        "При этом приоретизация гипотезы 7 по RICE в два раза выше своего ближайшего конкурента, по ICE мы не наблюдали такой значительной разницы.\n",
        "\n",
        "Так произошло потому как фреймворк RICE учитывает вес параметра Reach — количество пользователей, которых затронет предлагаемое изменение. При этом у гипотезы №7 максимальный охват (10), а у гипотезы №8 минимальный (1), это в основном и повлияло на результат.\n",
        "\n",
        "Рекомендовано сосредоточиться на проверке гипотез в порядке согласно приоретизации по фреймворку RICE, так как нельзя игнорировать охват пользователей."
      ]
    },
    {
      "cell_type": "markdown",
      "id": "6de9cb33",
      "metadata": {
        "id": "6de9cb33"
      },
      "source": [
        "# Часть 2. Анализ A/B-теста"
      ]
    },
    {
      "cell_type": "code",
      "execution_count": null,
      "id": "57071c12",
      "metadata": {
        "id": "57071c12",
        "outputId": "55639e0b-9613-4900-99f4-5177359ee444"
      },
      "outputs": [
        {
          "data": {
            "text/html": [
              "<div>\n",
              "<style scoped>\n",
              "    .dataframe tbody tr th:only-of-type {\n",
              "        vertical-align: middle;\n",
              "    }\n",
              "\n",
              "    .dataframe tbody tr th {\n",
              "        vertical-align: top;\n",
              "    }\n",
              "\n",
              "    .dataframe thead th {\n",
              "        text-align: right;\n",
              "    }\n",
              "</style>\n",
              "<table border=\"1\" class=\"dataframe\">\n",
              "  <thead>\n",
              "    <tr style=\"text-align: right;\">\n",
              "      <th></th>\n",
              "      <th>transactionId</th>\n",
              "      <th>visitorId</th>\n",
              "      <th>date</th>\n",
              "      <th>revenue</th>\n",
              "      <th>group</th>\n",
              "    </tr>\n",
              "  </thead>\n",
              "  <tbody>\n",
              "    <tr>\n",
              "      <th>0</th>\n",
              "      <td>3667963787</td>\n",
              "      <td>3312258926</td>\n",
              "      <td>2019-08-15</td>\n",
              "      <td>1650</td>\n",
              "      <td>B</td>\n",
              "    </tr>\n",
              "    <tr>\n",
              "      <th>1</th>\n",
              "      <td>2804400009</td>\n",
              "      <td>3642806036</td>\n",
              "      <td>2019-08-15</td>\n",
              "      <td>730</td>\n",
              "      <td>B</td>\n",
              "    </tr>\n",
              "    <tr>\n",
              "      <th>2</th>\n",
              "      <td>2961555356</td>\n",
              "      <td>4069496402</td>\n",
              "      <td>2019-08-15</td>\n",
              "      <td>400</td>\n",
              "      <td>A</td>\n",
              "    </tr>\n",
              "    <tr>\n",
              "      <th>3</th>\n",
              "      <td>3797467345</td>\n",
              "      <td>1196621759</td>\n",
              "      <td>2019-08-15</td>\n",
              "      <td>9759</td>\n",
              "      <td>B</td>\n",
              "    </tr>\n",
              "    <tr>\n",
              "      <th>4</th>\n",
              "      <td>2282983706</td>\n",
              "      <td>2322279887</td>\n",
              "      <td>2019-08-15</td>\n",
              "      <td>2308</td>\n",
              "      <td>B</td>\n",
              "    </tr>\n",
              "  </tbody>\n",
              "</table>\n",
              "</div>"
            ],
            "text/plain": [
              "   transactionId   visitorId        date  revenue group\n",
              "0     3667963787  3312258926  2019-08-15     1650     B\n",
              "1     2804400009  3642806036  2019-08-15      730     B\n",
              "2     2961555356  4069496402  2019-08-15      400     A\n",
              "3     3797467345  1196621759  2019-08-15     9759     B\n",
              "4     2282983706  2322279887  2019-08-15     2308     B"
            ]
          },
          "metadata": {},
          "output_type": "display_data"
        },
        {
          "name": "stdout",
          "output_type": "stream",
          "text": [
            "<class 'pandas.core.frame.DataFrame'>\n",
            "RangeIndex: 1197 entries, 0 to 1196\n",
            "Data columns (total 5 columns):\n",
            " #   Column         Non-Null Count  Dtype \n",
            "---  ------         --------------  ----- \n",
            " 0   transactionId  1197 non-null   int64 \n",
            " 1   visitorId      1197 non-null   int64 \n",
            " 2   date           1197 non-null   object\n",
            " 3   revenue        1197 non-null   int64 \n",
            " 4   group          1197 non-null   object\n",
            "dtypes: int64(3), object(2)\n",
            "memory usage: 46.9+ KB\n"
          ]
        },
        {
          "data": {
            "text/html": [
              "<div>\n",
              "<style scoped>\n",
              "    .dataframe tbody tr th:only-of-type {\n",
              "        vertical-align: middle;\n",
              "    }\n",
              "\n",
              "    .dataframe tbody tr th {\n",
              "        vertical-align: top;\n",
              "    }\n",
              "\n",
              "    .dataframe thead th {\n",
              "        text-align: right;\n",
              "    }\n",
              "</style>\n",
              "<table border=\"1\" class=\"dataframe\">\n",
              "  <thead>\n",
              "    <tr style=\"text-align: right;\">\n",
              "      <th></th>\n",
              "      <th>date</th>\n",
              "      <th>group</th>\n",
              "      <th>visitors</th>\n",
              "    </tr>\n",
              "  </thead>\n",
              "  <tbody>\n",
              "    <tr>\n",
              "      <th>0</th>\n",
              "      <td>2019-08-01</td>\n",
              "      <td>A</td>\n",
              "      <td>719</td>\n",
              "    </tr>\n",
              "    <tr>\n",
              "      <th>1</th>\n",
              "      <td>2019-08-02</td>\n",
              "      <td>A</td>\n",
              "      <td>619</td>\n",
              "    </tr>\n",
              "    <tr>\n",
              "      <th>2</th>\n",
              "      <td>2019-08-03</td>\n",
              "      <td>A</td>\n",
              "      <td>507</td>\n",
              "    </tr>\n",
              "    <tr>\n",
              "      <th>3</th>\n",
              "      <td>2019-08-04</td>\n",
              "      <td>A</td>\n",
              "      <td>717</td>\n",
              "    </tr>\n",
              "    <tr>\n",
              "      <th>4</th>\n",
              "      <td>2019-08-05</td>\n",
              "      <td>A</td>\n",
              "      <td>756</td>\n",
              "    </tr>\n",
              "  </tbody>\n",
              "</table>\n",
              "</div>"
            ],
            "text/plain": [
              "         date group  visitors\n",
              "0  2019-08-01     A       719\n",
              "1  2019-08-02     A       619\n",
              "2  2019-08-03     A       507\n",
              "3  2019-08-04     A       717\n",
              "4  2019-08-05     A       756"
            ]
          },
          "metadata": {},
          "output_type": "display_data"
        },
        {
          "name": "stdout",
          "output_type": "stream",
          "text": [
            "<class 'pandas.core.frame.DataFrame'>\n",
            "RangeIndex: 62 entries, 0 to 61\n",
            "Data columns (total 3 columns):\n",
            " #   Column    Non-Null Count  Dtype \n",
            "---  ------    --------------  ----- \n",
            " 0   date      62 non-null     object\n",
            " 1   group     62 non-null     object\n",
            " 2   visitors  62 non-null     int64 \n",
            "dtypes: int64(1), object(2)\n",
            "memory usage: 1.6+ KB\n"
          ]
        }
      ],
      "source": [
        "# загружаем данные\n",
        "\n",
        "try:\n",
        "    orders = pd.read_csv('/Users/alexander/Jupiter Notebooks/YandexCourse/Sprint13_project/orders.csv')\n",
        "    visitors = pd.read_csv('/Users/alexander/Jupiter Notebooks/YandexCourse/Sprint13_project/visitors.csv')\n",
        "except:\n",
        "    orders = pd.read_csv('/datasets/orders.csv')\n",
        "    visitors = pd.read_csv('/datasets/visitors.csv')\n",
        "\n",
        "\n",
        "data_list = [orders, visitors]\n",
        "\n",
        "# выведем данные и информацию о датафрейме\n",
        "for df in data_list:\n",
        "    display(df.head())\n",
        "    df.info()"
      ]
    },
    {
      "cell_type": "code",
      "execution_count": null,
      "id": "ac195f24",
      "metadata": {
        "id": "ac195f24",
        "outputId": "9e78bdc1-45e7-4f02-a8be-8f2bf7cf4739"
      },
      "outputs": [
        {
          "name": "stdout",
          "output_type": "stream",
          "text": [
            "0\n",
            "0\n"
          ]
        }
      ],
      "source": [
        "# пропусков в данных не наблюдается.\n",
        "# проверим на дубликаты\n",
        "\n",
        "for df in data_list:\n",
        "    print(df.duplicated().sum())"
      ]
    },
    {
      "cell_type": "code",
      "execution_count": null,
      "id": "05edb7cd",
      "metadata": {
        "id": "05edb7cd",
        "outputId": "244bcfd8-e401-4311-b78b-c9f7d4f34887"
      },
      "outputs": [
        {
          "name": "stdout",
          "output_type": "stream",
          "text": [
            "<class 'pandas.core.frame.DataFrame'>\n",
            "RangeIndex: 1197 entries, 0 to 1196\n",
            "Data columns (total 5 columns):\n",
            " #   Column         Non-Null Count  Dtype         \n",
            "---  ------         --------------  -----         \n",
            " 0   transactionId  1197 non-null   int64         \n",
            " 1   visitorId      1197 non-null   int64         \n",
            " 2   date           1197 non-null   datetime64[ns]\n",
            " 3   revenue        1197 non-null   int64         \n",
            " 4   group          1197 non-null   object        \n",
            "dtypes: datetime64[ns](1), int64(3), object(1)\n",
            "memory usage: 46.9+ KB\n",
            "\n",
            "<class 'pandas.core.frame.DataFrame'>\n",
            "RangeIndex: 62 entries, 0 to 61\n",
            "Data columns (total 3 columns):\n",
            " #   Column    Non-Null Count  Dtype         \n",
            "---  ------    --------------  -----         \n",
            " 0   date      62 non-null     datetime64[ns]\n",
            " 1   group     62 non-null     object        \n",
            " 2   visitors  62 non-null     int64         \n",
            "dtypes: datetime64[ns](1), int64(1), object(1)\n",
            "memory usage: 1.6+ KB\n",
            "\n"
          ]
        }
      ],
      "source": [
        "# дубликатов в данных не наблюдается.\n",
        "# приведем столбцы с датами к нужному формату\n",
        "\n",
        "for df in data_list:\n",
        "    df['date'] = df['date'].map(\n",
        "    lambda x: dt.datetime.strptime(x, '%Y-%m-%d')\n",
        ")\n",
        "    df.info()\n",
        "    print()"
      ]
    },
    {
      "cell_type": "code",
      "execution_count": null,
      "id": "c0c38cca",
      "metadata": {
        "id": "c0c38cca",
        "outputId": "7839f543-ba7a-47bf-b35d-bb8b44fd8175"
      },
      "outputs": [
        {
          "data": {
            "text/plain": [
              "array(['B', 'A'], dtype=object)"
            ]
          },
          "metadata": {},
          "output_type": "display_data"
        },
        {
          "name": "stdout",
          "output_type": "stream",
          "text": [
            "дата начала теста:  2019-08-01 00:00:00\n",
            "дата окончания теста:  2019-08-31 00:00:00\n"
          ]
        },
        {
          "data": {
            "text/plain": [
              "array(['A', 'B'], dtype=object)"
            ]
          },
          "metadata": {},
          "output_type": "display_data"
        },
        {
          "name": "stdout",
          "output_type": "stream",
          "text": [
            "дата начала теста:  2019-08-01 00:00:00\n",
            "дата окончания теста:  2019-08-31 00:00:00\n",
            "количество уникальных пользователей:  1031\n"
          ]
        },
        {
          "data": {
            "text/html": [
              "<div>\n",
              "<style scoped>\n",
              "    .dataframe tbody tr th:only-of-type {\n",
              "        vertical-align: middle;\n",
              "    }\n",
              "\n",
              "    .dataframe tbody tr th {\n",
              "        vertical-align: top;\n",
              "    }\n",
              "\n",
              "    .dataframe thead th {\n",
              "        text-align: right;\n",
              "    }\n",
              "</style>\n",
              "<table border=\"1\" class=\"dataframe\">\n",
              "  <thead>\n",
              "    <tr style=\"text-align: right;\">\n",
              "      <th></th>\n",
              "      <th>visitorId</th>\n",
              "    </tr>\n",
              "    <tr>\n",
              "      <th>group</th>\n",
              "      <th></th>\n",
              "    </tr>\n",
              "  </thead>\n",
              "  <tbody>\n",
              "    <tr>\n",
              "      <th>A</th>\n",
              "      <td>503</td>\n",
              "    </tr>\n",
              "    <tr>\n",
              "      <th>B</th>\n",
              "      <td>586</td>\n",
              "    </tr>\n",
              "  </tbody>\n",
              "</table>\n",
              "</div>"
            ],
            "text/plain": [
              "       visitorId\n",
              "group           \n",
              "A            503\n",
              "B            586"
            ]
          },
          "metadata": {},
          "output_type": "display_data"
        }
      ],
      "source": [
        "# посмотрим на количество групп в AB тесте\n",
        "\n",
        "for df in data_list:\n",
        "    display(df['group'].unique())\n",
        "    print('дата начала теста: ', df['date'].min())\n",
        "    print('дата окончания теста: ', df['date'].max())\n",
        "\n",
        "# найдем количество уникальных пользователей\n",
        "print('количество уникальных пользователей: ', orders['visitorId'].nunique())\n",
        "\n",
        "# найдем количество уникальных пользователей в каждой группе:\n",
        "display(orders[['group', 'visitorId']].groupby('group').nunique())"
      ]
    },
    {
      "cell_type": "markdown",
      "id": "80ed4b56",
      "metadata": {
        "id": "80ed4b56"
      },
      "source": [
        "Выяснили, что у нас всего две группы - A и B. <br>\n",
        "Дата начала теста:  2019-08-01. <br>\n",
        "Дата окончания теста:  2019-08-31. <br>\n",
        "Количество уникальных пользователей в двух группах  1031 человек. <br>\n",
        "При этом количество уникальных пользователей в каждой группе в сумме дают бОльшее число - значит некоторые пользователи попали в обе группы. <br>"
      ]
    },
    {
      "cell_type": "code",
      "execution_count": null,
      "id": "cf316184",
      "metadata": {
        "id": "cf316184",
        "outputId": "e7878a8b-b04f-4705-9fa3-5e010a62f935"
      },
      "outputs": [
        {
          "data": {
            "text/plain": [
              "58"
            ]
          },
          "execution_count": 10,
          "metadata": {},
          "output_type": "execute_result"
        }
      ],
      "source": [
        "# найдем пользователей, попавших в обе группы. Для этого к отфильтрованному по группе A датафрейму orders\n",
        "# присоединим тот же датафрейм orders, но отфильтрованноый по группе B.\n",
        "# соединение по столбцу visitorId с параметром inner (только попавшие в оба фильтра пользователи).\n",
        "# В итоговой таблице посчитаем количество уникальных пользователей.\n",
        "\n",
        "orders[orders['group']=='A'].merge(orders[orders['group']=='B'], on='visitorId', how='inner')['visitorId'].nunique()"
      ]
    },
    {
      "cell_type": "markdown",
      "id": "dfee0070",
      "metadata": {
        "id": "dfee0070"
      },
      "source": [
        "58 пользователей каким-то образом попали в обе группы. Не будем исключать их из заказов, так как в этом случае таблица orders будет участовать в дальнейшем исследовании без учета этой группы, а таблица visitors все равно останется с учетом этой группы, так как из нее невозможно исключить конкретных пользователей."
      ]
    },
    {
      "cell_type": "markdown",
      "id": "ff631f8a",
      "metadata": {
        "id": "ff631f8a"
      },
      "source": [
        "### Вывод по предобработке данных:\n",
        "Прочитали два датафрейма, пропусков в данных нет, дубликатов нет, формат после обработки столбцов с датами соответсвует содержанию.<br>\n",
        "\n",
        "В AB тесте участвовали всего две группы - A и B. <br>\n",
        "Дата начала теста:  2019-08-01. <br>\n",
        "Дата окончания теста:  2019-08-31. <br>\n",
        "Количество уникальных пользователей в двух группах  1031 человек. <br>\n",
        "При этом 58 пользователей каким-то образом попали в обе группы. Не будем исключать их из заказов, так как в этом случае таблица orders будет участовать в дальнейшем исследовании без учета этой группы, а таблица visitors все равно останется с учетом этой группы, так как из нее невозможно исключить конкретных пользователей. Предположим, что 58/1031 = 5,6% не окажут существенного влияния на результаты исследования <br>"
      ]
    },
    {
      "cell_type": "markdown",
      "id": "2073b11f",
      "metadata": {
        "id": "2073b11f"
      },
      "source": [
        "## 2.1 Построим график кумулятивной выручки по группам."
      ]
    },
    {
      "cell_type": "code",
      "execution_count": null,
      "id": "e03d601e",
      "metadata": {
        "id": "e03d601e",
        "outputId": "2aa5fea9-c1c4-43fc-e7de-c9a7a5ee484a"
      },
      "outputs": [
        {
          "data": {
            "text/html": [
              "<div>\n",
              "<style scoped>\n",
              "    .dataframe tbody tr th:only-of-type {\n",
              "        vertical-align: middle;\n",
              "    }\n",
              "\n",
              "    .dataframe tbody tr th {\n",
              "        vertical-align: top;\n",
              "    }\n",
              "\n",
              "    .dataframe thead th {\n",
              "        text-align: right;\n",
              "    }\n",
              "</style>\n",
              "<table border=\"1\" class=\"dataframe\">\n",
              "  <thead>\n",
              "    <tr style=\"text-align: right;\">\n",
              "      <th></th>\n",
              "      <th>date</th>\n",
              "      <th>group</th>\n",
              "      <th>orders</th>\n",
              "      <th>buyers</th>\n",
              "      <th>revenue</th>\n",
              "      <th>visitors</th>\n",
              "    </tr>\n",
              "  </thead>\n",
              "  <tbody>\n",
              "    <tr>\n",
              "      <th>0</th>\n",
              "      <td>2019-08-01</td>\n",
              "      <td>A</td>\n",
              "      <td>24</td>\n",
              "      <td>20</td>\n",
              "      <td>148579</td>\n",
              "      <td>719</td>\n",
              "    </tr>\n",
              "    <tr>\n",
              "      <th>1</th>\n",
              "      <td>2019-08-01</td>\n",
              "      <td>B</td>\n",
              "      <td>21</td>\n",
              "      <td>20</td>\n",
              "      <td>101217</td>\n",
              "      <td>713</td>\n",
              "    </tr>\n",
              "    <tr>\n",
              "      <th>2</th>\n",
              "      <td>2019-08-02</td>\n",
              "      <td>A</td>\n",
              "      <td>44</td>\n",
              "      <td>38</td>\n",
              "      <td>242401</td>\n",
              "      <td>1338</td>\n",
              "    </tr>\n",
              "    <tr>\n",
              "      <th>3</th>\n",
              "      <td>2019-08-02</td>\n",
              "      <td>B</td>\n",
              "      <td>45</td>\n",
              "      <td>43</td>\n",
              "      <td>266748</td>\n",
              "      <td>1294</td>\n",
              "    </tr>\n",
              "    <tr>\n",
              "      <th>4</th>\n",
              "      <td>2019-08-03</td>\n",
              "      <td>A</td>\n",
              "      <td>68</td>\n",
              "      <td>62</td>\n",
              "      <td>354874</td>\n",
              "      <td>1845</td>\n",
              "    </tr>\n",
              "  </tbody>\n",
              "</table>\n",
              "</div>"
            ],
            "text/plain": [
              "        date group  orders  buyers  revenue  visitors\n",
              "0 2019-08-01     A      24      20   148579       719\n",
              "1 2019-08-01     B      21      20   101217       713\n",
              "2 2019-08-02     A      44      38   242401      1338\n",
              "3 2019-08-02     B      45      43   266748      1294\n",
              "4 2019-08-03     A      68      62   354874      1845"
            ]
          },
          "metadata": {},
          "output_type": "display_data"
        }
      ],
      "source": [
        "# Построим график кумулятивной выручки по группам.\n",
        "\n",
        "# создаем массив уникальных пар значений дат и групп теста\n",
        "datesGroups = orders[['date','group']].drop_duplicates()\n",
        "\n",
        "# получаем агрегированные кумулятивные по дням данные о заказах\n",
        "ordersAggregated = datesGroups.apply(lambda x: orders[np.logical_and(orders['date'] <= x['date'], orders['group'] == x['group'])].agg({'date' : 'max', 'group' : 'max', 'transactionId' : 'nunique', 'visitorId' : 'nunique', 'revenue' : 'sum'}), axis=1).sort_values(by=['date','group'])\n",
        "\n",
        "# получаем агрегированные кумулятивные по дням данные о посетителях интернет-магазина\n",
        "visitorsAggregated = datesGroups.apply(lambda x: visitors[np.logical_and(visitors['date'] <= x['date'], visitors['group'] == x['group'])].agg({'date' : 'max', 'group' : 'max', 'visitors' : 'sum'}), axis=1).sort_values(by=['date','group'])\n",
        "\n",
        "# объединяем кумулятивные данные в одной таблице и присваиваем ее столбцам понятные названия\n",
        "cumulativeData = ordersAggregated.merge(visitorsAggregated, left_on=['date', 'group'], right_on=['date', 'group'])\n",
        "cumulativeData.columns = ['date', 'group', 'orders', 'buyers', 'revenue', 'visitors']\n",
        "\n",
        "display(cumulativeData.head(5))"
      ]
    },
    {
      "cell_type": "code",
      "execution_count": null,
      "id": "ab2531e2",
      "metadata": {
        "id": "ab2531e2",
        "outputId": "66e09486-aba4-4dff-dc29-fd53e20dba2e"
      },
      "outputs": [
        {
          "data": {
            "image/png": "[encoded data removed]",
            "text/plain": [
              "<Figure size 720x504 with 1 Axes>"
            ]
          },
          "metadata": {
            "needs_background": "light"
          },
          "output_type": "display_data"
        }
      ],
      "source": [
        "# датафрейм с кумулятивным количеством заказов и кумулятивной выручкой по дням в группе А\n",
        "cumulativeRevenueA = cumulativeData[cumulativeData['group']=='A'][['date','revenue', 'orders']]\n",
        "\n",
        "# датафрейм с кумулятивным количеством заказов и кумулятивной выручкой по дням в группе B\n",
        "cumulativeRevenueB = cumulativeData[cumulativeData['group']=='B'][['date','revenue', 'orders']]\n",
        "\n",
        "plt.figure(figsize=[10, 7])\n",
        "\n",
        "# Строим график выручки группы А\n",
        "plt.plot(cumulativeRevenueA['date'], cumulativeRevenueA['revenue'], label='группа A')\n",
        "\n",
        "# Строим график выручки группы B\n",
        "plt.plot(cumulativeRevenueB['date'], cumulativeRevenueB['revenue'], label='группа B')\n",
        "\n",
        "plt.title('кумулятивная выручка по группам', fontsize=20)\n",
        "plt.xlabel(\"Дата\", fontsize=16)\n",
        "plt.ylabel(\"Выручка, млн руб\", fontsize=16)\n",
        "plt.grid(True)\n",
        "plt.legend(fontsize=16)\n",
        "plt.show()"
      ]
    },
    {
      "cell_type": "markdown",
      "id": "3e496f79",
      "metadata": {
        "id": "3e496f79"
      },
      "source": [
        "### Вывод:\n",
        "Наблюдаем:\n",
        "- выручка увеличивается в течение всего теста в обеих группах\n",
        "- выручка группы B примерно с середины теста выручка больше\n",
        "- на графиках присутствует резкий скачек в группе B районе 18-19 августа, возможно были аномальные скачки числа покупателей либо суммы покупок (нужно проверить выбросы в выборке)\n"
      ]
    },
    {
      "cell_type": "markdown",
      "id": "2449e200",
      "metadata": {
        "id": "2449e200"
      },
      "source": [
        "## 2.2. Построим график кумулятивного среднего чека по группам."
      ]
    },
    {
      "cell_type": "code",
      "execution_count": null,
      "id": "2cedf972",
      "metadata": {
        "id": "2cedf972",
        "outputId": "9150faf2-d14d-4e00-a7a2-fe567e570b8b"
      },
      "outputs": [
        {
          "data": {
            "image/png": "[encoded data removed]",
            "text/plain": [
              "<Figure size 720x504 with 1 Axes>"
            ]
          },
          "metadata": {
            "needs_background": "light"
          },
          "output_type": "display_data"
        }
      ],
      "source": [
        "# Построим график кумулятивного среднего чека по группам.\n",
        "\n",
        "plt.figure(figsize=[10, 7])\n",
        "plt.plot(cumulativeRevenueA['date'], cumulativeRevenueA['revenue']/cumulativeRevenueA['orders'], label='группа A')\n",
        "plt.plot(cumulativeRevenueB['date'], cumulativeRevenueB['revenue']/cumulativeRevenueB['orders'], label='группа B')\n",
        "plt.title('кумулятивный средний чек по группам', fontsize=20)\n",
        "plt.xlabel(\"Дата\", fontsize=16)\n",
        "plt.ylabel(\"Средний чек заказа, руб\", fontsize=16)\n",
        "plt.grid(True)\n",
        "plt.legend(fontsize=16)\n",
        "plt.show()"
      ]
    },
    {
      "cell_type": "markdown",
      "id": "32ebe979",
      "metadata": {
        "id": "32ebe979"
      },
      "source": [
        "### Вывод:\n",
        "- средний чек для группа A становится равномерным после локального пика 2019-08-13\n",
        "- средний чек для группы B делает очень большой скачек 2019-08-18, затем идет на снижение.\n",
        "\n",
        "Возможно в этот период был аномально дорогой заказ.\n",
        "Возможно, средний чек для группы B еще не установился возле своего среднего значения."
      ]
    },
    {
      "cell_type": "markdown",
      "id": "3d004e09",
      "metadata": {
        "id": "3d004e09"
      },
      "source": [
        "## 2.3. Построим график относительного различия для среднего чека группы B к группе A"
      ]
    },
    {
      "cell_type": "code",
      "execution_count": null,
      "id": "c1b5d865",
      "metadata": {
        "id": "c1b5d865",
        "outputId": "50905845-5029-43cf-80f8-824513c6f05f"
      },
      "outputs": [
        {
          "data": {
            "image/png": "[encoded data removed]",
            "text/plain": [
              "<Figure size 720x504 with 1 Axes>"
            ]
          },
          "metadata": {
            "needs_background": "light"
          },
          "output_type": "display_data"
        }
      ],
      "source": [
        "# Построим график относительного различия для среднего чека группы B к группе A.\n",
        "# Добавим горизонтальную ось y=0 методом axhline()\n",
        "\n",
        "# собираем данные в одном датафрейме\n",
        "mergedCumulativeRevenue = cumulativeRevenueA.merge(cumulativeRevenueB, left_on='date', right_on='date', how='left', suffixes=['A', 'B'])\n",
        "\n",
        "plt.figure(figsize=[10, 7])\n",
        "# cтроим отношение средних чеков\n",
        "plt.plot(mergedCumulativeRevenue['date'], (mergedCumulativeRevenue['revenueB']/mergedCumulativeRevenue['ordersB'])/(mergedCumulativeRevenue['revenueA']/mergedCumulativeRevenue['ordersA'])-1)\n",
        "\n",
        "plt.title('Относительное различие среднего чека группы B к группе A', fontsize=20)\n",
        "plt.xlabel(\"Дата\", fontsize=16)\n",
        "plt.ylabel(\"Различие B относительно A\", fontsize=16)\n",
        "\n",
        "# добавляем ось X\n",
        "plt.axhline(y=0, color='black', linestyle='--')\n",
        "plt.show()"
      ]
    },
    {
      "cell_type": "markdown",
      "id": "f9441881",
      "metadata": {
        "id": "f9441881"
      },
      "source": [
        "### Вывод:\n",
        "Видим, как средний чек группы B становится больше чем для группы A, затем падает обратно в зону меньше чем у группы A, затем резко возрастает и становится больше. Нельзя сказать, стабилировалось ли значение на данный момент и для какой группы средний чек выше."
      ]
    },
    {
      "cell_type": "markdown",
      "id": "8eabd3fa",
      "metadata": {
        "id": "8eabd3fa"
      },
      "source": [
        "## 2.4.  Построим график кумулятивного среднего количества заказов на посетителя по группам."
      ]
    },
    {
      "cell_type": "code",
      "execution_count": null,
      "id": "8fd4a032",
      "metadata": {
        "id": "8fd4a032",
        "outputId": "3e6eca79-3e25-4fa7-9869-0604a25da4d2"
      },
      "outputs": [
        {
          "data": {
            "image/png": "[encoded data removed]",
            "text/plain": [
              "<Figure size 1080x576 with 1 Axes>"
            ]
          },
          "metadata": {
            "needs_background": "light"
          },
          "output_type": "display_data"
        }
      ],
      "source": [
        "# считаем среднее количество заказов на посетителя по группам - кумулятивную конверсию\n",
        "cumulativeData['conversion'] = cumulativeData['orders']/cumulativeData['visitors']\n",
        "\n",
        "# отделяем данные по группе A\n",
        "cumulativeDataA = cumulativeData[cumulativeData['group']=='A']\n",
        "\n",
        "# отделяем данные по группе B\n",
        "cumulativeDataB = cumulativeData[cumulativeData['group']=='B']\n",
        "\n",
        "# строим графики\n",
        "plt.figure(figsize=[15, 8])\n",
        "plt.plot(cumulativeDataA['date'], cumulativeDataA['conversion'], label='группа A')\n",
        "plt.plot(cumulativeDataB['date'], cumulativeDataB['conversion'], label='группа B')\n",
        "\n",
        "plt.title('кумулятивное среднее количество заказов на посетителя по группам', fontsize=20)\n",
        "plt.xlabel(\"Дата\", fontsize=16)\n",
        "plt.ylabel(\"Среднее кол-во заказов на посетителя\", fontsize=16)\n",
        "plt.grid(True)\n",
        "plt.legend(fontsize=16)\n",
        "plt.show()"
      ]
    },
    {
      "cell_type": "markdown",
      "id": "ca9c0e9f",
      "metadata": {
        "id": "ca9c0e9f"
      },
      "source": [
        "### Вывод:\n",
        "среднее количество заказов на посетителя по группам резко росло и падало в обеих группах, затем стабилизировалось для группы B выше чем для группы A"
      ]
    },
    {
      "cell_type": "markdown",
      "id": "075aac08",
      "metadata": {
        "id": "075aac08"
      },
      "source": [
        "## 2.5. Построим график относительного изменения кумулятивного среднего количества заказов на посетителя группы B к группе A."
      ]
    },
    {
      "cell_type": "code",
      "execution_count": null,
      "id": "46f53790",
      "metadata": {
        "id": "46f53790",
        "outputId": "2f442725-0b43-407e-856b-9cc553606886"
      },
      "outputs": [
        {
          "data": {
            "image/png": "[encoded data removed]",
            "text/plain": [
              "<Figure size 864x576 with 1 Axes>"
            ]
          },
          "metadata": {
            "needs_background": "light"
          },
          "output_type": "display_data"
        }
      ],
      "source": [
        "# Построим график относительного изменения кумулятивного среднего количества заказов на посетителя группы B к группе A.\n",
        "\n",
        "mergedCumulativeConversions = cumulativeDataA[['date','conversion']].merge(cumulativeDataB[['date','conversion']], left_on='date', right_on='date', how='left', suffixes=['A', 'B'])\n",
        "plt.figure(figsize=[12,8])\n",
        "plt.plot(mergedCumulativeConversions['date'], mergedCumulativeConversions['conversionB']/mergedCumulativeConversions['conversionA']-1, label=\"Относительный прирост конверсии группы B относительно группы A\")\n",
        "\n",
        "plt.axhline(y=0, color='black', linestyle='--')\n",
        "plt.axhline(y=0.15, color='grey', linestyle='--')\n",
        "plt.title('относительное изменение кумулятивного среднего количества заказов на посетителя группы B к группе A', fontsize=20)\n",
        "plt.xlabel(\"Дата\", fontsize=16)\n",
        "plt.ylabel(\"Различие B относительно A\", fontsize=16)\n",
        "plt.show()\n",
        "#plt.axis([\"2019-04-01\", '2019-04-23', -0.6, 0.6])"
      ]
    },
    {
      "cell_type": "markdown",
      "id": "ac0d66c3",
      "metadata": {
        "id": "ac0d66c3"
      },
      "source": [
        "### Вывод:\n",
        "Наблюдаем, скачек, падение, и затем еще больший скачек относительной конверсии группы B по отношению к группе A. Похоже, что конверсия группы B стремится стабилизироваться на уровне на 15% лучше группы A."
      ]
    },
    {
      "cell_type": "markdown",
      "id": "fd61a81e",
      "metadata": {
        "id": "fd61a81e"
      },
      "source": [
        "## 2.6. Построим точечный график количества заказов по пользователям."
      ]
    },
    {
      "cell_type": "code",
      "execution_count": null,
      "id": "aa0cffab",
      "metadata": {
        "id": "aa0cffab",
        "outputId": "89e13c25-47c6-4bbb-c1bd-e4efc390b2f7"
      },
      "outputs": [
        {
          "data": {
            "text/html": [
              "<div>\n",
              "<style scoped>\n",
              "    .dataframe tbody tr th:only-of-type {\n",
              "        vertical-align: middle;\n",
              "    }\n",
              "\n",
              "    .dataframe tbody tr th {\n",
              "        vertical-align: top;\n",
              "    }\n",
              "\n",
              "    .dataframe thead th {\n",
              "        text-align: right;\n",
              "    }\n",
              "</style>\n",
              "<table border=\"1\" class=\"dataframe\">\n",
              "  <thead>\n",
              "    <tr style=\"text-align: right;\">\n",
              "      <th></th>\n",
              "      <th>visitorId</th>\n",
              "      <th>orders</th>\n",
              "    </tr>\n",
              "  </thead>\n",
              "  <tbody>\n",
              "    <tr>\n",
              "      <th>1023</th>\n",
              "      <td>4256040402</td>\n",
              "      <td>11</td>\n",
              "    </tr>\n",
              "    <tr>\n",
              "      <th>591</th>\n",
              "      <td>2458001652</td>\n",
              "      <td>11</td>\n",
              "    </tr>\n",
              "    <tr>\n",
              "      <th>569</th>\n",
              "      <td>2378935119</td>\n",
              "      <td>9</td>\n",
              "    </tr>\n",
              "    <tr>\n",
              "      <th>487</th>\n",
              "      <td>2038680547</td>\n",
              "      <td>8</td>\n",
              "    </tr>\n",
              "    <tr>\n",
              "      <th>44</th>\n",
              "      <td>199603092</td>\n",
              "      <td>5</td>\n",
              "    </tr>\n",
              "    <tr>\n",
              "      <th>744</th>\n",
              "      <td>3062433592</td>\n",
              "      <td>5</td>\n",
              "    </tr>\n",
              "    <tr>\n",
              "      <th>55</th>\n",
              "      <td>237748145</td>\n",
              "      <td>5</td>\n",
              "    </tr>\n",
              "    <tr>\n",
              "      <th>917</th>\n",
              "      <td>3803269165</td>\n",
              "      <td>5</td>\n",
              "    </tr>\n",
              "    <tr>\n",
              "      <th>299</th>\n",
              "      <td>1230306981</td>\n",
              "      <td>5</td>\n",
              "    </tr>\n",
              "    <tr>\n",
              "      <th>897</th>\n",
              "      <td>3717692402</td>\n",
              "      <td>5</td>\n",
              "    </tr>\n",
              "  </tbody>\n",
              "</table>\n",
              "</div>"
            ],
            "text/plain": [
              "       visitorId  orders\n",
              "1023  4256040402      11\n",
              "591   2458001652      11\n",
              "569   2378935119       9\n",
              "487   2038680547       8\n",
              "44     199603092       5\n",
              "744   3062433592       5\n",
              "55     237748145       5\n",
              "917   3803269165       5\n",
              "299   1230306981       5\n",
              "897   3717692402       5"
            ]
          },
          "metadata": {},
          "output_type": "display_data"
        },
        {
          "data": {
            "image/png": "[encoded data removed]",
            "text/plain": [
              "<Figure size 576x504 with 1 Axes>"
            ]
          },
          "metadata": {
            "needs_background": "light"
          },
          "output_type": "display_data"
        }
      ],
      "source": [
        "# Построим точечный график количества заказов по пользователям.\n",
        "\n",
        "# Для этого создадим датафрейм orders_by_visitors\n",
        "\n",
        "orders_by_visitors = (\n",
        "    orders.groupby('visitorId', as_index=False)\n",
        "    .agg({'transactionId': 'nunique'})\n",
        ")\n",
        "\n",
        "orders_by_visitors.columns = ['visitorId', 'orders']\n",
        "\n",
        "display(orders_by_visitors.sort_values(by='orders', ascending=False).head(10))\n",
        "\n",
        "# строим график\n",
        "plt.figure(figsize=[8,7])\n",
        "x_values = pd.Series(range(0,len(orders_by_visitors['orders'])))\n",
        "plt.scatter(x_values, orders_by_visitors['orders'])\n",
        "plt.title('Распределение количества заказов по пользователям', fontsize=20)\n",
        "plt.ylabel('Кол-во заказов', fontsize=16)\n",
        "plt.grid(True)\n",
        "plt.show()"
      ]
    },
    {
      "cell_type": "markdown",
      "id": "93034291",
      "metadata": {
        "id": "93034291"
      },
      "source": [
        "### Вывод:\n",
        "Видим, что большинство пользователей сделало по одному заказу, гораздо меньше по два, едницы сделали по 3 и 4, и есть выбросы в виде сделавших более 4 заказов"
      ]
    },
    {
      "cell_type": "markdown",
      "id": "831f898f",
      "metadata": {
        "id": "831f898f"
      },
      "source": [
        "## 2.7. Посчитаем 95-й и 99-й перцентили количества заказов на пользователя"
      ]
    },
    {
      "cell_type": "code",
      "execution_count": null,
      "id": "11ca3f35",
      "metadata": {
        "id": "11ca3f35",
        "outputId": "9365d0d7-89c2-4bf0-cb5f-90257ba99eac"
      },
      "outputs": [
        {
          "name": "stdout",
          "output_type": "stream",
          "text": [
            "[2. 4.]\n"
          ]
        }
      ],
      "source": [
        "# Посчитаем 95-й и 99-й перцентили количества заказов на пользователя\n",
        "\n",
        "print(np.percentile(orders_by_visitors['orders'], [95, 99]))"
      ]
    },
    {
      "cell_type": "markdown",
      "id": "836e9539",
      "metadata": {
        "id": "836e9539"
      },
      "source": [
        "### Вывод:\n",
        "Так как 99% пользователей сделали 4 и менее заказов, определим границу аномалии по 99 перцентилю. Оставим данные о пользователях которые сделали 4 и менее заказа"
      ]
    },
    {
      "cell_type": "markdown",
      "id": "c9e66e3c",
      "metadata": {
        "id": "c9e66e3c"
      },
      "source": [
        "## 2.8. Построим точечный график стоимостей заказов."
      ]
    },
    {
      "cell_type": "code",
      "execution_count": null,
      "id": "b2e33a8d",
      "metadata": {
        "id": "b2e33a8d",
        "outputId": "3266294b-5417-42f1-dcf6-84edf6522093"
      },
      "outputs": [
        {
          "data": {
            "image/png": "[encoded data removed]",
            "text/plain": [
              "<Figure size 1080x648 with 1 Axes>"
            ]
          },
          "metadata": {
            "needs_background": "light"
          },
          "output_type": "display_data"
        }
      ],
      "source": [
        "# Построим точечный график стоимостей заказов.\n",
        "\n",
        "plt.figure(figsize=[15,9])\n",
        "x_values = pd.Series(range(0,len(orders['transactionId'])))\n",
        "plt.scatter(x_values, orders['revenue'])\n",
        "plt.title('Распределение стоимости по заказам', fontsize=20)\n",
        "plt.ylabel('Стоимость заказа, млн руб', fontsize=16)\n",
        "plt.grid(True)\n",
        "plt.show()"
      ]
    },
    {
      "cell_type": "markdown",
      "id": "83bfaf84",
      "metadata": {
        "id": "83bfaf84"
      },
      "source": [
        "### Вывод:\n",
        "Наблюдаем два сильных выброса - заказы на 1.3 млн и на 200 тысяч. Остальные заказы расположились в зоне менее 100 тысяч."
      ]
    },
    {
      "cell_type": "markdown",
      "id": "e1d47224",
      "metadata": {
        "id": "e1d47224"
      },
      "source": [
        "## 2.9. Посчитаем 95-й и 99-й перцентили стоимости заказов."
      ]
    },
    {
      "cell_type": "code",
      "execution_count": null,
      "id": "fbda7c70",
      "metadata": {
        "id": "fbda7c70",
        "outputId": "abd35e08-ec7c-46eb-8e13-3b8bd6b2bbb3"
      },
      "outputs": [
        {
          "name": "stdout",
          "output_type": "stream",
          "text": [
            "[28000.  58233.2]\n"
          ]
        }
      ],
      "source": [
        "# Посчитаем 95-й и 99-й перцентили стоимости заказов.\n",
        "\n",
        "print(np.percentile(orders['revenue'], [95, 99]))"
      ]
    },
    {
      "cell_type": "markdown",
      "id": "f074b506",
      "metadata": {
        "id": "f074b506"
      },
      "source": [
        "### Вывод:\n",
        "Видим, что 95% заказов оказались на сумму менее 28 тысяч. Выберем это значение в качестве границы аномальных значений."
      ]
    },
    {
      "cell_type": "markdown",
      "id": "aab372f2",
      "metadata": {
        "id": "aab372f2"
      },
      "source": [
        "## 2.10. Посчитаем статистическую значимость различий в среднем количестве заказов на посетителя между группами по «сырым» данным."
      ]
    },
    {
      "cell_type": "markdown",
      "id": "788935a7",
      "metadata": {
        "id": "788935a7"
      },
      "source": [
        "Посчитаем статистическую значимость различий в среднем количестве заказов на посетителя между группами по «сырым» данным.\n",
        "\n",
        "<div class = \"alert alert-info\" style=\"border-left: 7px solid blue\">    \n",
        "\n",
        "для этого cформулируем гипотезы (<b>тест 1</b>). <br>\n",
        "- Нулевая: различий в среднем количестве заказов между группами нет. <br>\n",
        "- Альтернативная: различия в среднем между группами есть.\n",
        "\n",
        "В v1 гипотезы были сформулированы в ячейке ниже в комментах.</div>"
      ]
    },
    {
      "cell_type": "code",
      "execution_count": null,
      "id": "0505a61f",
      "metadata": {
        "id": "0505a61f",
        "outputId": "c16af9d3-0710-4adf-b267-cba46ea23856"
      },
      "outputs": [
        {
          "data": {
            "text/html": [
              "<div>\n",
              "<style scoped>\n",
              "    .dataframe tbody tr th:only-of-type {\n",
              "        vertical-align: middle;\n",
              "    }\n",
              "\n",
              "    .dataframe tbody tr th {\n",
              "        vertical-align: top;\n",
              "    }\n",
              "\n",
              "    .dataframe thead th {\n",
              "        text-align: right;\n",
              "    }\n",
              "</style>\n",
              "<table border=\"1\" class=\"dataframe\">\n",
              "  <thead>\n",
              "    <tr style=\"text-align: right;\">\n",
              "      <th></th>\n",
              "      <th>date</th>\n",
              "      <th>ordersPerDateA</th>\n",
              "      <th>revenuePerDateA</th>\n",
              "      <th>ordersPerDateB</th>\n",
              "      <th>revenuePerDateB</th>\n",
              "      <th>ordersCummulativeA</th>\n",
              "      <th>revenueCummulativeA</th>\n",
              "      <th>ordersCummulativeB</th>\n",
              "      <th>revenueCummulativeB</th>\n",
              "      <th>visitorsPerDateA</th>\n",
              "      <th>visitorsPerDateB</th>\n",
              "      <th>visitorsCummulativeA</th>\n",
              "      <th>visitorsCummulativeB</th>\n",
              "    </tr>\n",
              "  </thead>\n",
              "  <tbody>\n",
              "    <tr>\n",
              "      <th>0</th>\n",
              "      <td>2019-08-01</td>\n",
              "      <td>24</td>\n",
              "      <td>148579</td>\n",
              "      <td>21</td>\n",
              "      <td>101217</td>\n",
              "      <td>24</td>\n",
              "      <td>148579</td>\n",
              "      <td>21</td>\n",
              "      <td>101217</td>\n",
              "      <td>719</td>\n",
              "      <td>713</td>\n",
              "      <td>719</td>\n",
              "      <td>713</td>\n",
              "    </tr>\n",
              "    <tr>\n",
              "      <th>1</th>\n",
              "      <td>2019-08-02</td>\n",
              "      <td>20</td>\n",
              "      <td>93822</td>\n",
              "      <td>24</td>\n",
              "      <td>165531</td>\n",
              "      <td>44</td>\n",
              "      <td>242401</td>\n",
              "      <td>45</td>\n",
              "      <td>266748</td>\n",
              "      <td>619</td>\n",
              "      <td>581</td>\n",
              "      <td>1338</td>\n",
              "      <td>1294</td>\n",
              "    </tr>\n",
              "    <tr>\n",
              "      <th>2</th>\n",
              "      <td>2019-08-03</td>\n",
              "      <td>24</td>\n",
              "      <td>112473</td>\n",
              "      <td>16</td>\n",
              "      <td>114248</td>\n",
              "      <td>68</td>\n",
              "      <td>354874</td>\n",
              "      <td>61</td>\n",
              "      <td>380996</td>\n",
              "      <td>507</td>\n",
              "      <td>509</td>\n",
              "      <td>1845</td>\n",
              "      <td>1803</td>\n",
              "    </tr>\n",
              "    <tr>\n",
              "      <th>3</th>\n",
              "      <td>2019-08-04</td>\n",
              "      <td>16</td>\n",
              "      <td>70825</td>\n",
              "      <td>17</td>\n",
              "      <td>108571</td>\n",
              "      <td>84</td>\n",
              "      <td>425699</td>\n",
              "      <td>78</td>\n",
              "      <td>489567</td>\n",
              "      <td>717</td>\n",
              "      <td>770</td>\n",
              "      <td>2562</td>\n",
              "      <td>2573</td>\n",
              "    </tr>\n",
              "    <tr>\n",
              "      <th>4</th>\n",
              "      <td>2019-08-05</td>\n",
              "      <td>25</td>\n",
              "      <td>124218</td>\n",
              "      <td>23</td>\n",
              "      <td>92428</td>\n",
              "      <td>109</td>\n",
              "      <td>549917</td>\n",
              "      <td>101</td>\n",
              "      <td>581995</td>\n",
              "      <td>756</td>\n",
              "      <td>707</td>\n",
              "      <td>3318</td>\n",
              "      <td>3280</td>\n",
              "    </tr>\n",
              "  </tbody>\n",
              "</table>\n",
              "</div>"
            ],
            "text/plain": [
              "        date  ordersPerDateA  revenuePerDateA  ordersPerDateB  \\\n",
              "0 2019-08-01              24           148579              21   \n",
              "1 2019-08-02              20            93822              24   \n",
              "2 2019-08-03              24           112473              16   \n",
              "3 2019-08-04              16            70825              17   \n",
              "4 2019-08-05              25           124218              23   \n",
              "\n",
              "   revenuePerDateB  ordersCummulativeA  revenueCummulativeA  \\\n",
              "0           101217                  24               148579   \n",
              "1           165531                  44               242401   \n",
              "2           114248                  68               354874   \n",
              "3           108571                  84               425699   \n",
              "4            92428                 109               549917   \n",
              "\n",
              "   ordersCummulativeB  revenueCummulativeB  visitorsPerDateA  \\\n",
              "0                  21               101217               719   \n",
              "1                  45               266748               619   \n",
              "2                  61               380996               507   \n",
              "3                  78               489567               717   \n",
              "4                 101               581995               756   \n",
              "\n",
              "   visitorsPerDateB  visitorsCummulativeA  visitorsCummulativeB  \n",
              "0               713                   719                   713  \n",
              "1               581                  1338                  1294  \n",
              "2               509                  1845                  1803  \n",
              "3               770                  2562                  2573  \n",
              "4               707                  3318                  3280  "
            ]
          },
          "metadata": {},
          "output_type": "display_data"
        }
      ],
      "source": [
        "# Посчитаем статистическую значимость различий в среднем количестве заказов на посетителя\n",
        "# между группами по «сырым» данным.\n",
        "\n",
        "# для этого cформулируем гипотезы.\n",
        "# - Нулевая: различий в среднем количестве заказов между группами нет.\n",
        "# - Альтернативная: различия в среднем между группами есть.\n",
        "\n",
        "\n",
        "visitorsADaily = visitors[visitors['group'] == 'A'][['date', 'visitors']]\n",
        "visitorsADaily.columns = ['date', 'visitorsPerDateA']\n",
        "# visitorsPerDateA — количество пользователей в выбранную дату в группе A\n",
        "\n",
        "visitorsACummulative = visitorsADaily.apply(\n",
        "    lambda x: visitorsADaily[visitorsADaily['date'] <= x['date']].agg(\n",
        "        {'date': 'max', 'visitorsPerDateA': 'sum'}\n",
        "    ),\n",
        "    axis=1,\n",
        ")\n",
        "visitorsACummulative.columns = ['date', 'visitorsCummulativeA']\n",
        "# visitorsCummulativeA — количество пользователей до выбранной даты включительно в группе A\n",
        "\n",
        "visitorsBDaily = visitors[visitors['group'] == 'B'][['date', 'visitors']]\n",
        "visitorsBDaily.columns = ['date', 'visitorsPerDateB']\n",
        "# visitorsPerDateB — количество пользователей в выбранную дату в группе B\n",
        "\n",
        "visitorsBCummulative = visitorsBDaily.apply(\n",
        "    lambda x: visitorsBDaily[visitorsBDaily['date'] <= x['date']].agg(\n",
        "        {'date': 'max', 'visitorsPerDateB': 'sum'}\n",
        "    ),\n",
        "    axis=1,\n",
        ")\n",
        "visitorsBCummulative.columns = ['date', 'visitorsCummulativeB']\n",
        "# visitorsCummulativeB — количество пользователей до выбранной даты включительно в группе B\n",
        "\n",
        "ordersADaily = (\n",
        "    orders[orders['group'] == 'A'][['date', 'transactionId', 'visitorId', 'revenue']]\n",
        "    .groupby('date', as_index=False)\n",
        "    .agg({'transactionId': pd.Series.nunique, 'revenue': 'sum'})\n",
        ")\n",
        "ordersADaily.columns = ['date', 'ordersPerDateA', 'revenuePerDateA']\n",
        "# ordersPerDateA — количество заказов в выбранную дату в группе A\n",
        "# revenuePerDateA — суммарная выручка в выбранную дату в группе A\n",
        "\n",
        "ordersACummulative = ordersADaily.apply(\n",
        "    lambda x: ordersADaily[ordersADaily['date'] <= x['date']].agg(\n",
        "        {'date': 'max', 'ordersPerDateA': 'sum', 'revenuePerDateA': 'sum'}\n",
        "    ),\n",
        "    axis=1,\n",
        ").sort_values(by=['date'])\n",
        "ordersACummulative.columns = [\n",
        "    'date',\n",
        "    'ordersCummulativeA',\n",
        "    'revenueCummulativeA',\n",
        "]\n",
        "# ordersCummulativeA — суммарное число заказов до выбранной даты включительно в группе A\n",
        "# revenueCummulativeA — суммарная выручка до выбранной даты включительно в группе A\n",
        "\n",
        "\n",
        "ordersBDaily = (\n",
        "    orders[orders['group'] == 'B'][['date', 'transactionId', 'visitorId', 'revenue']]\n",
        "    .groupby('date', as_index=False)\n",
        "    .agg({'transactionId': pd.Series.nunique, 'revenue': 'sum'})\n",
        ")\n",
        "ordersBDaily.columns = ['date', 'ordersPerDateB', 'revenuePerDateB']\n",
        "# ordersPerDateB — количество заказов в выбранную дату в группе B\n",
        "# revenuePerDateB — суммарная выручка в выбранную дату в группе B\n",
        "\n",
        "ordersBCummulative = ordersBDaily.apply(\n",
        "    lambda x: ordersBDaily[ordersBDaily['date'] <= x['date']].agg(\n",
        "        {'date': 'max', 'ordersPerDateB': 'sum', 'revenuePerDateB': 'sum'}\n",
        "    ),\n",
        "    axis=1,\n",
        ").sort_values(by=['date'])\n",
        "ordersBCummulative.columns = [\n",
        "    'date',\n",
        "    'ordersCummulativeB',\n",
        "    'revenueCummulativeB',\n",
        "]\n",
        "# ordersCummulativeB — суммарное число заказов до выбранной даты включительно в группе B\n",
        "# revenueCummulativeB — суммарная выручка до выбранной даты включительно в группе B\n",
        "\n",
        "\n",
        "data = (\n",
        "    ordersADaily.merge(\n",
        "        ordersBDaily, left_on='date', right_on='date', how='left'\n",
        "    )\n",
        "    .merge(ordersACummulative, left_on='date', right_on='date', how='left')\n",
        "    .merge(ordersBCummulative, left_on='date', right_on='date', how='left')\n",
        "    .merge(visitorsADaily, left_on='date', right_on='date', how='left')\n",
        "    .merge(visitorsBDaily, left_on='date', right_on='date', how='left')\n",
        "    .merge(visitorsACummulative, left_on='date', right_on='date', how='left')\n",
        "    .merge(visitorsBCummulative, left_on='date', right_on='date', how='left')\n",
        ")\n",
        "\n",
        "display(data.head(5))"
      ]
    },
    {
      "cell_type": "code",
      "execution_count": null,
      "id": "8238f2cc",
      "metadata": {
        "id": "8238f2cc"
      },
      "outputs": [],
      "source": [
        "# Посчитаем статистическую значимость различия в среднем количестве заказов между группами.\n",
        "# Создадим переменные orders_by_visitors_A и orders_by_visitors_B со столбцами ['visitorId', 'orders'].\n",
        "# В них для пользователей, которые заказывали хотя бы 1 раз, укажем число совершённых заказов.\n",
        "\n",
        "orders_by_visitors_A = (\n",
        "    orders[orders['group'] == 'A']\n",
        "    .groupby('visitorId', as_index=False)\n",
        "    .agg({'transactionId': pd.Series.nunique})\n",
        ")\n",
        "orders_by_visitors_A.columns = ['visitorId', 'orders']\n",
        "\n",
        "orders_by_visitors_B = (\n",
        "    orders[orders['group'] == 'B']\n",
        "    .groupby('visitorId', as_index=False)\n",
        "    .agg({'transactionId': pd.Series.nunique})\n",
        ")\n",
        "orders_by_visitors_B.columns = ['visitorId', 'orders']\n"
      ]
    },
    {
      "cell_type": "code",
      "execution_count": null,
      "id": "a7e3882e",
      "metadata": {
        "id": "a7e3882e",
        "outputId": "eb074b44-3963-4203-a178-43fda5066df0"
      },
      "outputs": [
        {
          "name": "stdout",
          "output_type": "stream",
          "text": [
            "0.017\n",
            "0.138\n"
          ]
        }
      ],
      "source": [
        "# Объявим переменные sampleA и sampleB, в которых пользователям из разных групп будет\n",
        "# соответствовать количество заказов. Тем, кто ничего не заказал, будут соответствовать нули.\n",
        "\n",
        "sampleA = pd.concat([orders_by_visitors_A['orders'],pd.Series(0, index=np.arange(data['visitorsPerDateA'].sum() - len(orders_by_visitors_A['orders'])), name='orders')],axis=0)\n",
        "\n",
        "sampleB = pd.concat([orders_by_visitors_B['orders'],pd.Series(0, index=np.arange(data['visitorsPerDateB'].sum() - len(orders_by_visitors_B['orders'])), name='orders')],axis=0)\n",
        "\n",
        "# Применим критерий Манна-Уитни и отформатируем p-value, округлив его до трёх знаков после запятой.\n",
        "\n",
        "\n",
        "print(\"{0:.3f}\".format(stats.mannwhitneyu(sampleA, sampleB)[1]))\n",
        "\n",
        "print(\"{0:.3f}\".format(sampleB.mean() / sampleA.mean() - 1))"
      ]
    },
    {
      "cell_type": "markdown",
      "id": "c323eb8b",
      "metadata": {
        "id": "c323eb8b"
      },
      "source": [
        "<div class = \"alert alert-info\" style=\"border-left: 7px solid blue\">    \n",
        "Немного запоздалое обоснование применения критея Мана-Уитни для теста 1<br>\n",
        "    \n",
        "    \n",
        "С помощью критерия Шапиро проверим выборки на нормальное распределение.<br>\n",
        "- Нулевая гипотеза - выборка распределена нормально.<br>\n",
        "- Альтернативная гипотеза - выборка НЕ распределена нормально.<br>\n",
        "     </div>"
      ]
    },
    {
      "cell_type": "code",
      "execution_count": null,
      "id": "9b8f8150",
      "metadata": {
        "id": "9b8f8150",
        "outputId": "fbd66dba-5c8f-4099-a6ff-a5936d4384cf"
      },
      "outputs": [
        {
          "name": "stderr",
          "output_type": "stream",
          "text": [
            "/opt/conda/lib/python3.9/site-packages/scipy/stats/_morestats.py:1800: UserWarning: p-value may not be accurate for N > 5000.\n",
            "  warnings.warn(\"p-value may not be accurate for N > 5000.\")\n"
          ]
        },
        {
          "data": {
            "text/plain": [
              "(ShapiroResult(statistic=0.13177603483200073, pvalue=0.0),\n",
              " ShapiroResult(statistic=0.1508488655090332, pvalue=0.0))"
            ]
          },
          "execution_count": 24,
          "metadata": {},
          "output_type": "execute_result"
        }
      ],
      "source": [
        "stats.shapiro(sampleA), stats.shapiro(sampleB)"
      ]
    },
    {
      "cell_type": "markdown",
      "id": "b896afd0",
      "metadata": {
        "id": "b896afd0"
      },
      "source": [
        "<div class = \"alert alert-info\" style=\"border-left: 7px solid blue\">   \n",
        "p-value обоих выборок равны нулю, то есть отвергаем нулевую гипотезу, то есть выборка не распределена нормально. Можем применять критерий Манна-Уитни.    </div>"
      ]
    },
    {
      "cell_type": "markdown",
      "id": "72a70ab5",
      "metadata": {
        "id": "72a70ab5"
      },
      "source": [
        "### Вывод:\n",
        "По «сырым» данным различия в среднем числе заказов групп A и B есть.\n",
        "Первое число — p-value = 0.017 меньше 0.05. Значит, нулевую гипотезу о том, что статистически значимых различий в среднем числе заказов между группами нет, отвергаем. Относительный прирост группы B равен 13.8% — второе число в выводе."
      ]
    },
    {
      "cell_type": "markdown",
      "id": "795d046d",
      "metadata": {
        "id": "795d046d"
      },
      "source": [
        "## 2.11. Посчитаем статистическую значимость различий в среднем чеке заказа между группами по «сырым» данным.\n",
        "\n",
        "<div class = \"alert alert-info\" style=\"border-left: 7px solid blue\">    \n",
        "Также определим гипотезы (<b>тест 2</b>):<br>\n",
        "- Нулевая: различий в среднем чеке заказа между группами нет. <br>\n",
        "- Альтернативная: различия в среднем чеке заказа между группами есть. </div>"
      ]
    },
    {
      "cell_type": "code",
      "execution_count": null,
      "id": "dbcf9e68",
      "metadata": {
        "id": "dbcf9e68",
        "outputId": "4c652e9d-bc70-49fa-f092-3e36343dac5e"
      },
      "outputs": [
        {
          "name": "stdout",
          "output_type": "stream",
          "text": [
            "0.729\n",
            "0.259\n"
          ]
        }
      ],
      "source": [
        "# Найдём относительные различия в среднем чеке между группами.\n",
        "# Также с помощью критерия Манна-Уитни\n",
        "\n",
        "print('{0:.3f}'.format(stats.mannwhitneyu(orders[orders['group']=='A']['revenue'], orders[orders['group']=='B']['revenue'])[1]))\n",
        "print('{0:.3f}'.format(orders[orders['group']=='B']['revenue'].mean()/orders[orders['group']=='A']['revenue'].mean()-1))"
      ]
    },
    {
      "cell_type": "markdown",
      "id": "e9a2cf93",
      "metadata": {
        "id": "e9a2cf93"
      },
      "source": [
        "### Вывод:\n",
        "P-value значительно больше 0.05. Значит, причин отвергать нулевую гипотезу и считать, что в среднем чеке есть различия, нет. В исследовании выше мы видели, что средний чек был подвержен колебаниям, может быть дело в аномальных заказах."
      ]
    },
    {
      "cell_type": "markdown",
      "id": "6408e7f6",
      "metadata": {
        "id": "6408e7f6"
      },
      "source": [
        "<div class = \"alert alert-info\" style=\"border-left: 7px solid blue\">    \n",
        "Немного запоздалое обоснование применения критея Мана-Уитни для теста 2<br>\n",
        "    \n",
        "    \n",
        "С помощью критерия Шапиро проверим выборки на нормальное распределение.<br>\n",
        "- Нулевая гипотеза - выборка распределена нормально.<br>\n",
        "- Альтернативная гипотеза - выборка НЕ распределена нормально.<br>\n",
        "     </div>"
      ]
    },
    {
      "cell_type": "code",
      "execution_count": null,
      "id": "6564b538",
      "metadata": {
        "id": "6564b538",
        "outputId": "14e17f13-6fd8-4422-fced-ceac98db5822"
      },
      "outputs": [
        {
          "data": {
            "text/plain": [
              "(ShapiroResult(statistic=0.580496072769165, pvalue=1.739723833199812e-34),\n",
              " ShapiroResult(statistic=0.0856371521949768, pvalue=0.0))"
            ]
          },
          "execution_count": 26,
          "metadata": {},
          "output_type": "execute_result"
        }
      ],
      "source": [
        "stats.shapiro(orders[orders['group']=='A']['revenue']), stats.shapiro(orders[orders['group']=='B']['revenue'])"
      ]
    },
    {
      "cell_type": "markdown",
      "id": "a6aa0547",
      "metadata": {
        "id": "a6aa0547"
      },
      "source": [
        "<div class = \"alert alert-info\" style=\"border-left: 7px solid blue\">   \n",
        "p-value обоих выборок стемятся к нулю, то есть отвергаем нулевую гипотезу, то есть выборки не распределены нормально. Можем применять критерий Манна-Уитни.   </div>"
      ]
    },
    {
      "cell_type": "markdown",
      "id": "f420ef6e",
      "metadata": {
        "id": "f420ef6e"
      },
      "source": [
        "## 2.12. Посчитаем статистическую значимость различий в среднем количестве заказов на посетителя между группами по «очищенным» данным\n",
        "\n",
        "Примем за аномальных пользователей тех, кто совершил от 5 заказов (добавим их в usersWithManyOrders) или сделал заказы на сумму более 28000 (добавим в usersWithExpensiveOrders)."
      ]
    },
    {
      "cell_type": "code",
      "execution_count": null,
      "id": "6fe499ba",
      "metadata": {
        "id": "6fe499ba",
        "outputId": "1f5bcdef-6195-4d98-e548-593219717139"
      },
      "outputs": [
        {
          "name": "stdout",
          "output_type": "stream",
          "text": [
            "1099    148427295\n",
            "928     204675465\n",
            "684     358944393\n",
            "648     382846391\n",
            "1189    393266494\n",
            "Name: visitorId, dtype: int64\n",
            "59\n"
          ]
        }
      ],
      "source": [
        "usersWithManyOrders = pd.concat(\n",
        "    [\n",
        "        orders_by_visitors_A[orders_by_visitors_A['orders'] > 4]['visitorId'],\n",
        "        orders_by_visitors_B[orders_by_visitors_B['orders'] > 4]['visitorId'],\n",
        "    ],\n",
        "    axis=0,\n",
        ")\n",
        "\n",
        "usersWithExpensiveOrders = orders[orders['revenue'] > 28000]['visitorId']\n",
        "abnormalUsers = (\n",
        "    pd.concat([usersWithManyOrders, usersWithExpensiveOrders], axis=0)\n",
        "    .drop_duplicates()\n",
        "    .sort_values()\n",
        ")\n",
        "\n",
        "print(abnormalUsers.head(5))\n",
        "print(abnormalUsers.shape[0])"
      ]
    },
    {
      "cell_type": "markdown",
      "id": "dbbf7d1c",
      "metadata": {
        "id": "dbbf7d1c"
      },
      "source": [
        "59 аномальных пользователей.\n",
        "\n",
        "Очистим данные от них и посчитаем\n",
        "статистическую значимость различий в среднем количестве заказов на посетителя\n",
        "с помощью критерия Манна-Уитни.\n",
        "\n",
        "<div class = \"alert alert-info\" style=\"border-left: 7px solid blue\">\n",
        "Гипотезы сформулируем аналогичным образом (<b>тест 3</b>):<br>\n",
        "- Нулевая: различий в среднем количестве заказов между группами нет. <br>\n",
        "- Альтернативная: различия в среднем между группами есть.</div>"
      ]
    },
    {
      "cell_type": "code",
      "execution_count": null,
      "id": "5cb9b263",
      "metadata": {
        "id": "5cb9b263",
        "outputId": "a00a9a4b-9f23-4235-f280-a8a3fe27aa36"
      },
      "outputs": [
        {
          "name": "stdout",
          "output_type": "stream",
          "text": [
            "0.018\n",
            "0.145\n"
          ]
        }
      ],
      "source": [
        "sampleAFiltered = pd.concat(\n",
        "    [\n",
        "        orders_by_visitors_A[\n",
        "            np.logical_not(orders_by_visitors_A['visitorId'].isin(abnormalUsers))\n",
        "        ]['orders'],\n",
        "        pd.Series(\n",
        "            0,\n",
        "            index=np.arange(\n",
        "                data['visitorsPerDateA'].sum() - len(orders_by_visitors_A['orders'])\n",
        "            ),\n",
        "            name='orders',\n",
        "        ),\n",
        "    ],\n",
        "    axis=0,\n",
        ")\n",
        "\n",
        "sampleBFiltered = pd.concat(\n",
        "    [\n",
        "        orders_by_visitors_B[\n",
        "            np.logical_not(orders_by_visitors_B['visitorId'].isin(abnormalUsers))\n",
        "        ]['orders'],\n",
        "        pd.Series(\n",
        "            0,\n",
        "            index=np.arange(\n",
        "                data['visitorsPerDateB'].sum() - len(orders_by_visitors_B['orders'])\n",
        "            ),\n",
        "            name='orders',\n",
        "        ),\n",
        "    ],\n",
        "    axis=0,\n",
        ")\n",
        "\n",
        "print('{0:.3f}'.format(stats.mannwhitneyu(sampleAFiltered, sampleBFiltered, alternative=\"two-sided\")[1]))\n",
        "print('{0:.3f}'.format(sampleBFiltered.mean()/sampleAFiltered.mean()-1))"
      ]
    },
    {
      "cell_type": "markdown",
      "id": "e210da7c",
      "metadata": {
        "id": "e210da7c"
      },
      "source": [
        "### Вывод:\n",
        "По «очищенным» данным различия в среднем числе заказов групп A и B есть. Первое число — p-value = 0.018 увеличилось по сравнению с результатом по \"сырым\" данным, однако все еще сильно меньше 0.05. Значит, нулевую гипотезу о том, что статистически значимых различий в среднем числе заказов между группами нет, отвергаем. Относительный прирост группы B еще сильнее увеличился и равен 14.5%."
      ]
    },
    {
      "cell_type": "markdown",
      "id": "59143e53",
      "metadata": {
        "id": "59143e53"
      },
      "source": [
        "## 2.13. Посчитаем статистическую значимость различий в среднем чеке заказа между группами по «очищенным» данным.\n",
        "\n",
        "<div class = \"alert alert-info\" style=\"border-left: 7px solid blue\">\n",
        "Также определим гипотезы (<b>тест 4</b>):<br>\n",
        "- Нулевая: различий в среднем чеке заказа между группами нет. <br>\n",
        "- Альтернативная: различия в среднем чеке заказа между группами есть.</div>"
      ]
    },
    {
      "cell_type": "code",
      "execution_count": null,
      "id": "f5ee1dfd",
      "metadata": {
        "id": "f5ee1dfd",
        "outputId": "afb4d798-44b2-461b-9c6c-3e1ec83d301b"
      },
      "outputs": [
        {
          "name": "stdout",
          "output_type": "stream",
          "text": [
            "0.961\n",
            "-0.014\n"
          ]
        }
      ],
      "source": [
        "print(\n",
        "    '{0:.3f}'.format(\n",
        "        stats.mannwhitneyu(\n",
        "            orders[\n",
        "                np.logical_and(\n",
        "                    orders['group'] == 'A',\n",
        "                    np.logical_not(orders['visitorId'].isin(abnormalUsers)),\n",
        "                )\n",
        "            ]['revenue'],\n",
        "            orders[\n",
        "                np.logical_and(\n",
        "                    orders['group'] == 'B',\n",
        "                    np.logical_not(orders['visitorId'].isin(abnormalUsers)),\n",
        "                )\n",
        "            ]['revenue'],\n",
        "        )[1]\n",
        "    )\n",
        ")\n",
        "\n",
        "print(\n",
        "    \"{0:.3f}\".format(\n",
        "        orders[\n",
        "            np.logical_and(\n",
        "                orders['group'] == 'B',\n",
        "                np.logical_not(orders['visitorId'].isin(abnormalUsers)),\n",
        "            )\n",
        "        ]['revenue'].mean()\n",
        "        / orders[\n",
        "            np.logical_and(\n",
        "                orders['group'] == 'A',\n",
        "                np.logical_not(orders['visitorId'].isin(abnormalUsers)),\n",
        "            )\n",
        "        ]['revenue'].mean()\n",
        "        - 1\n",
        "    )\n",
        ")\n",
        "\n"
      ]
    },
    {
      "cell_type": "markdown",
      "id": "a33364a2",
      "metadata": {
        "id": "a33364a2"
      },
      "source": [
        "### Вывод:\n",
        "P-value по очищенных данным еще увеличился и тем более больше 0.05. Значит, причин отвергать нулевую гипотезу и считать, что в среднем чеке есть различия, нет. И аномальные пользователи и заказы здесь не играют роли. Средний чек остется на прежнем уровне."
      ]
    },
    {
      "cell_type": "markdown",
      "id": "fd094331",
      "metadata": {
        "id": "fd094331"
      },
      "source": [
        "## 2.14. Примите решение по результатам теста и объясните его. Варианты решений:\n",
        "1. Остановить тест, зафиксировать победу одной из групп.\n",
        "2. Остановить тест, зафиксировать отсутствие различий между группами.\n",
        "3. Продолжить тест.\n",
        "\n",
        "После внедрения изменений количество заказов в группе B показало рост,\n",
        "Cредний чек в группах A и B остался на прежнем уровне.\n",
        "В сумме эти два фактора дают увеличение выручки для интернет-магазина.\n",
        "#### Принимаем решение остановить тест, зафиксировать победу группы B."
      ]
    },
    {
      "cell_type": "markdown",
      "id": "ab13932b",
      "metadata": {
        "id": "ab13932b"
      },
      "source": [
        "# Общие выводы по результатам исследования:\n",
        "\n",
        "#### 2.1. По графику кумулятивной выручки по группам наблюдаем:\n",
        "- выручка увеличивается в течение всего теста в обеих группах\n",
        "- выручка группы B примерно с середины теста выручка больше\n",
        "- на графиках присутствует резкий скачек в группе B районе 18-19 августа, возможно были аномальные скачки числа покупателей либо суммы покупок (нужно проверить выбросы в выборке)\n",
        "\n",
        "#### 2.2. По графику кумулятивного среднего чека по группам видим\n",
        "- средний чек для группы A становится равномерным после локального пика 2019-08-13\n",
        "- средний чек для группы B делает очень большой скачек 2019-08-18, затем идет на снижение.\n",
        "Возможно в этот период был аномально дорогой заказ. Возможно также, что средний чек для группы B еще не установился возле своего среднего значения.\n",
        "\n",
        "#### 2.3. По графику относительного различия для среднего чека группы B к группе A\n",
        "Видим, как средний чек группы B становится больше чем для группы A, затем падает обратно в зону меньше чем у группы A, затем резко возрастает и становится больше. Нельзя сказать, стабилировалось ли значение на данный момент и для какой группы средний чек выше.\n",
        "\n",
        "#### 2.4. По графику кумулятивного среднего количества заказов на посетителя по группам.\n",
        "среднее количество заказов на посетителя по группам резко росло и падало в обеих группах, затем стабилизировалось для группы B выше чем для группы A.\n",
        "\n",
        "#### 2.5. По графику относительного изменения кумулятивного среднего количества заказов на посетителя группы B к группе A наблюдаем:\n",
        "скачек, затем падение, и затем еще больший скачек относительной конверсии группы B по отношению к группе A. Похоже, что конверсия группы B стремится стабилизироваться на уровне примерно на 15% лучше группы A.\n",
        "\n",
        "#### 2.6. По точечному графику количества заказов по пользователям видим, что большинство пользователей сделало по одному заказу, гораздо меньше по два, едницы сделали по 3 и 4, и есть выбросы в виде сделавших более 4 заказов.\n",
        "\n",
        "#### 2.7. Рассчитав 95-й и 99-й перцентили количества заказов на пользователя, видим:\n",
        "- 99% пользователей сделали 4 и менее заказов, определим границу аномалии по 99 перцентилю.\n",
        "Аномальными считаем данные о пользователях которые сделали более 4 заказов.\n",
        "\n",
        "#### 2.8. По точечному графику стоимостей заказов наблюдаем два сильных выброса - заказы на 1.3 млн и на 200 тысяч. Остальные заказы расположились в зоне менее 100 тысяч.\n",
        "\n",
        "#### 2.9. Посчитав 95-й и 99-й перцентили стоимости заказов, видим:\n",
        "- 95% заказов оказались на сумму менее 28 тысяч.\n",
        "Выберем это значение в качестве границы аномальных значений.\n",
        "\n",
        "#### 2.10. Посчитали статистическую значимость различий в среднем количестве заказов на посетителя между группами по «сырым» данным.\n",
        "Для этого cформулировали гипотезы.\n",
        "- Нулевая: различий в среднем количестве заказов между группами нет.\n",
        "- Альтернативная: различия в среднем между группами есть. ✅\n",
        "\n",
        "По «сырым» данным различия в среднем числе заказов групп A и B есть. Первое число — p-value = 0.017 меньше 0.05. Значит, нулевую гипотезу о том, что статистически значимых различий в среднем числе заказов между группами нет, отвергаем. Относительный прирост группы B равен 13.8% — второе число в выводе.\n",
        "\n",
        "#### 2.11. Посчитали статистическую значимость различий в среднем чеке заказа между группами по «сырым» данным.\n",
        "cформулировали гипотезы:\n",
        "- Нулевая: различий в среднем чеке заказа между группами нет. ✅\n",
        "- Альтернативная: различия в среднем чеке заказа между группами есть.\n",
        "\n",
        "P-value значительно больше 0.05. Значит, причин отвергать нулевую гипотезу и считать, что в среднем чеке есть различия, нет. В исследовании выше мы видели, что средний чек был подвержен колебаниям, может быть дело в аномальных заказах.\n",
        "\n",
        "#### 2.12. Посчитали статистическую значимость различий в среднем количестве заказов на посетителя между группами по «очищенным» данным.\n",
        "Приняли за аномальных пользователей тех, кто совершил от 5 заказов или сделал заказы на сумму более 28000.\n",
        "\n",
        "cформулировали гипотезы:\n",
        "- Нулевая: различий в среднем количестве заказов между группами нет.\n",
        "- Альтернативная: различия в среднем между группами есть. ✅\n",
        "\n",
        "По «очищенным» данным различия в среднем числе заказов групп A и B есть. Первое число — p-value = 0.018 увеличилось по сравнению с результатом по \"сырым\" данным, однако все еще сильно меньше 0.05. Значит, нулевую гипотезу о том, что статистически значимых различий в среднем числе заказов между группами нет, отвергаем. Относительный прирост группы B еще сильнее увеличился и равен 14.5%.\n",
        "\n",
        "#### 2.13. Посчитали статистическую значимость различий в среднем чеке заказа между группами по «очищенным» данным.\n",
        "\n",
        "cформулировали гипотезы:\n",
        "- Нулевая: различий в среднем чеке заказа между группами нет. ✅\n",
        "- Альтернативная: различия в среднем чеке заказа между группами есть.\n",
        "\n",
        "P-value по очищенных данным еще увеличился и тем более больше 0.05. Значит, причин отвергать нулевую гипотезу и считать, что в среднем чеке есть различия, нет. И аномальные пользователи и заказы здесь не играют роли. Средний чек остется на прежнем уровне.\n",
        "\n",
        "После внедрения изменений количество заказов в группе B показало рост,\n",
        "Cредний чек в группах A и B остался на прежнем уровне.\n",
        "В сумме эти два фактора дают увеличение выручки для интернет-магазина.\n",
        "#### Принимаем решение остановить тест, зафиксировать победу группы B."
      ]
    }
  ],
  "metadata": {
    "ExecuteTimeLog": [
      {
        "duration": 2269,
        "start_time": "2023-02-08T14:59:43.376Z"
      },
      {
        "duration": 102,
        "start_time": "2023-02-08T14:59:45.648Z"
      },
      {
        "duration": 8,
        "start_time": "2023-02-08T14:59:45.751Z"
      },
      {
        "duration": 19,
        "start_time": "2023-02-08T14:59:45.762Z"
      },
      {
        "duration": 8,
        "start_time": "2023-02-08T14:59:45.783Z"
      },
      {
        "duration": 171,
        "start_time": "2023-02-08T14:59:45.793Z"
      },
      {
        "duration": 7,
        "start_time": "2023-02-08T14:59:45.967Z"
      },
      {
        "duration": 42,
        "start_time": "2023-02-08T14:59:45.975Z"
      },
      {
        "duration": 339,
        "start_time": "2023-02-08T14:59:46.020Z"
      },
      {
        "duration": 370,
        "start_time": "2023-02-08T14:59:46.362Z"
      },
      {
        "duration": 223,
        "start_time": "2023-02-08T14:59:46.734Z"
      },
      {
        "duration": 394,
        "start_time": "2023-02-08T14:59:46.960Z"
      },
      {
        "duration": 321,
        "start_time": "2023-02-08T14:59:47.356Z"
      },
      {
        "duration": 394,
        "start_time": "2023-02-08T14:59:47.679Z"
      },
      {
        "duration": 163,
        "start_time": "2023-02-08T14:59:48.076Z"
      },
      {
        "duration": 5,
        "start_time": "2023-02-08T14:59:48.241Z"
      },
      {
        "duration": 200,
        "start_time": "2023-02-08T14:59:48.247Z"
      },
      {
        "duration": 4,
        "start_time": "2023-02-08T14:59:48.449Z"
      },
      {
        "duration": 282,
        "start_time": "2023-02-08T14:59:48.455Z"
      },
      {
        "duration": 216,
        "start_time": "2023-02-08T14:59:48.739Z"
      },
      {
        "duration": 41,
        "start_time": "2023-02-08T14:59:48.957Z"
      },
      {
        "duration": 22,
        "start_time": "2023-02-08T14:59:49.000Z"
      },
      {
        "duration": 18,
        "start_time": "2023-02-08T14:59:49.024Z"
      },
      {
        "duration": 36,
        "start_time": "2023-02-08T14:59:49.045Z"
      },
      {
        "duration": 25,
        "start_time": "2023-02-08T14:59:49.101Z"
      },
      {
        "duration": 1293,
        "start_time": "2023-02-09T15:12:01.772Z"
      },
      {
        "duration": 99,
        "start_time": "2023-02-09T15:12:03.067Z"
      },
      {
        "duration": 9,
        "start_time": "2023-02-09T15:12:03.168Z"
      },
      {
        "duration": 18,
        "start_time": "2023-02-09T15:12:03.180Z"
      },
      {
        "duration": 27,
        "start_time": "2023-02-09T15:12:03.199Z"
      },
      {
        "duration": 254,
        "start_time": "2023-02-09T15:12:03.227Z"
      },
      {
        "duration": 5,
        "start_time": "2023-02-09T15:12:03.483Z"
      },
      {
        "duration": 34,
        "start_time": "2023-02-09T15:12:03.490Z"
      },
      {
        "duration": 19,
        "start_time": "2023-02-09T15:12:03.526Z"
      },
      {
        "duration": 11,
        "start_time": "2023-02-09T15:12:03.549Z"
      },
      {
        "duration": 300,
        "start_time": "2023-02-09T15:12:03.561Z"
      },
      {
        "duration": 307,
        "start_time": "2023-02-09T15:12:03.862Z"
      },
      {
        "duration": 234,
        "start_time": "2023-02-09T15:12:04.170Z"
      },
      {
        "duration": 344,
        "start_time": "2023-02-09T15:12:04.406Z"
      },
      {
        "duration": 275,
        "start_time": "2023-02-09T15:12:04.751Z"
      },
      {
        "duration": 355,
        "start_time": "2023-02-09T15:12:05.028Z"
      },
      {
        "duration": 159,
        "start_time": "2023-02-09T15:12:05.391Z"
      },
      {
        "duration": 3,
        "start_time": "2023-02-09T15:12:05.552Z"
      },
      {
        "duration": 195,
        "start_time": "2023-02-09T15:12:05.557Z"
      },
      {
        "duration": 5,
        "start_time": "2023-02-09T15:12:05.753Z"
      },
      {
        "duration": 256,
        "start_time": "2023-02-09T15:12:05.760Z"
      },
      {
        "duration": 211,
        "start_time": "2023-02-09T15:12:06.018Z"
      },
      {
        "duration": 27,
        "start_time": "2023-02-09T15:12:06.231Z"
      },
      {
        "duration": 13,
        "start_time": "2023-02-09T15:12:06.259Z"
      },
      {
        "duration": 26,
        "start_time": "2023-02-09T15:12:06.273Z"
      },
      {
        "duration": 10,
        "start_time": "2023-02-09T15:12:06.301Z"
      },
      {
        "duration": 11,
        "start_time": "2023-02-09T15:12:06.313Z"
      },
      {
        "duration": 30,
        "start_time": "2023-02-09T15:12:06.326Z"
      },
      {
        "duration": 35,
        "start_time": "2023-02-09T15:12:06.357Z"
      }
    ],
    "kernelspec": {
      "display_name": "Python 3 (ipykernel)",
      "language": "python",
      "name": "python3"
    },
    "language_info": {
      "codemirror_mode": {
        "name": "ipython",
        "version": 3
      },
      "file_extension": ".py",
      "mimetype": "text/x-python",
      "name": "python",
      "nbconvert_exporter": "python",
      "pygments_lexer": "ipython3",
      "version": "3.9.13"
    },
    "toc": {
      "base_numbering": 1,
      "nav_menu": {},
      "number_sections": true,
      "sideBar": true,
      "skip_h1_title": true,
      "title_cell": "Table of Contents",
      "title_sidebar": "Contents",
      "toc_cell": false,
      "toc_position": {},
      "toc_section_display": true,
      "toc_window_display": false
    },
    "colab": {
      "provenance": [],
      "include_colab_link": true
    }
  },
  "nbformat": 4,
  "nbformat_minor": 5
}